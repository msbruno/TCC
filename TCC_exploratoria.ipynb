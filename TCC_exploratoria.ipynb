{
 "cells": [
  {
   "cell_type": "code",
   "execution_count": 1,
   "metadata": {},
   "outputs": [],
   "source": [
    "import pandas as  pd\n",
    "import numpy  as  np\n",
    "import matplotlib.pyplot  as plt\n",
    "import seaborn as sns\n",
    "import statsmodels.api as sm\n",
    "from statsmodels.formula.api import ols\n",
    "from scipy import stats\n",
    "import statsmodels.api as sm_api\n",
    "from sklearn import preprocessing\n",
    "from scipy.stats import chi2_contingency"
   ]
  },
  {
   "cell_type": "code",
   "execution_count": 2,
   "metadata": {},
   "outputs": [],
   "source": [
    "df  = pd.read_csv(r'/home/silva/Downloads/lista_empregados2.csv')"
   ]
  },
  {
   "cell_type": "code",
   "execution_count": 3,
   "metadata": {},
   "outputs": [
    {
     "name": "stderr",
     "output_type": "stream",
     "text": [
      "/home/silva/.local/lib/python3.6/site-packages/ipykernel_launcher.py:11: SettingWithCopyWarning: \n",
      "A value is trying to be set on a copy of a slice from a DataFrame.\n",
      "Try using .loc[row_indexer,col_indexer] = value instead\n",
      "\n",
      "See the caveats in the documentation: http://pandas.pydata.org/pandas-docs/stable/indexing.html#indexing-view-versus-copy\n",
      "  # This is added back by InteractiveShellApp.init_path()\n",
      "/home/silva/.local/lib/python3.6/site-packages/ipykernel_launcher.py:12: SettingWithCopyWarning: \n",
      "A value is trying to be set on a copy of a slice from a DataFrame.\n",
      "Try using .loc[row_indexer,col_indexer] = value instead\n",
      "\n",
      "See the caveats in the documentation: http://pandas.pydata.org/pandas-docs/stable/indexing.html#indexing-view-versus-copy\n",
      "  if sys.path[0] == '':\n",
      "/home/silva/.local/lib/python3.6/site-packages/ipykernel_launcher.py:16: SettingWithCopyWarning: \n",
      "A value is trying to be set on a copy of a slice from a DataFrame.\n",
      "Try using .loc[row_indexer,col_indexer] = value instead\n",
      "\n",
      "See the caveats in the documentation: http://pandas.pydata.org/pandas-docs/stable/indexing.html#indexing-view-versus-copy\n",
      "  app.launch_new_instance()\n",
      "/home/silva/.local/lib/python3.6/site-packages/ipykernel_launcher.py:17: SettingWithCopyWarning: \n",
      "A value is trying to be set on a copy of a slice from a DataFrame.\n",
      "Try using .loc[row_indexer,col_indexer] = value instead\n",
      "\n",
      "See the caveats in the documentation: http://pandas.pydata.org/pandas-docs/stable/indexing.html#indexing-view-versus-copy\n",
      "/home/silva/.local/lib/python3.6/site-packages/ipykernel_launcher.py:18: SettingWithCopyWarning: \n",
      "A value is trying to be set on a copy of a slice from a DataFrame.\n",
      "Try using .loc[row_indexer,col_indexer] = value instead\n",
      "\n",
      "See the caveats in the documentation: http://pandas.pydata.org/pandas-docs/stable/indexing.html#indexing-view-versus-copy\n"
     ]
    }
   ],
   "source": [
    "df_perfil = df\n",
    "\n",
    "#Ajusta código empregado\n",
    "df_perfil['COD_EMPREGADO'] = df_perfil['COD_EMPREGADO'].apply(str)\n",
    "df_perfil['COD_EMPREGADO'] = 'B' + df_perfil['COD_EMPREGADO']\n",
    "\n",
    "#Filtra colunas\n",
    "df_perfil = df_perfil[['COD_EMPREGADO', 'DATA_ADMISSAO', 'DATA_NASCIMENTO', 'NIVEL_FUNCAO', 'EST_CIVIL', 'SEXO', 'DEP_CRECHE_BABA']]\n",
    "\n",
    "#modifica tipo coluna\n",
    "df_perfil['DATA_NASCIMENTO'] = df_perfil['DATA_NASCIMENTO'].apply(pd.to_datetime)\n",
    "df_perfil['DATA_ADMISSAO'] = df_perfil['DATA_ADMISSAO'].apply(pd.to_datetime)\n",
    "\n",
    "#Calcular tempo/idade\n",
    "ano_hoje = pd.datetime.today().year\n",
    "df_perfil['TEMPO_EMPRESA'] = ano_hoje -  df_perfil['DATA_ADMISSAO'].dt.year \n",
    "df_perfil['IDADE'] = ano_hoje - df_perfil['DATA_NASCIMENTO'].dt.year\n",
    "df_perfil['COD_USUARIO'] = df_perfil['COD_EMPREGADO']"
   ]
  },
  {
   "cell_type": "code",
   "execution_count": 63,
   "metadata": {},
   "outputs": [],
   "source": [
    "#Cria classe\n",
    "def cria_classe(valor, media, classe_abaixo, classe_acima):\n",
    "    if valor > media:\n",
    "        return classe_acima\n",
    "    return classe_abaixo\n",
    "\n",
    "#Boxplot\n",
    "def plot_boxplot(df_class, df_features_standardized, w, h, classe):\n",
    "    df_standardized = pd.concat([df_class,df_features_standardized],axis=1)\n",
    "    df_melted = pd.melt(df_standardized,\n",
    "                    id_vars=classe,\n",
    "                    var_name=\"features\",\n",
    "                    value_name='value')\n",
    "    plt.figure(figsize=(w,h))\n",
    "    sns.boxplot(x=\"features\", y=\"value\", hue=classe, data=df_melted)\n",
    "    \n",
    "def binning(col, method='doane'):\n",
    "    hist, bin_edges = np.histogram(col, method)\n",
    "    bined_values = np.digitize(col, bin_edges)\n",
    "    bin_interval = list()\n",
    "    for x in range(0, len(bin_edges)):\n",
    "        if x == 0:\n",
    "            bin_interval.append('(-Inf,{0})'.format(bin_edges[x]))\n",
    "        elif x == (len(bin_edges) - 1):\n",
    "            # bin_interval.append('({0},Inf)'.format(bin_edges[x]))\n",
    "            continue\n",
    "        else:\n",
    "            bin_interval.append('({0},{1})'.format(bin_edges[x], bin_edges[x+1]))\n",
    "\n",
    "    # Binning using cut function of pandas\n",
    "    colBin = pd.cut(col, bins=bin_edges, labels=bin_interval, include_lowest=True)\n",
    "\n",
    "    return colBin\n",
    "\n",
    "def unstack_group(df, y, group):\n",
    "    group.append(y)\n",
    "    groupsizes = df.groupby(group).size()\n",
    "    ctsum = groupsizes.unstack(y)\n",
    "    return ctsum.fillna(0)"
   ]
  },
  {
   "cell_type": "markdown",
   "metadata": {},
   "source": [
    "### Leitura dataset"
   ]
  },
  {
   "cell_type": "code",
   "execution_count": 5,
   "metadata": {},
   "outputs": [],
   "source": [
    "df_cobertura = pd.read_csv(r'/home/silva/Downloads/tcc/cobertura_individual.csv')\n",
    "df_cobertura['CSS'] = df_cobertura['CSS'].str.upper()\n",
    "df_cobertura['NOME_CLASSE'] = df_cobertura['NOME_CLASSE'].str.upper()\n",
    "df_cobertura['DATA'] = df_cobertura['ULT_ATUALIZACAO'].apply(pd.to_datetime)\n",
    "\n",
    "#Remover sistemas não interessantes para o estudo\n",
    "df_cobertura = df_cobertura[~df_cobertura['CSS'].str.startswith('PXC')]"
   ]
  },
  {
   "cell_type": "markdown",
   "metadata": {},
   "source": [
    "#### Agrupamento dataset"
   ]
  },
  {
   "cell_type": "code",
   "execution_count": 6,
   "metadata": {},
   "outputs": [],
   "source": [
    "#Seleciona ultima cobertura da classe\n",
    "df_cobertura_ajustada = df_cobertura.sort_values('DATA').groupby(['NOME_CLASSE', 'COD_USUARIO']).tail(1)\n",
    "#cria percentual coberto\n",
    "df_cobertura_ajustada['PORCENTAGEM_COBERTA'] = 100 * df_cobertura_ajustada['LINHAS_COBERTAS'] / (df_cobertura_ajustada['LINHAS_NAO_COBERTAS'] + df_cobertura_ajustada['LINHAS_COBERTAS'])"
   ]
  },
  {
   "cell_type": "markdown",
   "metadata": {},
   "source": [
    "#### Merge Datasets"
   ]
  },
  {
   "cell_type": "code",
   "execution_count": 7,
   "metadata": {},
   "outputs": [],
   "source": [
    "df_final = pd.merge(df_cobertura_ajustada, df_perfil, on='COD_USUARIO', how='inner')"
   ]
  },
  {
   "cell_type": "markdown",
   "metadata": {},
   "source": [
    "# Verificações"
   ]
  },
  {
   "cell_type": "markdown",
   "metadata": {},
   "source": [
    "## Verificação cobertura por ocorrência"
   ]
  },
  {
   "cell_type": "code",
   "execution_count": 8,
   "metadata": {},
   "outputs": [
    {
     "data": {
      "text/plain": [
       "Text(0.5, 0.98, 'Porcentagem de cobertura de teste')"
      ]
     },
     "execution_count": 8,
     "metadata": {},
     "output_type": "execute_result"
    },
    {
     "data": {
      "image/png": "[encoded data removed]",
      "text/plain": [
       "<Figure size 432x288 with 1 Axes>"
      ]
     },
     "metadata": {
      "needs_background": "light"
     },
     "output_type": "display_data"
    }
   ],
   "source": [
    "df_final['PORCENTAGEM_COBERTA'].hist()\n",
    "plt.suptitle(\"Porcentagem de cobertura de teste\")"
   ]
  },
  {
   "cell_type": "markdown",
   "metadata": {},
   "source": [
    "## Filtro para remover cobertura abaixo de 20"
   ]
  },
  {
   "cell_type": "code",
   "execution_count": 9,
   "metadata": {},
   "outputs": [
    {
     "name": "stdout",
     "output_type": "stream",
     "text": [
      "mediana: 85.18518518518519\n",
      "count    2534.000000\n",
      "mean       69.797164\n",
      "std        32.804781\n",
      "min         0.000000\n",
      "25%        58.887561\n",
      "50%        81.496476\n",
      "75%        94.444444\n",
      "max       100.000000\n",
      "Name: PORCENTAGEM_COBERTA, dtype: float64\n"
     ]
    },
    {
     "name": "stderr",
     "output_type": "stream",
     "text": [
      "/home/silva/.local/lib/python3.6/site-packages/ipykernel_launcher.py:3: UserWarning: Boolean Series key will be reindexed to match DataFrame index.\n",
      "  This is separate from the ipykernel package so we can avoid doing imports until\n"
     ]
    },
    {
     "data": {
      "text/plain": [
       "Text(0.5, 0.98, 'Porcentagem de teste')"
      ]
     },
     "execution_count": 9,
     "metadata": {},
     "output_type": "execute_result"
    },
    {
     "data": {
      "image/png": "[encoded data removed]",
      "text/plain": [
       "<Figure size 432x288 with 1 Axes>"
      ]
     },
     "metadata": {
      "needs_background": "light"
     },
     "output_type": "display_data"
    }
   ],
   "source": [
    "# Remove coberturas abaixo de 20%, pois de modo geral são classes apenas o construtor foi executado.\n",
    "df_filtrada = df_final[df_final['PORCENTAGEM_COBERTA'] >= 20]\n",
    "df_filtrada = df_filtrada[df_final['EST_CIVIL'] != 6]\n",
    "\n",
    "#verifica\n",
    "print(\"mediana: \" + str(df_filtrada['PORCENTAGEM_COBERTA'].median()))\n",
    "print(df_final['PORCENTAGEM_COBERTA'].describe())\n",
    "df_filtrada['PORCENTAGEM_COBERTA'].hist()\n",
    "plt.suptitle(\"Porcentagem de teste\")"
   ]
  },
  {
   "cell_type": "markdown",
   "metadata": {},
   "source": [
    "## Verifica usuários (únicos)"
   ]
  },
  {
   "cell_type": "markdown",
   "metadata": {},
   "source": [
    "#### - Usuários únicos e total de ocorrências por usuário."
   ]
  },
  {
   "cell_type": "code",
   "execution_count": 10,
   "metadata": {},
   "outputs": [
    {
     "name": "stdout",
     "output_type": "stream",
     "text": [
      "total de usuários únicos:155\n"
     ]
    },
    {
     "data": {
      "text/plain": [
       "<matplotlib.axes._subplots.AxesSubplot at 0x7fbc7578db38>"
      ]
     },
     "execution_count": 10,
     "metadata": {},
     "output_type": "execute_result"
    },
    {
     "data": {
      "image/png": "[encoded data removed]",
      "text/plain": [
       "<Figure size 432x288 with 1 Axes>"
      ]
     },
     "metadata": {
      "needs_background": "light"
     },
     "output_type": "display_data"
    }
   ],
   "source": [
    "print(\"total de usuários únicos:\" + str(len((df_filtrada['COD_USUARIO'].unique()))))\n",
    "df_filtrada['COD_USUARIO'].value_counts().hist()"
   ]
  },
  {
   "cell_type": "markdown",
   "metadata": {},
   "source": [
    "#### R: São diversos desenvolvedores, mas muitos possuem apenas 1 ocorrência de Cobertura de código testado."
   ]
  },
  {
   "cell_type": "markdown",
   "metadata": {},
   "source": [
    "### Verificações de idade de usuários "
   ]
  },
  {
   "cell_type": "code",
   "execution_count": 11,
   "metadata": {},
   "outputs": [
    {
     "data": {
      "text/plain": [
       "Text(0.5, 0.98, 'Idade dos Desenvolvedores')"
      ]
     },
     "execution_count": 11,
     "metadata": {},
     "output_type": "execute_result"
    },
    {
     "data": {
      "image/png": "[encoded data removed]",
      "text/plain": [
       "<Figure size 432x288 with 1 Axes>"
      ]
     },
     "metadata": {
      "needs_background": "light"
     },
     "output_type": "display_data"
    }
   ],
   "source": [
    "usuarios = df_filtrada.groupby('COD_USUARIO').tail(1)\n",
    "\n",
    "#Verifica idade\n",
    "usuarios['IDADE'].hist()\n",
    "plt.suptitle(\"Idade dos Desenvolvedores\")"
   ]
  },
  {
   "cell_type": "markdown",
   "metadata": {},
   "source": [
    "### Verificações de tempo de empresa de usuários "
   ]
  },
  {
   "cell_type": "code",
   "execution_count": 12,
   "metadata": {},
   "outputs": [
    {
     "data": {
      "text/plain": [
       "count    155.000000\n",
       "mean       7.612903\n",
       "std        4.360965\n",
       "min        1.000000\n",
       "25%        5.000000\n",
       "50%        8.000000\n",
       "75%       10.000000\n",
       "max       31.000000\n",
       "Name: TEMPO_EMPRESA, dtype: float64"
      ]
     },
     "execution_count": 12,
     "metadata": {},
     "output_type": "execute_result"
    },
    {
     "data": {
      "image/png": "[encoded data removed]",
      "text/plain": [
       "<Figure size 432x288 with 1 Axes>"
      ]
     },
     "metadata": {
      "needs_background": "light"
     },
     "output_type": "display_data"
    }
   ],
   "source": [
    "usuarios['TEMPO_EMPRESA'].hist()\n",
    "usuarios['TEMPO_EMPRESA'].describe()"
   ]
  },
  {
   "cell_type": "markdown",
   "metadata": {},
   "source": [
    "## Binning -> Porcentagem cobertura"
   ]
  },
  {
   "cell_type": "code",
   "execution_count": 13,
   "metadata": {},
   "outputs": [
    {
     "data": {
      "text/plain": [
       "<matplotlib.axes._subplots.AxesSubplot at 0x7fbc736b2dd8>"
      ]
     },
     "execution_count": 13,
     "metadata": {},
     "output_type": "execute_result"
    },
    {
     "data": {
      "image/png": "[encoded data removed]",
      "text/plain": [
       "<Figure size 432x288 with 1 Axes>"
      ]
     },
     "metadata": {
      "needs_background": "light"
     },
     "output_type": "display_data"
    }
   ],
   "source": [
    "df_filtrada['BIN_PORCENTAGEM_COBERTA'] = binning(df_filtrada['PORCENTAGEM_COBERTA'])\n",
    "df_filtrada['BIN_PORCENTAGEM_COBERTA'].value_counts().plot.bar()"
   ]
  },
  {
   "cell_type": "code",
   "execution_count": 14,
   "metadata": {},
   "outputs": [
    {
     "data": {
      "text/plain": [
       "(95.29411764705883,100.0)                  606\n",
       "(81.1764705882353,85.88235294117648)       243\n",
       "(85.88235294117648,90.58823529411765)      234\n",
       "(76.47058823529412,81.1764705882353)       196\n",
       "(90.58823529411765,95.29411764705883)      181\n",
       "(71.76470588235294,76.47058823529412)      175\n",
       "(67.05882352941177,71.76470588235294)      118\n",
       "(62.35294117647059,67.05882352941177)       76\n",
       "(52.94117647058824,57.64705882352941)       72\n",
       "(57.64705882352941,62.35294117647059)       68\n",
       "(48.23529411764706,52.94117647058824)       34\n",
       "(43.529411764705884,48.23529411764706)      26\n",
       "(38.82352941176471,43.529411764705884)      24\n",
       "(-Inf,20.0)                                 20\n",
       "(24.705882352941178,29.411764705882355)     19\n",
       "(29.411764705882355,34.11764705882353)      18\n",
       "(34.11764705882353,38.82352941176471)       13\n",
       "Name: BIN_PORCENTAGEM_COBERTA, dtype: int64"
      ]
     },
     "execution_count": 14,
     "metadata": {},
     "output_type": "execute_result"
    }
   ],
   "source": [
    "df_filtrada['BIN_PORCENTAGEM_COBERTA'].value_counts()"
   ]
  },
  {
   "cell_type": "markdown",
   "metadata": {},
   "source": [
    "### Categorização ESTADO CIVIL"
   ]
  },
  {
   "cell_type": "code",
   "execution_count": 15,
   "metadata": {},
   "outputs": [],
   "source": [
    "def estado_civil(x):\n",
    "    if x == 1:\n",
    "        return \"SOLTEIRO\"\n",
    "    elif x == 2:\n",
    "        return \"CASADO\"\n",
    "    else: return \"DIVORCIADO\"\n",
    "\n",
    "df_filtrada['EST_CIVIL'] = df_filtrada['EST_CIVIL'].apply(lambda x : estado_civil(x))"
   ]
  },
  {
   "cell_type": "code",
   "execution_count": 16,
   "metadata": {},
   "outputs": [],
   "source": [
    "df_filtrada['EST_CIVIL'] = df_filtrada['EST_CIVIL'].astype('category')"
   ]
  },
  {
   "cell_type": "markdown",
   "metadata": {},
   "source": [
    "### Categorização -> Idade"
   ]
  },
  {
   "cell_type": "code",
   "execution_count": 17,
   "metadata": {},
   "outputs": [],
   "source": [
    "def cria_classe_idade(x):\n",
    "    if x < 30:\n",
    "        return '20 anos'\n",
    "    elif x >= 30 and x <= 40:\n",
    "        return '30 anos'\n",
    "    elif x > 40:\n",
    "        return 'acima 40 anos'\n",
    "    \n",
    "\n",
    "df_filtrada['FAIXA_ETARIA'] = df_filtrada.apply(lambda x: cria_classe_idade(x['IDADE']), axis=1)\n",
    "df_filtrada['FAIXA_ETARIA'] = df_filtrada['FAIXA_ETARIA'].astype('category')"
   ]
  },
  {
   "cell_type": "markdown",
   "metadata": {},
   "source": [
    "### Binning idade"
   ]
  },
  {
   "cell_type": "code",
   "execution_count": 18,
   "metadata": {},
   "outputs": [],
   "source": [
    "df_filtrada['BIN_IDADE'] = binning(df_filtrada['IDADE'])"
   ]
  },
  {
   "cell_type": "markdown",
   "metadata": {},
   "source": [
    "### Categorização ERRO - ALERTA - OK\n",
    "<br>A empresa considera: <br>-OK: acima de 80%<br>-ALERTA: entre 79% e 70%<br>-ERRO: abaixo de 70%"
   ]
  },
  {
   "cell_type": "code",
   "execution_count": 19,
   "metadata": {},
   "outputs": [],
   "source": [
    "def ocorrencia(x):\n",
    "    if x >= 80:\n",
    "        return 'OK'\n",
    "    elif x<80 and x>=70:\n",
    "        return 'ALERTA'\n",
    "    else: \n",
    "        return 'ERRO'"
   ]
  },
  {
   "cell_type": "code",
   "execution_count": 20,
   "metadata": {},
   "outputs": [],
   "source": [
    "df_filtrada['TIPO_OCORRENCIA'] = df_filtrada.apply(lambda x: ocorrencia(x['PORCENTAGEM_COBERTA']), axis=1)\n",
    "df_filtrada['TIPO_OCORRENCIA'] = df_filtrada['TIPO_OCORRENCIA'].astype('category')\n",
    "df_filtrada['TIPO_OCORRENCIA'] = df_filtrada['TIPO_OCORRENCIA'].cat.reorder_categories(['OK', 'ALERTA', 'ERRO'])"
   ]
  },
  {
   "cell_type": "code",
   "execution_count": 21,
   "metadata": {},
   "outputs": [],
   "source": [
    "#df_filtrada[df_filtrada['TIPO_OCORRENCIA'].cat.codes == 2].head()"
   ]
  },
  {
   "cell_type": "markdown",
   "metadata": {},
   "source": [
    "### Salva para weka"
   ]
  },
  {
   "cell_type": "code",
   "execution_count": 22,
   "metadata": {},
   "outputs": [],
   "source": [
    "guardar = df_filtrada[df_filtrada['TIPO_OCORRENCIA'] == 'ERRO']\n",
    "guardar.to_csv(r'/home/silva/desenvolvedor/export_dataframe.csv', index = None, header=True)"
   ]
  },
  {
   "cell_type": "markdown",
   "metadata": {},
   "source": [
    "----------"
   ]
  },
  {
   "cell_type": "markdown",
   "metadata": {},
   "source": [
    "# Verificação do DATASET tratado"
   ]
  },
  {
   "cell_type": "markdown",
   "metadata": {},
   "source": [
    "### Verificação dos registros de cobertura de código de teste"
   ]
  },
  {
   "cell_type": "markdown",
   "metadata": {},
   "source": [
    "### V1) Distribuição de idade dos desenvolvedores que gravaram registros"
   ]
  },
  {
   "cell_type": "code",
   "execution_count": 23,
   "metadata": {},
   "outputs": [
    {
     "name": "stdout",
     "output_type": "stream",
     "text": [
      "Tamanho amostra: 2123\n"
     ]
    }
   ],
   "source": [
    "print(\"Tamanho amostra: {0}\".format(len(df_filtrada)))"
   ]
  },
  {
   "cell_type": "code",
   "execution_count": 24,
   "metadata": {},
   "outputs": [
    {
     "data": {
      "text/plain": [
       "Text(0.5, 0.98, 'Idade dos Desenvolvedores nas amostras')"
      ]
     },
     "execution_count": 24,
     "metadata": {},
     "output_type": "execute_result"
    },
    {
     "data": {
      "image/png": "[encoded data removed]",
      "text/plain": [
       "<Figure size 432x288 with 1 Axes>"
      ]
     },
     "metadata": {
      "needs_background": "light"
     },
     "output_type": "display_data"
    }
   ],
   "source": [
    "df_filtrada['IDADE'].hist()\n",
    "plt.suptitle(\"Idade dos Desenvolvedores nas amostras\")"
   ]
  },
  {
   "cell_type": "code",
   "execution_count": 25,
   "metadata": {},
   "outputs": [
    {
     "name": "stdout",
     "output_type": "stream",
     "text": [
      "mediana:35.0\n"
     ]
    },
    {
     "data": {
      "text/plain": [
       "count    2123.000000\n",
       "mean       35.787565\n",
       "std         5.000527\n",
       "min        22.000000\n",
       "25%        33.000000\n",
       "50%        35.000000\n",
       "75%        38.000000\n",
       "max        60.000000\n",
       "Name: IDADE, dtype: float64"
      ]
     },
     "execution_count": 25,
     "metadata": {},
     "output_type": "execute_result"
    }
   ],
   "source": [
    "print(\"mediana:\" + str(df_filtrada['IDADE'].median()))\n",
    "df_filtrada['IDADE'].describe()"
   ]
  },
  {
   "cell_type": "markdown",
   "metadata": {},
   "source": [
    "### V2) Tempo de empresa dos desenvolvedores que gravaram registros"
   ]
  },
  {
   "cell_type": "code",
   "execution_count": 26,
   "metadata": {},
   "outputs": [
    {
     "data": {
      "text/plain": [
       "Text(0.5, 0.98, 'Tempo de empresa relativo aos registros gravados')"
      ]
     },
     "execution_count": 26,
     "metadata": {},
     "output_type": "execute_result"
    },
    {
     "data": {
      "image/png": "[encoded data removed]",
      "text/plain": [
       "<Figure size 432x288 with 1 Axes>"
      ]
     },
     "metadata": {
      "needs_background": "light"
     },
     "output_type": "display_data"
    }
   ],
   "source": [
    "df_filtrada['TEMPO_EMPRESA'].hist()\n",
    "plt.suptitle(\"Tempo de empresa relativo aos registros gravados\")"
   ]
  },
  {
   "cell_type": "code",
   "execution_count": 27,
   "metadata": {},
   "outputs": [
    {
     "name": "stdout",
     "output_type": "stream",
     "text": [
      "mediana:8.0\n"
     ]
    },
    {
     "data": {
      "text/plain": [
       "count    2123.000000\n",
       "mean        7.178050\n",
       "std         3.841873\n",
       "min         1.000000\n",
       "25%         5.000000\n",
       "50%         8.000000\n",
       "75%        10.000000\n",
       "max        31.000000\n",
       "Name: TEMPO_EMPRESA, dtype: float64"
      ]
     },
     "execution_count": 27,
     "metadata": {},
     "output_type": "execute_result"
    }
   ],
   "source": [
    "print(\"mediana:\" + str(df_filtrada['TEMPO_EMPRESA'].median()))\n",
    "df_filtrada['TEMPO_EMPRESA'].describe()"
   ]
  },
  {
   "cell_type": "markdown",
   "metadata": {},
   "source": [
    "### V3) Faixa etária desenvolvedor"
   ]
  },
  {
   "cell_type": "code",
   "execution_count": 28,
   "metadata": {},
   "outputs": [
    {
     "name": "stdout",
     "output_type": "stream",
     "text": [
      "30 anos          1718\n",
      "acima 40 anos     240\n",
      "20 anos           165\n",
      "Name: FAIXA_ETARIA, dtype: int64\n"
     ]
    },
    {
     "data": {
      "text/plain": [
       "Text(0.5, 0.98, 'Faixa etária desenvolvedor que gerou ocorrência')"
      ]
     },
     "execution_count": 28,
     "metadata": {},
     "output_type": "execute_result"
    },
    {
     "data": {
      "image/png": "[encoded data removed]",
      "text/plain": [
       "<Figure size 432x288 with 1 Axes>"
      ]
     },
     "metadata": {
      "needs_background": "light"
     },
     "output_type": "display_data"
    }
   ],
   "source": [
    "print(df_filtrada['FAIXA_ETARIA'].value_counts())\n",
    "sns.countplot(df_filtrada['FAIXA_ETARIA'],label=\"Count\")\n",
    "plt.suptitle(\"Faixa etária desenvolvedor que gerou ocorrência\")"
   ]
  },
  {
   "cell_type": "code",
   "execution_count": 29,
   "metadata": {},
   "outputs": [],
   "source": [
    "df_20 = df_filtrada[df_filtrada['FAIXA_ETARIA'] == '20 anos']\n",
    "df_30 = df_filtrada[df_filtrada['FAIXA_ETARIA'] == '30 anos']\n",
    "df_40 = df_filtrada[df_filtrada['FAIXA_ETARIA'] == 'acima 40 anos']"
   ]
  },
  {
   "cell_type": "code",
   "execution_count": 30,
   "metadata": {},
   "outputs": [
    {
     "data": {
      "image/png": "[encoded data removed]",
      "text/plain": [
       "<Figure size 360x360 with 1 Axes>"
      ]
     },
     "metadata": {
      "needs_background": "light"
     },
     "output_type": "display_data"
    }
   ],
   "source": [
    "plot_boxplot(df_filtrada['FAIXA_ETARIA'], df_filtrada['PORCENTAGEM_COBERTA'], 5, 5, 'FAIXA_ETARIA')"
   ]
  },
  {
   "cell_type": "markdown",
   "metadata": {},
   "source": [
    "### T) Teste de distribuições"
   ]
  },
  {
   "cell_type": "code",
   "execution_count": 31,
   "metadata": {},
   "outputs": [
    {
     "name": "stderr",
     "output_type": "stream",
     "text": [
      "/usr/local/lib/python3.6/dist-packages/scipy/stats/stats.py:1713: FutureWarning: Using a non-tuple sequence for multidimensional indexing is deprecated; use `arr[tuple(seq)]` instead of `arr[seq]`. In the future this will be interpreted as an array index, `arr[np.array(seq)]`, which will result either in an error or a different result.\n",
      "  return np.add.reduce(sorted[indexer] * weights, axis=axis) / sumval\n"
     ]
    },
    {
     "data": {
      "text/plain": [
       "<matplotlib.axes._subplots.AxesSubplot at 0x7fbc733b9a90>"
      ]
     },
     "execution_count": 31,
     "metadata": {},
     "output_type": "execute_result"
    },
    {
     "data": {
      "image/png": "[encoded data removed]",
      "text/plain": [
       "<Figure size 432x288 with 1 Axes>"
      ]
     },
     "metadata": {
      "needs_background": "light"
     },
     "output_type": "display_data"
    }
   ],
   "source": [
    "sns.distplot(df_20['PORCENTAGEM_COBERTA'], hist = False, kde = True, kde_kws = {'shade': True, 'linewidth': 3},  label = '20 anos')\n",
    "sns.distplot(df_30['PORCENTAGEM_COBERTA'], hist = False, kde = True, kde_kws = {'shade': True, 'linewidth': 3},  label = '30 anos')\n",
    "sns.distplot(df_40['PORCENTAGEM_COBERTA'], hist = False, kde = True, kde_kws = {'shade': True, 'linewidth': 3},  label = '40 anos')"
   ]
  },
  {
   "cell_type": "code",
   "execution_count": 32,
   "metadata": {},
   "outputs": [
    {
     "name": "stdout",
     "output_type": "stream",
     "text": [
      "median:93.02325581395348\n",
      "count    165.000000\n",
      "mean      89.519182\n",
      "std       12.990635\n",
      "min       25.523013\n",
      "25%       83.467742\n",
      "50%       93.023256\n",
      "75%      100.000000\n",
      "max      100.000000\n",
      "Name: PORCENTAGEM_COBERTA, dtype: float64\n",
      "----------------------\n",
      "median:85.41666666666667\n",
      "count    1718.000000\n",
      "mean       82.151822\n",
      "std        17.388145\n",
      "min        20.000000\n",
      "25%        73.460478\n",
      "50%        85.416667\n",
      "75%        97.843619\n",
      "max       100.000000\n",
      "Name: PORCENTAGEM_COBERTA, dtype: float64\n",
      "----------------------\n",
      "median:78.99574303405572\n",
      "count    240.000000\n",
      "mean      73.718148\n",
      "std       19.355238\n",
      "min       20.000000\n",
      "25%       61.310393\n",
      "50%       78.995743\n",
      "75%       86.659607\n",
      "max      100.000000\n",
      "Name: PORCENTAGEM_COBERTA, dtype: float64\n"
     ]
    }
   ],
   "source": [
    "print('median:' + str(df_20['PORCENTAGEM_COBERTA'].median()))\n",
    "print(df_20['PORCENTAGEM_COBERTA'].describe())\n",
    "print('----------------------')\n",
    "print('median:' + str(df_30['PORCENTAGEM_COBERTA'].median()))\n",
    "print(df_30['PORCENTAGEM_COBERTA'].describe())\n",
    "print('----------------------')\n",
    "print('median:' + str(df_40['PORCENTAGEM_COBERTA'].median()))\n",
    "print(df_40['PORCENTAGEM_COBERTA'].describe())"
   ]
  },
  {
   "cell_type": "markdown",
   "metadata": {},
   "source": [
    "## Distribuição homem x mulheres"
   ]
  },
  {
   "cell_type": "code",
   "execution_count": 33,
   "metadata": {},
   "outputs": [
    {
     "data": {
      "text/plain": [
       "<matplotlib.axes._subplots.AxesSubplot at 0x7fbc732774e0>"
      ]
     },
     "execution_count": 33,
     "metadata": {},
     "output_type": "execute_result"
    },
    {
     "data": {
      "image/png": "[encoded data removed]",
      "text/plain": [
       "<Figure size 432x288 with 1 Axes>"
      ]
     },
     "metadata": {
      "needs_background": "light"
     },
     "output_type": "display_data"
    }
   ],
   "source": [
    "df_homens = df_filtrada[df_filtrada['SEXO'] == 'M']\n",
    "df_mulheres = df_filtrada[df_filtrada['SEXO'] == 'F']\n",
    "\n",
    "sns.distplot(df_homens['PORCENTAGEM_COBERTA'], hist = False, kde = True, kde_kws = {'shade': True, 'linewidth': 3},  label = '20 anos')\n",
    "sns.distplot(df_mulheres['PORCENTAGEM_COBERTA'], hist = False, kde = True, kde_kws = {'shade': True, 'linewidth': 3},  label = '30 anos')"
   ]
  },
  {
   "cell_type": "markdown",
   "metadata": {},
   "source": [
    "## Apriori - retirado do weka"
   ]
  },
  {
   "cell_type": "raw",
   "metadata": {},
   "source": [
    "##"
   ]
  },
  {
   "cell_type": "markdown",
   "metadata": {},
   "source": [
    "------"
   ]
  },
  {
   "cell_type": "markdown",
   "metadata": {},
   "source": [
    "### T0) Há diferença significativa entre as médias de homens e mulheres?"
   ]
  },
  {
   "cell_type": "code",
   "execution_count": 68,
   "metadata": {},
   "outputs": [
    {
     "name": "stdout",
     "output_type": "stream",
     "text": [
      "KruskalResult(statistic=7.551493995340784, pvalue=0.005996034198195007)\n"
     ]
    }
   ],
   "source": [
    "print(stats.kruskal(df_homens['PORCENTAGEM_COBERTA'], df_mulheres['PORCENTAGEM_COBERTA']))"
   ]
  },
  {
   "cell_type": "code",
   "execution_count": 69,
   "metadata": {},
   "outputs": [
    {
     "data": {
      "text/plain": [
       "<matplotlib.axes._subplots.AxesSubplot at 0x7fbc730d6550>"
      ]
     },
     "execution_count": 69,
     "metadata": {},
     "output_type": "execute_result"
    },
    {
     "data": {
      "image/png": "[encoded data removed]",
      "text/plain": [
       "<Figure size 432x288 with 1 Axes>"
      ]
     },
     "metadata": {
      "needs_background": "light"
     },
     "output_type": "display_data"
    }
   ],
   "source": [
    "sns.distplot(df_homens['PORCENTAGEM_COBERTA'], hist = False, kde = True, kde_kws = {'shade': True, 'linewidth': 3},  label = 'homem')\n",
    "sns.distplot(df_mulheres['PORCENTAGEM_COBERTA'], hist = False, kde = True, kde_kws = {'shade': True, 'linewidth': 3},  label = 'mulher')"
   ]
  },
  {
   "cell_type": "code",
   "execution_count": 66,
   "metadata": {},
   "outputs": [
    {
     "data": {
      "text/html": [
       "<div>\n",
       "<style scoped>\n",
       "    .dataframe tbody tr th:only-of-type {\n",
       "        vertical-align: middle;\n",
       "    }\n",
       "\n",
       "    .dataframe tbody tr th {\n",
       "        vertical-align: top;\n",
       "    }\n",
       "\n",
       "    .dataframe thead th {\n",
       "        text-align: right;\n",
       "    }\n",
       "</style>\n",
       "<table border=\"1\" class=\"dataframe\">\n",
       "  <thead>\n",
       "    <tr style=\"text-align: right;\">\n",
       "      <th>SEXO</th>\n",
       "      <th>F</th>\n",
       "      <th>M</th>\n",
       "    </tr>\n",
       "    <tr>\n",
       "      <th>TIPO_OCORRENCIA</th>\n",
       "      <th></th>\n",
       "      <th></th>\n",
       "    </tr>\n",
       "  </thead>\n",
       "  <tbody>\n",
       "    <tr>\n",
       "      <th>OK</th>\n",
       "      <td>101</td>\n",
       "      <td>1217</td>\n",
       "    </tr>\n",
       "    <tr>\n",
       "      <th>ALERTA</th>\n",
       "      <td>26</td>\n",
       "      <td>362</td>\n",
       "    </tr>\n",
       "    <tr>\n",
       "      <th>ERRO</th>\n",
       "      <td>17</td>\n",
       "      <td>400</td>\n",
       "    </tr>\n",
       "  </tbody>\n",
       "</table>\n",
       "</div>"
      ],
      "text/plain": [
       "SEXO               F     M\n",
       "TIPO_OCORRENCIA           \n",
       "OK               101  1217\n",
       "ALERTA            26   362\n",
       "ERRO              17   400"
      ]
     },
     "execution_count": 66,
     "metadata": {},
     "output_type": "execute_result"
    }
   ],
   "source": [
    "df_sexo = unstack_group(df_filtrada, 'SEXO', ['TIPO_OCORRENCIA'])\n",
    "df_sexo"
   ]
  },
  {
   "cell_type": "code",
   "execution_count": 67,
   "metadata": {},
   "outputs": [
    {
     "data": {
      "text/plain": [
       "(6.449064962909699,\n",
       " 0.039774372486844255,\n",
       " 2,\n",
       " array([[  89.39802167, 1228.60197833],\n",
       "        [  26.31747527,  361.68252473],\n",
       "        [  28.28450306,  388.71549694]]))"
      ]
     },
     "execution_count": 67,
     "metadata": {},
     "output_type": "execute_result"
    }
   ],
   "source": [
    "chi2_contingency(df_sexo)"
   ]
  },
  {
   "cell_type": "markdown",
   "metadata": {},
   "source": [
    "### R0) temos indícios que a média de distribuição de porcentagem de código coberto, entre os sexos, é diferente. Pelo teste de kruskal-wallis, ao nível de significância de 5%, verificamos que devemos rejeitar a hipótese de que a distribuição possui a mesma média. Pelo gráfico e pela tabela de contingência, reparamos que a o sexo feminino possui uma concentração maior em ocorrências do Tipo Ok, ou seja, com porcentagem de código acima de 80%. Quanto ao grupo masculino, há uma maior disperção dos dados, quando comparado ao grupo de amostras do sexo feminino."
   ]
  },
  {
   "cell_type": "markdown",
   "metadata": {},
   "source": [
    "-------------------"
   ]
  },
  {
   "cell_type": "markdown",
   "metadata": {},
   "source": [
    "### T1)Há diferença significativa entre as médias de homens e mulheres, usando apenas ALERTAS e OK?\n",
    "#### Levando em consideração que porcentagens de cobertura tipificadas como ALERTAS e OK são aceitas para implantação em produção, verificamos "
   ]
  },
  {
   "cell_type": "code",
   "execution_count": 104,
   "metadata": {},
   "outputs": [
    {
     "name": "stdout",
     "output_type": "stream",
     "text": [
      "KruskalResult(statistic=1.2548133916163835, pvalue=0.26263513294083535)\n"
     ]
    }
   ],
   "source": [
    "df_homem_implantavel = df_homens[df_homens['TIPO_OCORRENCIA']!='ERRO']['PORCENTAGEM_COBERTA']\n",
    "df_mulher_implantavel = df_mulheres[df_mulheres['TIPO_OCORRENCIA']!='ERRO']['PORCENTAGEM_COBERTA']\n",
    " \n",
    "print(stats.kruskal(df_homem_implantavel, df_mulher_implantavel))"
   ]
  },
  {
   "cell_type": "code",
   "execution_count": 105,
   "metadata": {},
   "outputs": [
    {
     "data": {
      "text/plain": [
       "<matplotlib.axes._subplots.AxesSubplot at 0x7fbc72b337f0>"
      ]
     },
     "execution_count": 105,
     "metadata": {},
     "output_type": "execute_result"
    },
    {
     "data": {
      "image/png": "[encoded data removed]",
      "text/plain": [
       "<Figure size 432x288 with 1 Axes>"
      ]
     },
     "metadata": {
      "needs_background": "light"
     },
     "output_type": "display_data"
    }
   ],
   "source": [
    "sns.distplot(df_homem_implantavel, hist = False, kde = True, kde_kws = {'shade': True, 'linewidth': 3},  label = 'homem')\n",
    "sns.distplot(df_mulher_implantavel, hist = False, kde = True, kde_kws = {'shade': True, 'linewidth': 3},  label = 'mulher')"
   ]
  },
  {
   "cell_type": "code",
   "execution_count": 106,
   "metadata": {},
   "outputs": [
    {
     "data": {
      "text/html": [
       "<div>\n",
       "<style scoped>\n",
       "    .dataframe tbody tr th:only-of-type {\n",
       "        vertical-align: middle;\n",
       "    }\n",
       "\n",
       "    .dataframe tbody tr th {\n",
       "        vertical-align: top;\n",
       "    }\n",
       "\n",
       "    .dataframe thead th {\n",
       "        text-align: right;\n",
       "    }\n",
       "</style>\n",
       "<table border=\"1\" class=\"dataframe\">\n",
       "  <thead>\n",
       "    <tr style=\"text-align: right;\">\n",
       "      <th>SEXO</th>\n",
       "      <th>F</th>\n",
       "      <th>M</th>\n",
       "    </tr>\n",
       "    <tr>\n",
       "      <th>TIPO_OCORRENCIA</th>\n",
       "      <th></th>\n",
       "      <th></th>\n",
       "    </tr>\n",
       "  </thead>\n",
       "  <tbody>\n",
       "    <tr>\n",
       "      <th>OK</th>\n",
       "      <td>101</td>\n",
       "      <td>1217</td>\n",
       "    </tr>\n",
       "    <tr>\n",
       "      <th>ALERTA</th>\n",
       "      <td>26</td>\n",
       "      <td>362</td>\n",
       "    </tr>\n",
       "  </tbody>\n",
       "</table>\n",
       "</div>"
      ],
      "text/plain": [
       "SEXO               F     M\n",
       "TIPO_OCORRENCIA           \n",
       "OK               101  1217\n",
       "ALERTA            26   362"
      ]
     },
     "execution_count": 106,
     "metadata": {},
     "output_type": "execute_result"
    }
   ],
   "source": [
    "df_sexo = unstack_group(df_filtrada, 'SEXO', ['TIPO_OCORRENCIA'])\n",
    "df_sexo = df_sexo.loc[['OK', 'ALERTA']]\n",
    "df_sexo"
   ]
  },
  {
   "cell_type": "code",
   "execution_count": 107,
   "metadata": {},
   "outputs": [
    {
     "data": {
      "text/plain": [
       "(0.27516575552425043,\n",
       " 0.5998874015652877,\n",
       " 1,\n",
       " array([[  98.11606096, 1219.88393904],\n",
       "        [  28.88393904,  359.11606096]]))"
      ]
     },
     "execution_count": 107,
     "metadata": {},
     "output_type": "execute_result"
    }
   ],
   "source": [
    "chi2_contingency(df_sexo)"
   ]
  },
  {
   "cell_type": "markdown",
   "metadata": {},
   "source": [
    "#### R1) Não temos indícios que a média de distribuição de porcentagem de código coberto entre os sexos, levando em conta apenas as porcentagens aceitas para implantação (marcadas como 'OK' ou 'ALERTA') são diferente. Pelo teste de kruskal-wallis, ao nível de significância de 5%, verificamos que não podemos rejeitar a hipótese de que a distribuição possui a mesma média. Pelo gráfico e pela tabela de contingência, reparamos que a dispersão dos dados são bem semelhantes. Tanto no teste de Kruskal-wallis ao comparar a distribuição das coberturas, quando no teste do qui-quadrado para verificar a frequência, não há indícios de diferença entre as amostras."
   ]
  },
  {
   "cell_type": "markdown",
   "metadata": {},
   "source": [
    "----------"
   ]
  },
  {
   "cell_type": "markdown",
   "metadata": {},
   "source": [
    "### T2)Há diferença significativa entre as médias de homens e mulheres, usando apenas ERRO?"
   ]
  },
  {
   "cell_type": "code",
   "execution_count": 108,
   "metadata": {},
   "outputs": [
    {
     "name": "stdout",
     "output_type": "stream",
     "text": [
      "KruskalResult(statistic=9.683961239068015, pvalue=0.0018588344568710446)\n"
     ]
    }
   ],
   "source": [
    "df_homem_erro = df_homens[df_homens['TIPO_OCORRENCIA']=='ERRO']['PORCENTAGEM_COBERTA']\n",
    "df_mulher_erro = df_mulheres[df_mulheres['TIPO_OCORRENCIA']=='ERRO']['PORCENTAGEM_COBERTA']\n",
    " \n",
    "print(stats.kruskal(df_homem_erro, df_mulher_erro))"
   ]
  },
  {
   "cell_type": "code",
   "execution_count": 109,
   "metadata": {},
   "outputs": [
    {
     "data": {
      "text/plain": [
       "<matplotlib.axes._subplots.AxesSubplot at 0x7fbc72afc908>"
      ]
     },
     "execution_count": 109,
     "metadata": {},
     "output_type": "execute_result"
    },
    {
     "data": {
      "image/png": "[encoded data removed]",
      "text/plain": [
       "<Figure size 432x288 with 1 Axes>"
      ]
     },
     "metadata": {
      "needs_background": "light"
     },
     "output_type": "display_data"
    }
   ],
   "source": [
    "sns.distplot(df_homem_erro, hist = False, kde = True, kde_kws = {'shade': True, 'linewidth': 3},  label = 'homem')\n",
    "sns.distplot(df_mulher_erro, hist = False, kde = True, kde_kws = {'shade': True, 'linewidth': 3},  label = 'mulher')"
   ]
  },
  {
   "cell_type": "code",
   "execution_count": 115,
   "metadata": {},
   "outputs": [
    {
     "name": "stderr",
     "output_type": "stream",
     "text": [
      "/home/silva/.local/lib/python3.6/site-packages/ipykernel_launcher.py:7: SettingWithCopyWarning: \n",
      "A value is trying to be set on a copy of a slice from a DataFrame.\n",
      "Try using .loc[row_indexer,col_indexer] = value instead\n",
      "\n",
      "See the caveats in the documentation: http://pandas.pydata.org/pandas-docs/stable/indexing.html#indexing-view-versus-copy\n",
      "  import sys\n"
     ]
    },
    {
     "data": {
      "text/html": [
       "<div>\n",
       "<style scoped>\n",
       "    .dataframe tbody tr th:only-of-type {\n",
       "        vertical-align: middle;\n",
       "    }\n",
       "\n",
       "    .dataframe tbody tr th {\n",
       "        vertical-align: top;\n",
       "    }\n",
       "\n",
       "    .dataframe thead th {\n",
       "        text-align: right;\n",
       "    }\n",
       "</style>\n",
       "<table border=\"1\" class=\"dataframe\">\n",
       "  <thead>\n",
       "    <tr style=\"text-align: right;\">\n",
       "      <th>SEXO</th>\n",
       "      <th>F</th>\n",
       "      <th>M</th>\n",
       "    </tr>\n",
       "    <tr>\n",
       "      <th>TIPO_OCORRENCIA_BINARIA</th>\n",
       "      <th></th>\n",
       "      <th></th>\n",
       "    </tr>\n",
       "  </thead>\n",
       "  <tbody>\n",
       "    <tr>\n",
       "      <th>NOK</th>\n",
       "      <td>43</td>\n",
       "      <td>762</td>\n",
       "    </tr>\n",
       "    <tr>\n",
       "      <th>OK</th>\n",
       "      <td>101</td>\n",
       "      <td>1217</td>\n",
       "    </tr>\n",
       "  </tbody>\n",
       "</table>\n",
       "</div>"
      ],
      "text/plain": [
       "SEXO                       F     M\n",
       "TIPO_OCORRENCIA_BINARIA           \n",
       "NOK                       43   762\n",
       "OK                       101  1217"
      ]
     },
     "execution_count": 115,
     "metadata": {},
     "output_type": "execute_result"
    }
   ],
   "source": [
    "def bin_ocorrencia(x):\n",
    "    if x == 'OK':\n",
    "        return 'OK'\n",
    "    return 'NOK'\n",
    "\n",
    "df_sexo = df_filtrada[['SEXO', 'TIPO_OCORRENCIA']]\n",
    "df_sexo['TIPO_OCORRENCIA_BINARIA'] = df_sexo['TIPO_OCORRENCIA'].apply(lambda x: bin_ocorrencia(x))\n",
    "df_sexo = unstack_group(df_sexo, 'SEXO', ['TIPO_OCORRENCIA_BINARIA'])\n",
    "\n",
    "df_sexo"
   ]
  },
  {
   "cell_type": "code",
   "execution_count": 116,
   "metadata": {},
   "outputs": [
    {
     "data": {
      "text/plain": [
       "(3.900597664258716,\n",
       " 0.048268933367307476,\n",
       " 1,\n",
       " array([[  54.60197833,  750.39802167],\n",
       "        [  89.39802167, 1228.60197833]]))"
      ]
     },
     "execution_count": 116,
     "metadata": {},
     "output_type": "execute_result"
    }
   ],
   "source": [
    "chi2_contingency(df_sexo)"
   ]
  },
  {
   "cell_type": "markdown",
   "metadata": {},
   "source": [
    "#### Corroborando o algorimto apriori, que demonstra 15,7% (400) do total de amostras sejam relacionadas a homens que cometeram \"erros\" de cobertura de código (pela definição da empresa), existem evidências de diferença entre as médias entre homens e mulheres nessa faixa de cobertura (erro), o que leva a crer que o sexo masculino tem uma tendência maior a produzir coberturas com porcentagens menores. "
   ]
  },
  {
   "cell_type": "markdown",
   "metadata": {},
   "source": [
    "--------------"
   ]
  },
  {
   "cell_type": "markdown",
   "metadata": {},
   "source": [
    "### T3) Há diferença significativa entre as médias de cobertura entre solteiros e casados?"
   ]
  },
  {
   "cell_type": "code",
   "execution_count": 123,
   "metadata": {},
   "outputs": [
    {
     "name": "stdout",
     "output_type": "stream",
     "text": [
      "KruskalResult(statistic=4.793712917107758, pvalue=0.028563790495206055)\n"
     ]
    }
   ],
   "source": [
    "df_solteiros = df_filtrada[df_filtrada['EST_CIVIL']== 'SOLTEIRO']['PORCENTAGEM_COBERTA']\n",
    "df_casados = df_filtrada[df_filtrada['EST_CIVIL']== 'CASADO']['PORCENTAGEM_COBERTA']\n",
    " \n",
    "print(stats.kruskal(df_solteiros, df_casados))"
   ]
  },
  {
   "cell_type": "code",
   "execution_count": 124,
   "metadata": {},
   "outputs": [
    {
     "data": {
      "text/plain": [
       "<matplotlib.axes._subplots.AxesSubplot at 0x7fbc7295f630>"
      ]
     },
     "execution_count": 124,
     "metadata": {},
     "output_type": "execute_result"
    },
    {
     "data": {
      "image/png": "[encoded data removed]",
      "text/plain": [
       "<Figure size 432x288 with 1 Axes>"
      ]
     },
     "metadata": {
      "needs_background": "light"
     },
     "output_type": "display_data"
    }
   ],
   "source": [
    "sns.distplot(df_solteiros, hist = False, kde = True, kde_kws = {'shade': True, 'linewidth': 3},  label = 'solteiros')\n",
    "sns.distplot(df_casados, hist = False, kde = True, kde_kws = {'shade': True, 'linewidth': 3},  label = 'casados')"
   ]
  },
  {
   "cell_type": "code",
   "execution_count": 130,
   "metadata": {},
   "outputs": [
    {
     "data": {
      "text/html": [
       "<div>\n",
       "<style scoped>\n",
       "    .dataframe tbody tr th:only-of-type {\n",
       "        vertical-align: middle;\n",
       "    }\n",
       "\n",
       "    .dataframe tbody tr th {\n",
       "        vertical-align: top;\n",
       "    }\n",
       "\n",
       "    .dataframe thead th {\n",
       "        text-align: right;\n",
       "    }\n",
       "</style>\n",
       "<table border=\"1\" class=\"dataframe\">\n",
       "  <thead>\n",
       "    <tr style=\"text-align: right;\">\n",
       "      <th>EST_CIVIL</th>\n",
       "      <th>CASADO</th>\n",
       "      <th>SOLTEIRO</th>\n",
       "    </tr>\n",
       "    <tr>\n",
       "      <th>TIPO_OCORRENCIA</th>\n",
       "      <th></th>\n",
       "      <th></th>\n",
       "    </tr>\n",
       "  </thead>\n",
       "  <tbody>\n",
       "    <tr>\n",
       "      <th>OK</th>\n",
       "      <td>279</td>\n",
       "      <td>1039</td>\n",
       "    </tr>\n",
       "    <tr>\n",
       "      <th>ALERTA</th>\n",
       "      <td>92</td>\n",
       "      <td>296</td>\n",
       "    </tr>\n",
       "    <tr>\n",
       "      <th>ERRO</th>\n",
       "      <td>97</td>\n",
       "      <td>320</td>\n",
       "    </tr>\n",
       "  </tbody>\n",
       "</table>\n",
       "</div>"
      ],
      "text/plain": [
       "EST_CIVIL        CASADO  SOLTEIRO\n",
       "TIPO_OCORRENCIA                  \n",
       "OK                  279      1039\n",
       "ALERTA               92       296\n",
       "ERRO                 97       320"
      ]
     },
     "execution_count": 130,
     "metadata": {},
     "output_type": "execute_result"
    }
   ],
   "source": [
    "df_estcivil = unstack_group(df_filtrada, 'EST_CIVIL', ['TIPO_OCORRENCIA'])\n",
    "df_estcivil"
   ]
  },
  {
   "cell_type": "code",
   "execution_count": 132,
   "metadata": {},
   "outputs": [
    {
     "data": {
      "text/plain": [
       "(1.5752620620505215,\n",
       " 0.4549212140196165,\n",
       " 2,\n",
       " array([[ 290.54357042, 1027.45642958],\n",
       "        [  85.53179463,  302.46820537],\n",
       "        [  91.92463495,  325.07536505]]))"
      ]
     },
     "execution_count": 132,
     "metadata": {},
     "output_type": "execute_result"
    }
   ],
   "source": [
    "chi2_contingency(df_estcivil)"
   ]
  },
  {
   "cell_type": "markdown",
   "metadata": {},
   "source": [
    "### R03 - embora não há existam evidências de diferença na frequência de ocorrências, quando comparado casados com solteiros,  rejeitamos a hipótese de que não há diferença significativa entre as médias de distribuição das porcentagens de cobertura.   "
   ]
  },
  {
   "cell_type": "markdown",
   "metadata": {},
   "source": [
    "----------------"
   ]
  },
  {
   "cell_type": "markdown",
   "metadata": {},
   "source": [
    "### T2)Há diferença significativa entre as médias das distribuições entre as 3 faixas etárias?"
   ]
  },
  {
   "cell_type": "code",
   "execution_count": 119,
   "metadata": {},
   "outputs": [
    {
     "name": "stdout",
     "output_type": "stream",
     "text": [
      "KruskalResult(statistic=88.29236422112848, pvalue=6.722900942903351e-20)\n",
      "KruskalResult(statistic=32.41167259623873, pvalue=1.2473497559800273e-08)\n",
      "KruskalResult(statistic=84.17282872786805, pvalue=4.53358719540117e-20)\n",
      "KruskalResult(statistic=47.06856027076317, pvalue=6.854645976955679e-12)\n"
     ]
    }
   ],
   "source": [
    "print(stats.kruskal(df_20['PORCENTAGEM_COBERTA'], df_30['PORCENTAGEM_COBERTA'], df_40['PORCENTAGEM_COBERTA']))\n",
    "print(stats.kruskal(df_20['PORCENTAGEM_COBERTA'], df_30['PORCENTAGEM_COBERTA']))\n",
    "print(stats.kruskal(df_20['PORCENTAGEM_COBERTA'], df_40['PORCENTAGEM_COBERTA']))\n",
    "print(stats.kruskal(df_30['PORCENTAGEM_COBERTA'], df_40['PORCENTAGEM_COBERTA']))"
   ]
  },
  {
   "cell_type": "markdown",
   "metadata": {},
   "source": [
    "#### RT2) Pelo teste de Kruskal wallis, rejeita-se a hipótese nula, pois há indícies que a média das distribuições são diferentes, quando se leva em conta a faixa etaria. Há indícios de diferença significativa. "
   ]
  },
  {
   "cell_type": "markdown",
   "metadata": {},
   "source": [
    "----"
   ]
  },
  {
   "cell_type": "markdown",
   "metadata": {},
   "source": [
    "### T4)Entre mesmas faixas etárias, há diferença na média de cobertura, quando comparado homens com mulheres?"
   ]
  },
  {
   "cell_type": "code",
   "execution_count": 133,
   "metadata": {},
   "outputs": [
    {
     "name": "stdout",
     "output_type": "stream",
     "text": [
      "Cobertura - Homens de 20 anos x  Mulheres de 20 anos\n",
      "KruskalResult(statistic=0.09776500328051212, pvalue=0.7545283836044219)\n",
      "\n",
      "\n",
      "----------------\n",
      "Cobertura - Homens de 30 anos x  Mulheres de 30 anos\n",
      "KruskalResult(statistic=7.237025988898016, pvalue=0.0071415176471908235)\n",
      "\n",
      "\n",
      "----------------\n",
      "Cobertura - Homens de 40 anos x  Mulheres de 40 anos\n",
      "KruskalResult(statistic=0.42063490403141873, pvalue=0.5166204094200435)\n"
     ]
    }
   ],
   "source": [
    "print('Cobertura - Homens de 20 anos x  Mulheres de 20 anos')\n",
    "print(stats.kruskal(df_20[df_20['SEXO']=='M']['PORCENTAGEM_COBERTA'], df_20[df_20['SEXO']=='F']['PORCENTAGEM_COBERTA']))\n",
    "print('\\n')\n",
    "print('----------------')\n",
    "print('Cobertura - Homens de 30 anos x  Mulheres de 30 anos')\n",
    "print(stats.kruskal(df_30[df_30['SEXO']=='M']['PORCENTAGEM_COBERTA'], df_30[df_30['SEXO']=='F']['PORCENTAGEM_COBERTA']))\n",
    "print('\\n')\n",
    "print('----------------')\n",
    "print('Cobertura - Homens de 40 anos x  Mulheres de 40 anos')\n",
    "print(stats.kruskal(df_40[df_40['SEXO']=='M']['PORCENTAGEM_COBERTA'], df_40[df_40['SEXO']=='F']['PORCENTAGEM_COBERTA']))"
   ]
  },
  {
   "cell_type": "markdown",
   "metadata": {},
   "source": [
    "#### RT2: Existe diferença significativa apenas na faixa etária de 30 anos, entre os sexos"
   ]
  },
  {
   "cell_type": "markdown",
   "metadata": {},
   "source": [
    "### T3)Verificação de diferença nas distribuições entre faixa etária (dividido por sexo)"
   ]
  },
  {
   "cell_type": "code",
   "execution_count": 134,
   "metadata": {},
   "outputs": [
    {
     "name": "stdout",
     "output_type": "stream",
     "text": [
      "Masculino: 20 anos <-> 30 anos\n",
      "KruskalResult(statistic=33.72860864183158, pvalue=6.336196796192806e-09)\n",
      "---------\n",
      "Masculino: 20 anos <-> 40 anos\n",
      "KruskalResult(statistic=81.90997722993666, pvalue=1.424284830997749e-19)\n",
      "---------\n",
      "Masculino: 30 anos <-> 40 anos\n",
      "KruskalResult(statistic=42.67074598493471, pvalue=6.477378897842572e-11)\n"
     ]
    }
   ],
   "source": [
    "print('Masculino: 20 anos <-> 30 anos')\n",
    "print(stats.kruskal(df_20[df_20['SEXO']=='M']['PORCENTAGEM_COBERTA'], df_30[df_30['SEXO']=='M']['PORCENTAGEM_COBERTA']))\n",
    "print('---------')\n",
    "print('Masculino: 20 anos <-> 40 anos')\n",
    "print(stats.kruskal(df_20[df_20['SEXO']=='M']['PORCENTAGEM_COBERTA'], df_40[df_40['SEXO']=='M']['PORCENTAGEM_COBERTA']))\n",
    "print('---------')\n",
    "print('Masculino: 30 anos <-> 40 anos')\n",
    "print(stats.kruskal(df_30[df_30['SEXO']=='M']['PORCENTAGEM_COBERTA'], df_40[df_40['SEXO']=='M']['PORCENTAGEM_COBERTA']))"
   ]
  },
  {
   "cell_type": "markdown",
   "metadata": {},
   "source": [
    "#### RT3.1: Olhando apenas a população masculina, existe diferença significativa em todas as faixas etárias"
   ]
  },
  {
   "cell_type": "code",
   "execution_count": 135,
   "metadata": {},
   "outputs": [
    {
     "name": "stdout",
     "output_type": "stream",
     "text": [
      "KruskalResult(statistic=0.11185715620916344, pvalue=0.738039615870417)\n",
      "KruskalResult(statistic=3.147482014388489, pvalue=0.07604422422008318)\n",
      "KruskalResult(statistic=2.3184464203742117, pvalue=0.12784765808273382)\n"
     ]
    }
   ],
   "source": [
    "print(stats.kruskal(df_20[df_20['SEXO']=='F']['PORCENTAGEM_COBERTA'], df_30[df_30['SEXO']=='F']['PORCENTAGEM_COBERTA']))\n",
    "print(stats.kruskal(df_20[df_20['SEXO']=='F']['PORCENTAGEM_COBERTA'], df_40[df_40['SEXO']=='F']['PORCENTAGEM_COBERTA']))\n",
    "print(stats.kruskal(df_30[df_30['SEXO']=='F']['PORCENTAGEM_COBERTA'], df_40[df_40['SEXO']=='F']['PORCENTAGEM_COBERTA']))"
   ]
  },
  {
   "cell_type": "markdown",
   "metadata": {},
   "source": [
    "#### RT3.2: Não existem diferenças significativa entre as faixas etárias, dentro do sexo feminino"
   ]
  },
  {
   "cell_type": "markdown",
   "metadata": {},
   "source": [
    "### T4)Verificação da existência de diferença nas distribuições, usando apenas erros"
   ]
  },
  {
   "cell_type": "code",
   "execution_count": 136,
   "metadata": {},
   "outputs": [
    {
     "name": "stdout",
     "output_type": "stream",
     "text": [
      "KruskalResult(statistic=0.3871363839438021, pvalue=0.5338084936351963)\n",
      "KruskalResult(statistic=3.100173573615762, pvalue=0.07828394712441211)\n",
      "KruskalResult(statistic=17.092461483715827, pvalue=3.560334634752513e-05)\n"
     ]
    }
   ],
   "source": [
    "df_20_erro_masculino = df_20[(df_20['SEXO']=='M') & (df_20['TIPO_OCORRENCIA']!='ERRO')]['PORCENTAGEM_COBERTA']\n",
    "df_30_erro_masculino = df_30[(df_30['SEXO']=='M') & (df_30['TIPO_OCORRENCIA']!='ERRO')]['PORCENTAGEM_COBERTA']\n",
    "df_40_erro_masculino = df_40[(df_40['SEXO']=='M') & (df_40['TIPO_OCORRENCIA']!='ERRO')]['PORCENTAGEM_COBERTA']\n",
    "df_20_erro_feminino = df_20[(df_20['SEXO']=='F') & (df_20['TIPO_OCORRENCIA']!='ERRO')]['PORCENTAGEM_COBERTA']\n",
    "df_30_erro_feminino = df_30[(df_30['SEXO']=='F') & (df_30['TIPO_OCORRENCIA']!='ERRO')]['PORCENTAGEM_COBERTA']\n",
    "df_40_erro_feminino = df_40[(df_40['SEXO']=='F') & (df_40['TIPO_OCORRENCIA']!='ERRO')]['PORCENTAGEM_COBERTA']\n",
    "\n",
    "print(stats.kruskal(df_20_erro_masculino, df_20_erro_feminino))\n",
    "print(stats.kruskal(df_30_erro_masculino, df_30_erro_feminino))\n",
    "print(stats.kruskal(df_40_erro_masculino, df_30_erro_feminino))"
   ]
  },
  {
   "cell_type": "code",
   "execution_count": 137,
   "metadata": {},
   "outputs": [],
   "source": [
    "### R4"
   ]
  },
  {
   "cell_type": "code",
   "execution_count": 138,
   "metadata": {},
   "outputs": [
    {
     "name": "stdout",
     "output_type": "stream",
     "text": [
      "KruskalResult(statistic=17.092461483715827, pvalue=3.560334634752513e-05)\n"
     ]
    }
   ],
   "source": [
    "print(stats.kruskal(df_40_erro_masculino, df_30_erro_feminino))"
   ]
  },
  {
   "cell_type": "code",
   "execution_count": null,
   "metadata": {},
   "outputs": [],
   "source": []
  },
  {
   "cell_type": "markdown",
   "metadata": {},
   "source": [
    "----------"
   ]
  },
  {
   "cell_type": "markdown",
   "metadata": {},
   "source": [
    "## Verificações Qui-quadrado (bastante dúvidas)"
   ]
  },
  {
   "cell_type": "markdown",
   "metadata": {},
   "source": [
    "### Q1- Faixa etária - Sexo - Estado civil = Ocorrencia Erro | Alerta"
   ]
  },
  {
   "cell_type": "code",
   "execution_count": 45,
   "metadata": {},
   "outputs": [
    {
     "data": {
      "text/html": [
       "<div>\n",
       "<style scoped>\n",
       "    .dataframe tbody tr th:only-of-type {\n",
       "        vertical-align: middle;\n",
       "    }\n",
       "\n",
       "    .dataframe tbody tr th {\n",
       "        vertical-align: top;\n",
       "    }\n",
       "\n",
       "    .dataframe thead th {\n",
       "        text-align: right;\n",
       "    }\n",
       "</style>\n",
       "<table border=\"1\" class=\"dataframe\">\n",
       "  <thead>\n",
       "    <tr style=\"text-align: right;\">\n",
       "      <th></th>\n",
       "      <th></th>\n",
       "      <th>FAIXA_ETARIA</th>\n",
       "      <th>20 anos</th>\n",
       "      <th>30 anos</th>\n",
       "      <th>acima 40 anos</th>\n",
       "    </tr>\n",
       "    <tr>\n",
       "      <th>TIPO_OCORRENCIA</th>\n",
       "      <th>SEXO</th>\n",
       "      <th>EST_CIVIL</th>\n",
       "      <th></th>\n",
       "      <th></th>\n",
       "      <th></th>\n",
       "    </tr>\n",
       "  </thead>\n",
       "  <tbody>\n",
       "    <tr>\n",
       "      <th rowspan=\"3\" valign=\"top\">ALERTA</th>\n",
       "      <th>F</th>\n",
       "      <th>SOLTEIRO</th>\n",
       "      <td>1.0</td>\n",
       "      <td>19.0</td>\n",
       "      <td>6.0</td>\n",
       "    </tr>\n",
       "    <tr>\n",
       "      <th rowspan=\"2\" valign=\"top\">M</th>\n",
       "      <th>CASADO</th>\n",
       "      <td>9.0</td>\n",
       "      <td>71.0</td>\n",
       "      <td>12.0</td>\n",
       "    </tr>\n",
       "    <tr>\n",
       "      <th>SOLTEIRO</th>\n",
       "      <td>13.0</td>\n",
       "      <td>235.0</td>\n",
       "      <td>22.0</td>\n",
       "    </tr>\n",
       "    <tr>\n",
       "      <th rowspan=\"3\" valign=\"top\">ERRO</th>\n",
       "      <th>F</th>\n",
       "      <th>SOLTEIRO</th>\n",
       "      <td>0.0</td>\n",
       "      <td>17.0</td>\n",
       "      <td>0.0</td>\n",
       "    </tr>\n",
       "    <tr>\n",
       "      <th rowspan=\"2\" valign=\"top\">M</th>\n",
       "      <th>CASADO</th>\n",
       "      <td>1.0</td>\n",
       "      <td>79.0</td>\n",
       "      <td>17.0</td>\n",
       "    </tr>\n",
       "    <tr>\n",
       "      <th>SOLTEIRO</th>\n",
       "      <td>9.0</td>\n",
       "      <td>228.0</td>\n",
       "      <td>66.0</td>\n",
       "    </tr>\n",
       "  </tbody>\n",
       "</table>\n",
       "</div>"
      ],
      "text/plain": [
       "FAIXA_ETARIA                    20 anos  30 anos  acima 40 anos\n",
       "TIPO_OCORRENCIA SEXO EST_CIVIL                                 \n",
       "ALERTA          F    SOLTEIRO       1.0     19.0            6.0\n",
       "                M    CASADO         9.0     71.0           12.0\n",
       "                     SOLTEIRO      13.0    235.0           22.0\n",
       "ERRO            F    SOLTEIRO       0.0     17.0            0.0\n",
       "                M    CASADO         1.0     79.0           17.0\n",
       "                     SOLTEIRO       9.0    228.0           66.0"
      ]
     },
     "execution_count": 45,
     "metadata": {},
     "output_type": "execute_result"
    }
   ],
   "source": [
    "df1 = unstack_group(df_filtrada, 'FAIXA_ETARIA', ['TIPO_OCORRENCIA', 'SEXO', 'EST_CIVIL'])\n",
    "df1 = df1.loc[['ERRO', 'ALERTA']]\n",
    "df1"
   ]
  },
  {
   "cell_type": "code",
   "execution_count": 46,
   "metadata": {},
   "outputs": [
    {
     "data": {
      "text/plain": [
       "(36.66532766060744,\n",
       " 6.465436534732422e-05,\n",
       " 10,\n",
       " array([[  1.06583851,  20.96149068,   3.97267081],\n",
       "        [  3.77142857,  74.17142857,  14.05714286],\n",
       "        [ 11.06832298, 217.67701863,  41.25465839],\n",
       "        [  0.69689441,  13.70559006,   2.59751553],\n",
       "        [  3.97639752,  78.20248447,  14.82111801],\n",
       "        [ 12.42111801, 244.28198758,  46.29689441]]))"
      ]
     },
     "execution_count": 46,
     "metadata": {},
     "output_type": "execute_result"
    }
   ],
   "source": [
    "chi2_contingency(df1)"
   ]
  },
  {
   "cell_type": "markdown",
   "metadata": {},
   "source": [
    "#### R1: Há indícios de das variáveis serem dependentes."
   ]
  },
  {
   "cell_type": "markdown",
   "metadata": {},
   "source": [
    "### Q2- Faixa etária - Sexo - Estado civil = Ocorrencia Erro | Alerta"
   ]
  },
  {
   "cell_type": "code",
   "execution_count": 47,
   "metadata": {},
   "outputs": [
    {
     "data": {
      "text/html": [
       "<div>\n",
       "<style scoped>\n",
       "    .dataframe tbody tr th:only-of-type {\n",
       "        vertical-align: middle;\n",
       "    }\n",
       "\n",
       "    .dataframe tbody tr th {\n",
       "        vertical-align: top;\n",
       "    }\n",
       "\n",
       "    .dataframe thead th {\n",
       "        text-align: right;\n",
       "    }\n",
       "</style>\n",
       "<table border=\"1\" class=\"dataframe\">\n",
       "  <thead>\n",
       "    <tr style=\"text-align: right;\">\n",
       "      <th></th>\n",
       "      <th>FAIXA_ETARIA</th>\n",
       "      <th>20 anos</th>\n",
       "      <th>30 anos</th>\n",
       "      <th>acima 40 anos</th>\n",
       "    </tr>\n",
       "    <tr>\n",
       "      <th>SEXO</th>\n",
       "      <th>EST_CIVIL</th>\n",
       "      <th></th>\n",
       "      <th></th>\n",
       "      <th></th>\n",
       "    </tr>\n",
       "  </thead>\n",
       "  <tbody>\n",
       "    <tr>\n",
       "      <th>F</th>\n",
       "      <th>SOLTEIRO</th>\n",
       "      <td>0.0</td>\n",
       "      <td>17.0</td>\n",
       "      <td>0.0</td>\n",
       "    </tr>\n",
       "    <tr>\n",
       "      <th rowspan=\"2\" valign=\"top\">M</th>\n",
       "      <th>CASADO</th>\n",
       "      <td>1.0</td>\n",
       "      <td>79.0</td>\n",
       "      <td>17.0</td>\n",
       "    </tr>\n",
       "    <tr>\n",
       "      <th>SOLTEIRO</th>\n",
       "      <td>9.0</td>\n",
       "      <td>228.0</td>\n",
       "      <td>66.0</td>\n",
       "    </tr>\n",
       "  </tbody>\n",
       "</table>\n",
       "</div>"
      ],
      "text/plain": [
       "FAIXA_ETARIA    20 anos  30 anos  acima 40 anos\n",
       "SEXO EST_CIVIL                                 \n",
       "F    SOLTEIRO       0.0     17.0            0.0\n",
       "M    CASADO         1.0     79.0           17.0\n",
       "     SOLTEIRO       9.0    228.0           66.0"
      ]
     },
     "execution_count": 47,
     "metadata": {},
     "output_type": "execute_result"
    }
   ],
   "source": [
    "df1 = unstack_group(df_filtrada, 'FAIXA_ETARIA', ['TIPO_OCORRENCIA', 'SEXO', 'EST_CIVIL'])\n",
    "df1 = df1.loc['ERRO']\n",
    "df1"
   ]
  },
  {
   "cell_type": "code",
   "execution_count": 48,
   "metadata": {},
   "outputs": [
    {
     "data": {
      "text/plain": [
       "(7.2712636125120405,\n",
       " 0.12222895600068359,\n",
       " 4,\n",
       " array([[  0.40767386,  13.20863309,   3.38369305],\n",
       "        [  2.32613909,  75.36690647,  19.30695444],\n",
       "        [  7.26618705, 235.42446043,  60.30935252]]))"
      ]
     },
     "execution_count": 48,
     "metadata": {},
     "output_type": "execute_result"
    }
   ],
   "source": [
    "chi2_contingency(df1)"
   ]
  },
  {
   "cell_type": "code",
   "execution_count": null,
   "metadata": {},
   "outputs": [],
   "source": []
  },
  {
   "cell_type": "code",
   "execution_count": null,
   "metadata": {},
   "outputs": [],
   "source": []
  },
  {
   "cell_type": "code",
   "execution_count": null,
   "metadata": {},
   "outputs": [],
   "source": []
  }
 ],
 "metadata": {
  "kernelspec": {
   "display_name": "Python 3",
   "language": "python",
   "name": "python3"
  },
  "language_info": {
   "codemirror_mode": {
    "name": "ipython",
    "version": 3
   },
   "file_extension": ".py",
   "mimetype": "text/x-python",
   "name": "python",
   "nbconvert_exporter": "python",
   "pygments_lexer": "ipython3",
   "version": "3.6.7"
  }
 },
 "nbformat": 4,
 "nbformat_minor": 2
}
