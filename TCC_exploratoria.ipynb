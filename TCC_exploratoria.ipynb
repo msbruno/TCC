{
 "cells": [
  {
   "cell_type": "code",
   "execution_count": 439,
   "metadata": {},
   "outputs": [],
   "source": [
    "import pandas as  pd\n",
    "import numpy  as  np\n",
    "import matplotlib.pyplot  as plt\n",
    "import seaborn as sns\n",
    "import statsmodels.api as sm\n",
    "from statsmodels.formula.api import ols\n",
    "from scipy import stats\n",
    "import statsmodels.api as sm_api\n",
    "from sklearn import preprocessing\n",
    "from scipy.stats import chi2_contingency"
   ]
  },
  {
   "cell_type": "code",
   "execution_count": 440,
   "metadata": {},
   "outputs": [],
   "source": [
    "df  = pd.read_csv(r'/home/silva/Downloads/lista_empregados2.csv')"
   ]
  },
  {
   "cell_type": "code",
   "execution_count": 441,
   "metadata": {},
   "outputs": [
    {
     "name": "stderr",
     "output_type": "stream",
     "text": [
      "/home/silva/.local/lib/python3.6/site-packages/ipykernel_launcher.py:11: SettingWithCopyWarning: \n",
      "A value is trying to be set on a copy of a slice from a DataFrame.\n",
      "Try using .loc[row_indexer,col_indexer] = value instead\n",
      "\n",
      "See the caveats in the documentation: http://pandas.pydata.org/pandas-docs/stable/indexing.html#indexing-view-versus-copy\n",
      "  # This is added back by InteractiveShellApp.init_path()\n",
      "/home/silva/.local/lib/python3.6/site-packages/ipykernel_launcher.py:12: SettingWithCopyWarning: \n",
      "A value is trying to be set on a copy of a slice from a DataFrame.\n",
      "Try using .loc[row_indexer,col_indexer] = value instead\n",
      "\n",
      "See the caveats in the documentation: http://pandas.pydata.org/pandas-docs/stable/indexing.html#indexing-view-versus-copy\n",
      "  if sys.path[0] == '':\n",
      "/home/silva/.local/lib/python3.6/site-packages/ipykernel_launcher.py:16: SettingWithCopyWarning: \n",
      "A value is trying to be set on a copy of a slice from a DataFrame.\n",
      "Try using .loc[row_indexer,col_indexer] = value instead\n",
      "\n",
      "See the caveats in the documentation: http://pandas.pydata.org/pandas-docs/stable/indexing.html#indexing-view-versus-copy\n",
      "  app.launch_new_instance()\n",
      "/home/silva/.local/lib/python3.6/site-packages/ipykernel_launcher.py:17: SettingWithCopyWarning: \n",
      "A value is trying to be set on a copy of a slice from a DataFrame.\n",
      "Try using .loc[row_indexer,col_indexer] = value instead\n",
      "\n",
      "See the caveats in the documentation: http://pandas.pydata.org/pandas-docs/stable/indexing.html#indexing-view-versus-copy\n",
      "/home/silva/.local/lib/python3.6/site-packages/ipykernel_launcher.py:18: SettingWithCopyWarning: \n",
      "A value is trying to be set on a copy of a slice from a DataFrame.\n",
      "Try using .loc[row_indexer,col_indexer] = value instead\n",
      "\n",
      "See the caveats in the documentation: http://pandas.pydata.org/pandas-docs/stable/indexing.html#indexing-view-versus-copy\n"
     ]
    }
   ],
   "source": [
    "df_perfil = df\n",
    "\n",
    "#Ajusta código empregado\n",
    "df_perfil['COD_EMPREGADO'] = df_perfil['COD_EMPREGADO'].apply(str)\n",
    "df_perfil['COD_EMPREGADO'] = 'B' + df_perfil['COD_EMPREGADO']\n",
    "\n",
    "#Filtra colunas\n",
    "df_perfil = df_perfil[['COD_EMPREGADO', 'DATA_ADMISSAO', 'DATA_NASCIMENTO', 'NIVEL_FUNCAO', 'EST_CIVIL', 'SEXO', 'DEP_CRECHE_BABA']]\n",
    "\n",
    "#modifica tipo coluna\n",
    "df_perfil['DATA_NASCIMENTO'] = df_perfil['DATA_NASCIMENTO'].apply(pd.to_datetime)\n",
    "df_perfil['DATA_ADMISSAO'] = df_perfil['DATA_ADMISSAO'].apply(pd.to_datetime)\n",
    "\n",
    "#Calcular tempo/idade\n",
    "ano_hoje = pd.datetime.today().year\n",
    "df_perfil['TEMPO_EMPRESA'] = ano_hoje -  df_perfil['DATA_ADMISSAO'].dt.year \n",
    "df_perfil['IDADE'] = ano_hoje - df_perfil['DATA_NASCIMENTO'].dt.year\n",
    "df_perfil['COD_USUARIO'] = df_perfil['COD_EMPREGADO']"
   ]
  },
  {
   "cell_type": "code",
   "execution_count": 442,
   "metadata": {},
   "outputs": [],
   "source": [
    "#Cria classe\n",
    "def cria_classe(valor, media, classe_abaixo, classe_acima):\n",
    "    if valor > media:\n",
    "        return classe_acima\n",
    "    return classe_abaixo\n",
    "\n",
    "#Boxplot\n",
    "def plot_boxplot(df_class, df_features_standardized, w, h, classe):\n",
    "    df_standardized = pd.concat([df_class,df_features_standardized],axis=1)\n",
    "    df_melted = pd.melt(df_standardized,\n",
    "                    id_vars=classe,\n",
    "                    var_name=\"features\",\n",
    "                    value_name='value')\n",
    "    plt.figure(figsize=(w,h))\n",
    "    sns.boxplot(x=\"features\", y=\"value\", hue=classe, data=df_melted)\n",
    "    \n",
    "def binning(col, method='doane'):\n",
    "    hist, bin_edges = np.histogram(col, method)\n",
    "    bined_values = np.digitize(col, bin_edges)\n",
    "    bin_interval = list()\n",
    "    for x in range(0, len(bin_edges)):\n",
    "        if x == 0:\n",
    "            bin_interval.append('(-Inf,{0})'.format(bin_edges[x]))\n",
    "        elif x == (len(bin_edges) - 1):\n",
    "            # bin_interval.append('({0},Inf)'.format(bin_edges[x]))\n",
    "            continue\n",
    "        else:\n",
    "            bin_interval.append('({0},{1})'.format(bin_edges[x], bin_edges[x+1]))\n",
    "\n",
    "    # Binning using cut function of pandas\n",
    "    colBin = pd.cut(col, bins=bin_edges, labels=bin_interval, include_lowest=True)\n",
    "\n",
    "    return colBin\n"
   ]
  },
  {
   "cell_type": "markdown",
   "metadata": {},
   "source": [
    "### Leitura dataset"
   ]
  },
  {
   "cell_type": "code",
   "execution_count": 443,
   "metadata": {},
   "outputs": [],
   "source": [
    "df_cobertura = pd.read_csv(r'/home/silva/Downloads/tcc/cobertura_individual.csv')\n",
    "df_cobertura['CSS'] = df_cobertura['CSS'].str.upper()\n",
    "df_cobertura['NOME_CLASSE'] = df_cobertura['NOME_CLASSE'].str.upper()\n",
    "df_cobertura['DATA'] = df_cobertura['ULT_ATUALIZACAO'].apply(pd.to_datetime)\n",
    "\n",
    "#Remover sistemas não interessantes para o estudo\n",
    "df_cobertura = df_cobertura[~df_cobertura['CSS'].str.startswith('PXC')]"
   ]
  },
  {
   "cell_type": "markdown",
   "metadata": {},
   "source": [
    "#### Agrupamento dataset"
   ]
  },
  {
   "cell_type": "code",
   "execution_count": 444,
   "metadata": {},
   "outputs": [],
   "source": [
    "#Seleciona ultima cobertura da classe\n",
    "df_cobertura_ajustada = df_cobertura.sort_values('DATA').groupby(['NOME_CLASSE', 'COD_USUARIO']).tail(1)\n",
    "#cria percentual coberto\n",
    "df_cobertura_ajustada['PORCENTAGEM_COBERTA'] = 100 * df_cobertura_ajustada['LINHAS_COBERTAS'] / (df_cobertura_ajustada['LINHAS_NAO_COBERTAS'] + df_cobertura_ajustada['LINHAS_COBERTAS'])"
   ]
  },
  {
   "cell_type": "markdown",
   "metadata": {},
   "source": [
    "#### Merge Datasets"
   ]
  },
  {
   "cell_type": "code",
   "execution_count": 445,
   "metadata": {},
   "outputs": [],
   "source": [
    "df_final = pd.merge(df_cobertura_ajustada, df_perfil, on='COD_USUARIO', how='inner')"
   ]
  },
  {
   "cell_type": "markdown",
   "metadata": {},
   "source": [
    "# Verificações"
   ]
  },
  {
   "cell_type": "markdown",
   "metadata": {},
   "source": [
    "## Verificação cobertura por ocorrência"
   ]
  },
  {
   "cell_type": "code",
   "execution_count": 446,
   "metadata": {},
   "outputs": [
    {
     "data": {
      "text/plain": [
       "Text(0.5, 0.98, 'Porcentagem de cobertura de teste')"
      ]
     },
     "execution_count": 446,
     "metadata": {},
     "output_type": "execute_result"
    },
    {
     "data": {
      "image/png": "[encoded data removed]",
      "text/plain": [
       "<Figure size 432x288 with 1 Axes>"
      ]
     },
     "metadata": {
      "needs_background": "light"
     },
     "output_type": "display_data"
    }
   ],
   "source": [
    "df_final['PORCENTAGEM_COBERTA'].hist()\n",
    "plt.suptitle(\"Porcentagem de cobertura de teste\")"
   ]
  },
  {
   "cell_type": "markdown",
   "metadata": {},
   "source": [
    "## Filtro para remover cobertura abaixo de 20"
   ]
  },
  {
   "cell_type": "code",
   "execution_count": 447,
   "metadata": {},
   "outputs": [
    {
     "name": "stdout",
     "output_type": "stream",
     "text": [
      "mediana: 85.18518518518519\n",
      "count    2534.000000\n",
      "mean       69.797164\n",
      "std        32.804781\n",
      "min         0.000000\n",
      "25%        58.887561\n",
      "50%        81.496476\n",
      "75%        94.444444\n",
      "max       100.000000\n",
      "Name: PORCENTAGEM_COBERTA, dtype: float64\n"
     ]
    },
    {
     "name": "stderr",
     "output_type": "stream",
     "text": [
      "/home/silva/.local/lib/python3.6/site-packages/ipykernel_launcher.py:3: UserWarning: Boolean Series key will be reindexed to match DataFrame index.\n",
      "  This is separate from the ipykernel package so we can avoid doing imports until\n"
     ]
    },
    {
     "data": {
      "text/plain": [
       "Text(0.5, 0.98, 'Porcentagem de teste')"
      ]
     },
     "execution_count": 447,
     "metadata": {},
     "output_type": "execute_result"
    },
    {
     "data": {
      "image/png": "[encoded data removed]",
      "text/plain": [
       "<Figure size 432x288 with 1 Axes>"
      ]
     },
     "metadata": {
      "needs_background": "light"
     },
     "output_type": "display_data"
    }
   ],
   "source": [
    "# Remove coberturas abaixo de 20%, pois de modo geral são classes apenas o construtor foi executado.\n",
    "df_filtrada = df_final[df_final['PORCENTAGEM_COBERTA'] >= 20]\n",
    "df_filtrada = df_filtrada[df_final['EST_CIVIL'] != 6]\n",
    "\n",
    "#verifica\n",
    "print(\"mediana: \" + str(df_filtrada['PORCENTAGEM_COBERTA'].median()))\n",
    "print(df_final['PORCENTAGEM_COBERTA'].describe())\n",
    "df_filtrada['PORCENTAGEM_COBERTA'].hist()\n",
    "plt.suptitle(\"Porcentagem de teste\")"
   ]
  },
  {
   "cell_type": "markdown",
   "metadata": {},
   "source": [
    "## Verifica usuários (únicos)"
   ]
  },
  {
   "cell_type": "markdown",
   "metadata": {},
   "source": [
    "#### - Usuários únicos e total de ocorrências por usuário."
   ]
  },
  {
   "cell_type": "code",
   "execution_count": 448,
   "metadata": {},
   "outputs": [
    {
     "name": "stdout",
     "output_type": "stream",
     "text": [
      "total de usuários únicos:155\n"
     ]
    },
    {
     "data": {
      "text/plain": [
       "<matplotlib.axes._subplots.AxesSubplot at 0x7f402fb37160>"
      ]
     },
     "execution_count": 448,
     "metadata": {},
     "output_type": "execute_result"
    },
    {
     "data": {
      "image/png": "[encoded data removed]",
      "text/plain": [
       "<Figure size 432x288 with 1 Axes>"
      ]
     },
     "metadata": {
      "needs_background": "light"
     },
     "output_type": "display_data"
    }
   ],
   "source": [
    "print(\"total de usuários únicos:\" + str(len((df_filtrada['COD_USUARIO'].unique()))))\n",
    "df_filtrada['COD_USUARIO'].value_counts().hist()"
   ]
  },
  {
   "cell_type": "markdown",
   "metadata": {},
   "source": [
    "#### R: São diversos desenvolvedores, mas muitos possuem apenas 1 ocorrência de Cobertura de código testado."
   ]
  },
  {
   "cell_type": "markdown",
   "metadata": {},
   "source": [
    "### Verificações de idade de usuários "
   ]
  },
  {
   "cell_type": "code",
   "execution_count": 449,
   "metadata": {},
   "outputs": [
    {
     "data": {
      "text/plain": [
       "Text(0.5, 0.98, 'Idade dos Desenvolvedores')"
      ]
     },
     "execution_count": 449,
     "metadata": {},
     "output_type": "execute_result"
    },
    {
     "data": {
      "image/png": "[encoded data removed]",
      "text/plain": [
       "<Figure size 432x288 with 1 Axes>"
      ]
     },
     "metadata": {
      "needs_background": "light"
     },
     "output_type": "display_data"
    }
   ],
   "source": [
    "usuarios = df_filtrada.groupby('COD_USUARIO').tail(1)\n",
    "\n",
    "#Verifica idade\n",
    "usuarios['IDADE'].hist()\n",
    "plt.suptitle(\"Idade dos Desenvolvedores\")"
   ]
  },
  {
   "cell_type": "markdown",
   "metadata": {},
   "source": [
    "### Verificações de tempo de empresa de usuários "
   ]
  },
  {
   "cell_type": "code",
   "execution_count": 450,
   "metadata": {},
   "outputs": [
    {
     "data": {
      "text/plain": [
       "count    155.000000\n",
       "mean       7.612903\n",
       "std        4.360965\n",
       "min        1.000000\n",
       "25%        5.000000\n",
       "50%        8.000000\n",
       "75%       10.000000\n",
       "max       31.000000\n",
       "Name: TEMPO_EMPRESA, dtype: float64"
      ]
     },
     "execution_count": 450,
     "metadata": {},
     "output_type": "execute_result"
    },
    {
     "data": {
      "image/png": "[encoded data removed]",
      "text/plain": [
       "<Figure size 432x288 with 1 Axes>"
      ]
     },
     "metadata": {
      "needs_background": "light"
     },
     "output_type": "display_data"
    }
   ],
   "source": [
    "usuarios['TEMPO_EMPRESA'].hist()\n",
    "usuarios['TEMPO_EMPRESA'].describe()"
   ]
  },
  {
   "cell_type": "markdown",
   "metadata": {},
   "source": [
    "## Binning -> Porcentagem cobertura"
   ]
  },
  {
   "cell_type": "code",
   "execution_count": 451,
   "metadata": {},
   "outputs": [
    {
     "data": {
      "text/plain": [
       "<matplotlib.axes._subplots.AxesSubplot at 0x7f402fd1d400>"
      ]
     },
     "execution_count": 451,
     "metadata": {},
     "output_type": "execute_result"
    },
    {
     "data": {
      "image/png": "[encoded data removed]",
      "text/plain": [
       "<Figure size 432x288 with 1 Axes>"
      ]
     },
     "metadata": {
      "needs_background": "light"
     },
     "output_type": "display_data"
    }
   ],
   "source": [
    "df_filtrada['BIN_PORCENTAGEM_COBERTA'] = binning(df_filtrada['PORCENTAGEM_COBERTA'])\n",
    "df_filtrada['BIN_PORCENTAGEM_COBERTA'].value_counts().plot.bar()"
   ]
  },
  {
   "cell_type": "code",
   "execution_count": 452,
   "metadata": {},
   "outputs": [
    {
     "ename": "KeyError",
     "evalue": "'FAIXA_PORCENTAGEM_COBERTA'",
     "output_type": "error",
     "traceback": [
      "\u001b[0;31m---------------------------------------------------------------------------\u001b[0m",
      "\u001b[0;31mKeyError\u001b[0m                                  Traceback (most recent call last)",
      "\u001b[0;32m/usr/local/lib/python3.6/dist-packages/pandas/core/indexes/base.py\u001b[0m in \u001b[0;36mget_loc\u001b[0;34m(self, key, method, tolerance)\u001b[0m\n\u001b[1;32m   3077\u001b[0m             \u001b[0;32mtry\u001b[0m\u001b[0;34m:\u001b[0m\u001b[0;34m\u001b[0m\u001b[0;34m\u001b[0m\u001b[0m\n\u001b[0;32m-> 3078\u001b[0;31m                 \u001b[0;32mreturn\u001b[0m \u001b[0mself\u001b[0m\u001b[0;34m.\u001b[0m\u001b[0m_engine\u001b[0m\u001b[0;34m.\u001b[0m\u001b[0mget_loc\u001b[0m\u001b[0;34m(\u001b[0m\u001b[0mkey\u001b[0m\u001b[0;34m)\u001b[0m\u001b[0;34m\u001b[0m\u001b[0;34m\u001b[0m\u001b[0m\n\u001b[0m\u001b[1;32m   3079\u001b[0m             \u001b[0;32mexcept\u001b[0m \u001b[0mKeyError\u001b[0m\u001b[0;34m:\u001b[0m\u001b[0;34m\u001b[0m\u001b[0;34m\u001b[0m\u001b[0m\n",
      "\u001b[0;32mpandas/_libs/index.pyx\u001b[0m in \u001b[0;36mpandas._libs.index.IndexEngine.get_loc\u001b[0;34m()\u001b[0m\n",
      "\u001b[0;32mpandas/_libs/index.pyx\u001b[0m in \u001b[0;36mpandas._libs.index.IndexEngine.get_loc\u001b[0;34m()\u001b[0m\n",
      "\u001b[0;32mpandas/_libs/hashtable_class_helper.pxi\u001b[0m in \u001b[0;36mpandas._libs.hashtable.PyObjectHashTable.get_item\u001b[0;34m()\u001b[0m\n",
      "\u001b[0;32mpandas/_libs/hashtable_class_helper.pxi\u001b[0m in \u001b[0;36mpandas._libs.hashtable.PyObjectHashTable.get_item\u001b[0;34m()\u001b[0m\n",
      "\u001b[0;31mKeyError\u001b[0m: 'FAIXA_PORCENTAGEM_COBERTA'",
      "\nDuring handling of the above exception, another exception occurred:\n",
      "\u001b[0;31mKeyError\u001b[0m                                  Traceback (most recent call last)",
      "\u001b[0;32m<ipython-input-452-2b228f93bbc0>\u001b[0m in \u001b[0;36m<module>\u001b[0;34m\u001b[0m\n\u001b[0;32m----> 1\u001b[0;31m \u001b[0mdf_filtrada\u001b[0m\u001b[0;34m[\u001b[0m\u001b[0;34m'FAIXA_PORCENTAGEM_COBERTA'\u001b[0m\u001b[0;34m]\u001b[0m\u001b[0;34m.\u001b[0m\u001b[0mvalue_counts\u001b[0m\u001b[0;34m(\u001b[0m\u001b[0;34m)\u001b[0m\u001b[0;34m\u001b[0m\u001b[0;34m\u001b[0m\u001b[0m\n\u001b[0m",
      "\u001b[0;32m/usr/local/lib/python3.6/dist-packages/pandas/core/frame.py\u001b[0m in \u001b[0;36m__getitem__\u001b[0;34m(self, key)\u001b[0m\n\u001b[1;32m   2686\u001b[0m             \u001b[0;32mreturn\u001b[0m \u001b[0mself\u001b[0m\u001b[0;34m.\u001b[0m\u001b[0m_getitem_multilevel\u001b[0m\u001b[0;34m(\u001b[0m\u001b[0mkey\u001b[0m\u001b[0;34m)\u001b[0m\u001b[0;34m\u001b[0m\u001b[0;34m\u001b[0m\u001b[0m\n\u001b[1;32m   2687\u001b[0m         \u001b[0;32melse\u001b[0m\u001b[0;34m:\u001b[0m\u001b[0;34m\u001b[0m\u001b[0;34m\u001b[0m\u001b[0m\n\u001b[0;32m-> 2688\u001b[0;31m             \u001b[0;32mreturn\u001b[0m \u001b[0mself\u001b[0m\u001b[0;34m.\u001b[0m\u001b[0m_getitem_column\u001b[0m\u001b[0;34m(\u001b[0m\u001b[0mkey\u001b[0m\u001b[0;34m)\u001b[0m\u001b[0;34m\u001b[0m\u001b[0;34m\u001b[0m\u001b[0m\n\u001b[0m\u001b[1;32m   2689\u001b[0m \u001b[0;34m\u001b[0m\u001b[0m\n\u001b[1;32m   2690\u001b[0m     \u001b[0;32mdef\u001b[0m \u001b[0m_getitem_column\u001b[0m\u001b[0;34m(\u001b[0m\u001b[0mself\u001b[0m\u001b[0;34m,\u001b[0m \u001b[0mkey\u001b[0m\u001b[0;34m)\u001b[0m\u001b[0;34m:\u001b[0m\u001b[0;34m\u001b[0m\u001b[0;34m\u001b[0m\u001b[0m\n",
      "\u001b[0;32m/usr/local/lib/python3.6/dist-packages/pandas/core/frame.py\u001b[0m in \u001b[0;36m_getitem_column\u001b[0;34m(self, key)\u001b[0m\n\u001b[1;32m   2693\u001b[0m         \u001b[0;31m# get column\u001b[0m\u001b[0;34m\u001b[0m\u001b[0;34m\u001b[0m\u001b[0;34m\u001b[0m\u001b[0m\n\u001b[1;32m   2694\u001b[0m         \u001b[0;32mif\u001b[0m \u001b[0mself\u001b[0m\u001b[0;34m.\u001b[0m\u001b[0mcolumns\u001b[0m\u001b[0;34m.\u001b[0m\u001b[0mis_unique\u001b[0m\u001b[0;34m:\u001b[0m\u001b[0;34m\u001b[0m\u001b[0;34m\u001b[0m\u001b[0m\n\u001b[0;32m-> 2695\u001b[0;31m             \u001b[0;32mreturn\u001b[0m \u001b[0mself\u001b[0m\u001b[0;34m.\u001b[0m\u001b[0m_get_item_cache\u001b[0m\u001b[0;34m(\u001b[0m\u001b[0mkey\u001b[0m\u001b[0;34m)\u001b[0m\u001b[0;34m\u001b[0m\u001b[0;34m\u001b[0m\u001b[0m\n\u001b[0m\u001b[1;32m   2696\u001b[0m \u001b[0;34m\u001b[0m\u001b[0m\n\u001b[1;32m   2697\u001b[0m         \u001b[0;31m# duplicate columns & possible reduce dimensionality\u001b[0m\u001b[0;34m\u001b[0m\u001b[0;34m\u001b[0m\u001b[0;34m\u001b[0m\u001b[0m\n",
      "\u001b[0;32m/usr/local/lib/python3.6/dist-packages/pandas/core/generic.py\u001b[0m in \u001b[0;36m_get_item_cache\u001b[0;34m(self, item)\u001b[0m\n\u001b[1;32m   2487\u001b[0m         \u001b[0mres\u001b[0m \u001b[0;34m=\u001b[0m \u001b[0mcache\u001b[0m\u001b[0;34m.\u001b[0m\u001b[0mget\u001b[0m\u001b[0;34m(\u001b[0m\u001b[0mitem\u001b[0m\u001b[0;34m)\u001b[0m\u001b[0;34m\u001b[0m\u001b[0;34m\u001b[0m\u001b[0m\n\u001b[1;32m   2488\u001b[0m         \u001b[0;32mif\u001b[0m \u001b[0mres\u001b[0m \u001b[0;32mis\u001b[0m \u001b[0;32mNone\u001b[0m\u001b[0;34m:\u001b[0m\u001b[0;34m\u001b[0m\u001b[0;34m\u001b[0m\u001b[0m\n\u001b[0;32m-> 2489\u001b[0;31m             \u001b[0mvalues\u001b[0m \u001b[0;34m=\u001b[0m \u001b[0mself\u001b[0m\u001b[0;34m.\u001b[0m\u001b[0m_data\u001b[0m\u001b[0;34m.\u001b[0m\u001b[0mget\u001b[0m\u001b[0;34m(\u001b[0m\u001b[0mitem\u001b[0m\u001b[0;34m)\u001b[0m\u001b[0;34m\u001b[0m\u001b[0;34m\u001b[0m\u001b[0m\n\u001b[0m\u001b[1;32m   2490\u001b[0m             \u001b[0mres\u001b[0m \u001b[0;34m=\u001b[0m \u001b[0mself\u001b[0m\u001b[0;34m.\u001b[0m\u001b[0m_box_item_values\u001b[0m\u001b[0;34m(\u001b[0m\u001b[0mitem\u001b[0m\u001b[0;34m,\u001b[0m \u001b[0mvalues\u001b[0m\u001b[0;34m)\u001b[0m\u001b[0;34m\u001b[0m\u001b[0;34m\u001b[0m\u001b[0m\n\u001b[1;32m   2491\u001b[0m             \u001b[0mcache\u001b[0m\u001b[0;34m[\u001b[0m\u001b[0mitem\u001b[0m\u001b[0;34m]\u001b[0m \u001b[0;34m=\u001b[0m \u001b[0mres\u001b[0m\u001b[0;34m\u001b[0m\u001b[0;34m\u001b[0m\u001b[0m\n",
      "\u001b[0;32m/usr/local/lib/python3.6/dist-packages/pandas/core/internals.py\u001b[0m in \u001b[0;36mget\u001b[0;34m(self, item, fastpath)\u001b[0m\n\u001b[1;32m   4113\u001b[0m \u001b[0;34m\u001b[0m\u001b[0m\n\u001b[1;32m   4114\u001b[0m             \u001b[0;32mif\u001b[0m \u001b[0;32mnot\u001b[0m \u001b[0misna\u001b[0m\u001b[0;34m(\u001b[0m\u001b[0mitem\u001b[0m\u001b[0;34m)\u001b[0m\u001b[0;34m:\u001b[0m\u001b[0;34m\u001b[0m\u001b[0;34m\u001b[0m\u001b[0m\n\u001b[0;32m-> 4115\u001b[0;31m                 \u001b[0mloc\u001b[0m \u001b[0;34m=\u001b[0m \u001b[0mself\u001b[0m\u001b[0;34m.\u001b[0m\u001b[0mitems\u001b[0m\u001b[0;34m.\u001b[0m\u001b[0mget_loc\u001b[0m\u001b[0;34m(\u001b[0m\u001b[0mitem\u001b[0m\u001b[0;34m)\u001b[0m\u001b[0;34m\u001b[0m\u001b[0;34m\u001b[0m\u001b[0m\n\u001b[0m\u001b[1;32m   4116\u001b[0m             \u001b[0;32melse\u001b[0m\u001b[0;34m:\u001b[0m\u001b[0;34m\u001b[0m\u001b[0;34m\u001b[0m\u001b[0m\n\u001b[1;32m   4117\u001b[0m                 \u001b[0mindexer\u001b[0m \u001b[0;34m=\u001b[0m \u001b[0mnp\u001b[0m\u001b[0;34m.\u001b[0m\u001b[0marange\u001b[0m\u001b[0;34m(\u001b[0m\u001b[0mlen\u001b[0m\u001b[0;34m(\u001b[0m\u001b[0mself\u001b[0m\u001b[0;34m.\u001b[0m\u001b[0mitems\u001b[0m\u001b[0;34m)\u001b[0m\u001b[0;34m)\u001b[0m\u001b[0;34m[\u001b[0m\u001b[0misna\u001b[0m\u001b[0;34m(\u001b[0m\u001b[0mself\u001b[0m\u001b[0;34m.\u001b[0m\u001b[0mitems\u001b[0m\u001b[0;34m)\u001b[0m\u001b[0;34m]\u001b[0m\u001b[0;34m\u001b[0m\u001b[0;34m\u001b[0m\u001b[0m\n",
      "\u001b[0;32m/usr/local/lib/python3.6/dist-packages/pandas/core/indexes/base.py\u001b[0m in \u001b[0;36mget_loc\u001b[0;34m(self, key, method, tolerance)\u001b[0m\n\u001b[1;32m   3078\u001b[0m                 \u001b[0;32mreturn\u001b[0m \u001b[0mself\u001b[0m\u001b[0;34m.\u001b[0m\u001b[0m_engine\u001b[0m\u001b[0;34m.\u001b[0m\u001b[0mget_loc\u001b[0m\u001b[0;34m(\u001b[0m\u001b[0mkey\u001b[0m\u001b[0;34m)\u001b[0m\u001b[0;34m\u001b[0m\u001b[0;34m\u001b[0m\u001b[0m\n\u001b[1;32m   3079\u001b[0m             \u001b[0;32mexcept\u001b[0m \u001b[0mKeyError\u001b[0m\u001b[0;34m:\u001b[0m\u001b[0;34m\u001b[0m\u001b[0;34m\u001b[0m\u001b[0m\n\u001b[0;32m-> 3080\u001b[0;31m                 \u001b[0;32mreturn\u001b[0m \u001b[0mself\u001b[0m\u001b[0;34m.\u001b[0m\u001b[0m_engine\u001b[0m\u001b[0;34m.\u001b[0m\u001b[0mget_loc\u001b[0m\u001b[0;34m(\u001b[0m\u001b[0mself\u001b[0m\u001b[0;34m.\u001b[0m\u001b[0m_maybe_cast_indexer\u001b[0m\u001b[0;34m(\u001b[0m\u001b[0mkey\u001b[0m\u001b[0;34m)\u001b[0m\u001b[0;34m)\u001b[0m\u001b[0;34m\u001b[0m\u001b[0;34m\u001b[0m\u001b[0m\n\u001b[0m\u001b[1;32m   3081\u001b[0m \u001b[0;34m\u001b[0m\u001b[0m\n\u001b[1;32m   3082\u001b[0m         \u001b[0mindexer\u001b[0m \u001b[0;34m=\u001b[0m \u001b[0mself\u001b[0m\u001b[0;34m.\u001b[0m\u001b[0mget_indexer\u001b[0m\u001b[0;34m(\u001b[0m\u001b[0;34m[\u001b[0m\u001b[0mkey\u001b[0m\u001b[0;34m]\u001b[0m\u001b[0;34m,\u001b[0m \u001b[0mmethod\u001b[0m\u001b[0;34m=\u001b[0m\u001b[0mmethod\u001b[0m\u001b[0;34m,\u001b[0m \u001b[0mtolerance\u001b[0m\u001b[0;34m=\u001b[0m\u001b[0mtolerance\u001b[0m\u001b[0;34m)\u001b[0m\u001b[0;34m\u001b[0m\u001b[0;34m\u001b[0m\u001b[0m\n",
      "\u001b[0;32mpandas/_libs/index.pyx\u001b[0m in \u001b[0;36mpandas._libs.index.IndexEngine.get_loc\u001b[0;34m()\u001b[0m\n",
      "\u001b[0;32mpandas/_libs/index.pyx\u001b[0m in \u001b[0;36mpandas._libs.index.IndexEngine.get_loc\u001b[0;34m()\u001b[0m\n",
      "\u001b[0;32mpandas/_libs/hashtable_class_helper.pxi\u001b[0m in \u001b[0;36mpandas._libs.hashtable.PyObjectHashTable.get_item\u001b[0;34m()\u001b[0m\n",
      "\u001b[0;32mpandas/_libs/hashtable_class_helper.pxi\u001b[0m in \u001b[0;36mpandas._libs.hashtable.PyObjectHashTable.get_item\u001b[0;34m()\u001b[0m\n",
      "\u001b[0;31mKeyError\u001b[0m: 'FAIXA_PORCENTAGEM_COBERTA'"
     ]
    }
   ],
   "source": [
    "df_filtrada['FAIXA_PORCENTAGEM_COBERTA'].value_counts()"
   ]
  },
  {
   "cell_type": "markdown",
   "metadata": {},
   "source": [
    "### Categorização ESTADO CIVIL"
   ]
  },
  {
   "cell_type": "code",
   "execution_count": 453,
   "metadata": {},
   "outputs": [],
   "source": [
    "def estado_civil(x):\n",
    "    if x == 1:\n",
    "        return \"SOLTEIRO\"\n",
    "    elif x == 2:\n",
    "        return \"CASADO\"\n",
    "    else: return \"DIVORCIADO\"\n",
    "\n",
    "df_filtrada['EST_CIVIL'] = df_filtrada['EST_CIVIL'].apply(lambda x : estado_civil(x))"
   ]
  },
  {
   "cell_type": "code",
   "execution_count": 454,
   "metadata": {},
   "outputs": [],
   "source": [
    "df_filtrada['EST_CIVIL'] = df_filtrada['EST_CIVIL'].astype('category')"
   ]
  },
  {
   "cell_type": "markdown",
   "metadata": {},
   "source": [
    "### Categorização -> Idade"
   ]
  },
  {
   "cell_type": "code",
   "execution_count": 455,
   "metadata": {},
   "outputs": [],
   "source": [
    "def cria_classe_idade(x):\n",
    "    if x < 30:\n",
    "        return '20 anos'\n",
    "    elif x >= 30 and x <= 40:\n",
    "        return '30 anos'\n",
    "    elif x > 40:\n",
    "        return 'acima 40 anos'\n",
    "    \n",
    "\n",
    "df_filtrada['FAIXA_ETARIA'] = df_filtrada.apply(lambda x: cria_classe_idade(x['IDADE']), axis=1)\n",
    "df_filtrada['FAIXA_ETARIA'] = df_filtrada[classe].astype('category')"
   ]
  },
  {
   "cell_type": "markdown",
   "metadata": {},
   "source": [
    "### Binning idade"
   ]
  },
  {
   "cell_type": "code",
   "execution_count": 456,
   "metadata": {},
   "outputs": [],
   "source": [
    "df_filtrada['BIN_IDADE'] = binning(df_filtrada['IDADE'])"
   ]
  },
  {
   "cell_type": "markdown",
   "metadata": {},
   "source": [
    "### Categorização ERRO - ALERTA - OK\n",
    "<br>A empresa considera: <br>-OK: acima de 80%<br>-ALERTA: entre 79% e 70%<br>-ERRO: abaixo de 70%"
   ]
  },
  {
   "cell_type": "code",
   "execution_count": 457,
   "metadata": {},
   "outputs": [],
   "source": [
    "def ocorrencia(x):\n",
    "    if x >= 80:\n",
    "        return 'OK'\n",
    "    elif x<80 and x>=70:\n",
    "        return 'ALERTA'\n",
    "    else: \n",
    "        return 'ERRO'"
   ]
  },
  {
   "cell_type": "code",
   "execution_count": 458,
   "metadata": {},
   "outputs": [],
   "source": [
    "df_filtrada['TIPO_OCORRENCIA'] = df_filtrada.apply(lambda x: ocorrencia(x['PORCENTAGEM_COBERTA']), axis=1)\n",
    "df_filtrada['TIPO_OCORRENCIA'] = df_filtrada['TIPO_OCORRENCIA'].astype('category')\n",
    "df_filtrada['TIPO_OCORRENCIA'] = df_filtrada['TIPO_OCORRENCIA'].cat.reorder_categories(['OK', 'ALERTA', 'ERRO'])"
   ]
  },
  {
   "cell_type": "code",
   "execution_count": 459,
   "metadata": {},
   "outputs": [],
   "source": [
    "#df_filtrada[df_filtrada['TIPO_OCORRENCIA'].cat.codes == 2].head()"
   ]
  },
  {
   "cell_type": "markdown",
   "metadata": {},
   "source": [
    "### Salva para weka"
   ]
  },
  {
   "cell_type": "code",
   "execution_count": 460,
   "metadata": {},
   "outputs": [],
   "source": [
    "guardar = df_filtrada[df_filtrada['TIPO_OCORRENCIA'] == 'ERRO']\n",
    "guardar.to_csv(r'/home/silva/desenvolvedor/export_dataframe.csv', index = None, header=True)"
   ]
  },
  {
   "cell_type": "markdown",
   "metadata": {},
   "source": [
    "# Verificação do DATASET tratado"
   ]
  },
  {
   "cell_type": "markdown",
   "metadata": {},
   "source": [
    "### Verificação dos registros de cobertura de código de teste"
   ]
  },
  {
   "cell_type": "markdown",
   "metadata": {},
   "source": [
    "### V1) Distribuição de idade dos desenvolvedores que gravaram registros"
   ]
  },
  {
   "cell_type": "code",
   "execution_count": 461,
   "metadata": {},
   "outputs": [
    {
     "name": "stdout",
     "output_type": "stream",
     "text": [
      "Tamanho amostra: 2123\n"
     ]
    }
   ],
   "source": [
    "print(\"Tamanho amostra: {0}\".format(len(df_filtrada)))"
   ]
  },
  {
   "cell_type": "code",
   "execution_count": 462,
   "metadata": {},
   "outputs": [
    {
     "data": {
      "text/plain": [
       "Text(0.5, 0.98, 'Idade dos Desenvolvedores nas amostras')"
      ]
     },
     "execution_count": 462,
     "metadata": {},
     "output_type": "execute_result"
    },
    {
     "data": {
      "image/png": "[encoded data removed]",
      "text/plain": [
       "<Figure size 432x288 with 1 Axes>"
      ]
     },
     "metadata": {
      "needs_background": "light"
     },
     "output_type": "display_data"
    }
   ],
   "source": [
    "df_filtrada['IDADE'].hist()\n",
    "plt.suptitle(\"Idade dos Desenvolvedores nas amostras\")"
   ]
  },
  {
   "cell_type": "code",
   "execution_count": 463,
   "metadata": {},
   "outputs": [
    {
     "name": "stdout",
     "output_type": "stream",
     "text": [
      "mediana:35.0\n"
     ]
    },
    {
     "data": {
      "text/plain": [
       "count    2123.000000\n",
       "mean       35.787565\n",
       "std         5.000527\n",
       "min        22.000000\n",
       "25%        33.000000\n",
       "50%        35.000000\n",
       "75%        38.000000\n",
       "max        60.000000\n",
       "Name: IDADE, dtype: float64"
      ]
     },
     "execution_count": 463,
     "metadata": {},
     "output_type": "execute_result"
    }
   ],
   "source": [
    "print(\"mediana:\" + str(df_filtrada['IDADE'].median()))\n",
    "df_filtrada['IDADE'].describe()"
   ]
  },
  {
   "cell_type": "markdown",
   "metadata": {},
   "source": [
    "### V2) Tempo de empresa dos desenvolvedores que gravaram registros"
   ]
  },
  {
   "cell_type": "code",
   "execution_count": 464,
   "metadata": {},
   "outputs": [
    {
     "data": {
      "text/plain": [
       "Text(0.5, 0.98, 'Tempo de empresa relativo aos registros gravados')"
      ]
     },
     "execution_count": 464,
     "metadata": {},
     "output_type": "execute_result"
    },
    {
     "data": {
      "image/png": "[encoded data removed]",
      "text/plain": [
       "<Figure size 432x288 with 1 Axes>"
      ]
     },
     "metadata": {
      "needs_background": "light"
     },
     "output_type": "display_data"
    }
   ],
   "source": [
    "df_filtrada['TEMPO_EMPRESA'].hist()\n",
    "plt.suptitle(\"Tempo de empresa relativo aos registros gravados\")"
   ]
  },
  {
   "cell_type": "code",
   "execution_count": 465,
   "metadata": {},
   "outputs": [
    {
     "name": "stdout",
     "output_type": "stream",
     "text": [
      "mediana:8.0\n"
     ]
    },
    {
     "data": {
      "text/plain": [
       "count    2123.000000\n",
       "mean        7.178050\n",
       "std         3.841873\n",
       "min         1.000000\n",
       "25%         5.000000\n",
       "50%         8.000000\n",
       "75%        10.000000\n",
       "max        31.000000\n",
       "Name: TEMPO_EMPRESA, dtype: float64"
      ]
     },
     "execution_count": 465,
     "metadata": {},
     "output_type": "execute_result"
    }
   ],
   "source": [
    "print(\"mediana:\" + str(df_filtrada['TEMPO_EMPRESA'].median()))\n",
    "df_filtrada['TEMPO_EMPRESA'].describe()"
   ]
  },
  {
   "cell_type": "markdown",
   "metadata": {},
   "source": [
    "### V3) Faixa etária desenvolvedor"
   ]
  },
  {
   "cell_type": "code",
   "execution_count": 466,
   "metadata": {},
   "outputs": [
    {
     "name": "stdout",
     "output_type": "stream",
     "text": [
      "30 anos          1718\n",
      "acima 40 anos     240\n",
      "20 anos           165\n",
      "Name: FAIXA_ETARIA, dtype: int64\n"
     ]
    },
    {
     "data": {
      "text/plain": [
       "Text(0.5, 0.98, 'Faixa etária desenvolvedor que gerou ocorrência')"
      ]
     },
     "execution_count": 466,
     "metadata": {},
     "output_type": "execute_result"
    },
    {
     "data": {
      "image/png": "[encoded data removed]",
      "text/plain": [
       "<Figure size 432x288 with 1 Axes>"
      ]
     },
     "metadata": {
      "needs_background": "light"
     },
     "output_type": "display_data"
    }
   ],
   "source": [
    "print(df_filtrada[classe].value_counts())\n",
    "sns.countplot(df_filtrada[classe],label=\"Count\")\n",
    "plt.suptitle(\"Faixa etária desenvolvedor que gerou ocorrência\")"
   ]
  },
  {
   "cell_type": "code",
   "execution_count": 467,
   "metadata": {},
   "outputs": [],
   "source": [
    "df_20 = df_filtrada[df_filtrada[classe] == '20 anos']\n",
    "df_30 = df_filtrada[df_filtrada[classe] == '30 anos']\n",
    "df_40 = df_filtrada[df_filtrada[classe] == 'acima 40 anos']"
   ]
  },
  {
   "cell_type": "code",
   "execution_count": 468,
   "metadata": {},
   "outputs": [
    {
     "data": {
      "image/png": "[encoded data removed]",
      "text/plain": [
       "<Figure size 360x360 with 1 Axes>"
      ]
     },
     "metadata": {
      "needs_background": "light"
     },
     "output_type": "display_data"
    }
   ],
   "source": [
    "plot_boxplot(df_filtrada[classe], df_filtrada['PORCENTAGEM_COBERTA'], 5, 5, classe)"
   ]
  },
  {
   "cell_type": "markdown",
   "metadata": {},
   "source": [
    "### T) Teste de distribuições"
   ]
  },
  {
   "cell_type": "code",
   "execution_count": 469,
   "metadata": {},
   "outputs": [
    {
     "data": {
      "text/plain": [
       "<matplotlib.axes._subplots.AxesSubplot at 0x7f4030964080>"
      ]
     },
     "execution_count": 469,
     "metadata": {},
     "output_type": "execute_result"
    },
    {
     "data": {
      "image/png": "[encoded data removed]",
      "text/plain": [
       "<Figure size 432x288 with 1 Axes>"
      ]
     },
     "metadata": {
      "needs_background": "light"
     },
     "output_type": "display_data"
    }
   ],
   "source": [
    "sns.distplot(df_20['PORCENTAGEM_COBERTA'], hist = False, kde = True, kde_kws = {'shade': True, 'linewidth': 3},  label = '20 anos')\n",
    "sns.distplot(df_30['PORCENTAGEM_COBERTA'], hist = False, kde = True, kde_kws = {'shade': True, 'linewidth': 3},  label = '30 anos')\n",
    "sns.distplot(df_40['PORCENTAGEM_COBERTA'], hist = False, kde = True, kde_kws = {'shade': True, 'linewidth': 3},  label = '40 anos')"
   ]
  },
  {
   "cell_type": "code",
   "execution_count": 470,
   "metadata": {},
   "outputs": [
    {
     "name": "stdout",
     "output_type": "stream",
     "text": [
      "median:93.02325581395348\n",
      "count    165.000000\n",
      "mean      89.519182\n",
      "std       12.990635\n",
      "min       25.523013\n",
      "25%       83.467742\n",
      "50%       93.023256\n",
      "75%      100.000000\n",
      "max      100.000000\n",
      "Name: PORCENTAGEM_COBERTA, dtype: float64\n",
      "----------------------\n",
      "median:85.41666666666667\n",
      "count    1718.000000\n",
      "mean       82.151822\n",
      "std        17.388145\n",
      "min        20.000000\n",
      "25%        73.460478\n",
      "50%        85.416667\n",
      "75%        97.843619\n",
      "max       100.000000\n",
      "Name: PORCENTAGEM_COBERTA, dtype: float64\n",
      "----------------------\n",
      "median:78.99574303405572\n",
      "count    240.000000\n",
      "mean      73.718148\n",
      "std       19.355238\n",
      "min       20.000000\n",
      "25%       61.310393\n",
      "50%       78.995743\n",
      "75%       86.659607\n",
      "max      100.000000\n",
      "Name: PORCENTAGEM_COBERTA, dtype: float64\n"
     ]
    }
   ],
   "source": [
    "print('median:' + str(df_20['PORCENTAGEM_COBERTA'].median()))\n",
    "print(df_20['PORCENTAGEM_COBERTA'].describe())\n",
    "print('----------------------')\n",
    "print('median:' + str(df_30['PORCENTAGEM_COBERTA'].median()))\n",
    "print(df_30['PORCENTAGEM_COBERTA'].describe())\n",
    "print('----------------------')\n",
    "print('median:' + str(df_40['PORCENTAGEM_COBERTA'].median()))\n",
    "print(df_40['PORCENTAGEM_COBERTA'].describe())"
   ]
  },
  {
   "cell_type": "markdown",
   "metadata": {},
   "source": [
    "### T1)Verificação da existência de diferença nas distribuições, usando toda distribuição e ocorrências"
   ]
  },
  {
   "cell_type": "code",
   "execution_count": 471,
   "metadata": {},
   "outputs": [
    {
     "name": "stdout",
     "output_type": "stream",
     "text": [
      "KruskalResult(statistic=88.29236422112848, pvalue=6.722900942903351e-20)\n",
      "KruskalResult(statistic=32.41167259623873, pvalue=1.2473497559800273e-08)\n",
      "KruskalResult(statistic=84.17282872786805, pvalue=4.53358719540117e-20)\n",
      "KruskalResult(statistic=47.06856027076317, pvalue=6.854645976955679e-12)\n"
     ]
    }
   ],
   "source": [
    "print(stats.kruskal(df_20['PORCENTAGEM_COBERTA'], df_30['PORCENTAGEM_COBERTA'], df_40['PORCENTAGEM_COBERTA']))\n",
    "print(stats.kruskal(df_20['PORCENTAGEM_COBERTA'], df_30['PORCENTAGEM_COBERTA']))\n",
    "print(stats.kruskal(df_20['PORCENTAGEM_COBERTA'], df_40['PORCENTAGEM_COBERTA']))\n",
    "print(stats.kruskal(df_30['PORCENTAGEM_COBERTA'], df_40['PORCENTAGEM_COBERTA']))"
   ]
  },
  {
   "cell_type": "markdown",
   "metadata": {},
   "source": [
    "#### RT1) Pelo teste de Kruskal wallis, rejeita-se a hipótese nula, pois há indícioes que a média das distribuições são diferentes, levando em conta a faixa etaria "
   ]
  },
  {
   "cell_type": "markdown",
   "metadata": {},
   "source": [
    "### T2)Verificação de diferença nas distribuições, separando por faixa etária e sexo"
   ]
  },
  {
   "cell_type": "code",
   "execution_count": 472,
   "metadata": {},
   "outputs": [
    {
     "name": "stdout",
     "output_type": "stream",
     "text": [
      "KruskalResult(statistic=0.09776500328051212, pvalue=0.7545283836044219)\n",
      "KruskalResult(statistic=7.237025988898016, pvalue=0.0071415176471908235)\n",
      "KruskalResult(statistic=0.42063490403141873, pvalue=0.5166204094200435)\n"
     ]
    }
   ],
   "source": [
    "print(stats.kruskal(df_20[df_20['SEXO']=='M']['PORCENTAGEM_COBERTA'], df_20[df_20['SEXO']=='F']['PORCENTAGEM_COBERTA']))\n",
    "print(stats.kruskal(df_30[df_30['SEXO']=='M']['PORCENTAGEM_COBERTA'], df_30[df_30['SEXO']=='F']['PORCENTAGEM_COBERTA']))\n",
    "print(stats.kruskal(df_40[df_40['SEXO']=='M']['PORCENTAGEM_COBERTA'], df_40[df_40['SEXO']=='F']['PORCENTAGEM_COBERTA']))"
   ]
  },
  {
   "cell_type": "markdown",
   "metadata": {},
   "source": [
    "#### RT2: Existe diferença significativa apenas na faixa etária de 30 anos, entre os sexos"
   ]
  },
  {
   "cell_type": "markdown",
   "metadata": {},
   "source": [
    "### T3)Verificação de diferença nas distribuições entre faixa etária (dividido por sexo)"
   ]
  },
  {
   "cell_type": "code",
   "execution_count": 473,
   "metadata": {},
   "outputs": [
    {
     "name": "stdout",
     "output_type": "stream",
     "text": [
      "Masculino: 20 anos <-> 30 anos\n",
      "KruskalResult(statistic=33.72860864183158, pvalue=6.336196796192806e-09)\n",
      "Masculino: 20 anos <-> 40 anos\n",
      "KruskalResult(statistic=81.90997722993666, pvalue=1.424284830997749e-19)\n",
      "Masculino: 30 anos <-> 40 anos\n",
      "KruskalResult(statistic=42.67074598493471, pvalue=6.477378897842572e-11)\n"
     ]
    }
   ],
   "source": [
    "print('Masculino: 20 anos <-> 30 anos')\n",
    "print(stats.kruskal(df_20[df_20['SEXO']=='M']['PORCENTAGEM_COBERTA'], df_30[df_30['SEXO']=='M']['PORCENTAGEM_COBERTA']))\n",
    "print('Masculino: 20 anos <-> 40 anos')\n",
    "print(stats.kruskal(df_20[df_20['SEXO']=='M']['PORCENTAGEM_COBERTA'], df_40[df_40['SEXO']=='M']['PORCENTAGEM_COBERTA']))\n",
    "print('Masculino: 30 anos <-> 40 anos')\n",
    "print(stats.kruskal(df_30[df_30['SEXO']=='M']['PORCENTAGEM_COBERTA'], df_40[df_40['SEXO']=='M']['PORCENTAGEM_COBERTA']))"
   ]
  },
  {
   "cell_type": "markdown",
   "metadata": {},
   "source": [
    "#### RT3.1: Olhando apenas a população masculina, existe diferença significativa em todas as faixas etárias"
   ]
  },
  {
   "cell_type": "code",
   "execution_count": 474,
   "metadata": {},
   "outputs": [
    {
     "name": "stdout",
     "output_type": "stream",
     "text": [
      "KruskalResult(statistic=0.11185715620916344, pvalue=0.738039615870417)\n",
      "KruskalResult(statistic=3.147482014388489, pvalue=0.07604422422008318)\n",
      "KruskalResult(statistic=2.3184464203742117, pvalue=0.12784765808273382)\n"
     ]
    }
   ],
   "source": [
    "print(stats.kruskal(df_20[df_20['SEXO']=='F']['PORCENTAGEM_COBERTA'], df_30[df_30['SEXO']=='F']['PORCENTAGEM_COBERTA']))\n",
    "print(stats.kruskal(df_20[df_20['SEXO']=='F']['PORCENTAGEM_COBERTA'], df_40[df_40['SEXO']=='F']['PORCENTAGEM_COBERTA']))\n",
    "print(stats.kruskal(df_30[df_30['SEXO']=='F']['PORCENTAGEM_COBERTA'], df_40[df_40['SEXO']=='F']['PORCENTAGEM_COBERTA']))"
   ]
  },
  {
   "cell_type": "markdown",
   "metadata": {},
   "source": [
    "#### RT3.2: Não existem diferenças significativa entre as faixas etárias, dentro do sexo feminino"
   ]
  },
  {
   "cell_type": "markdown",
   "metadata": {},
   "source": [
    "### T4)Verificação da existência de diferença nas distribuições, usando apenas erros"
   ]
  },
  {
   "cell_type": "code",
   "execution_count": 475,
   "metadata": {},
   "outputs": [
    {
     "name": "stdout",
     "output_type": "stream",
     "text": [
      "KruskalResult(statistic=nan, pvalue=nan)\n",
      "KruskalResult(statistic=8.298293677787013, pvalue=0.00396823448935263)\n",
      "KruskalResult(statistic=13.442129430265789, pvalue=0.0002460361958385722)\n"
     ]
    }
   ],
   "source": [
    "df_20_erro_masculino = df_20[(df_20['SEXO']=='M') & (df_20['TIPO_OCORRENCIA']=='ERRO')]['PORCENTAGEM_COBERTA']\n",
    "df_30_erro_masculino = df_30[(df_30['SEXO']=='M') & (df_30['TIPO_OCORRENCIA']=='ERRO')]['PORCENTAGEM_COBERTA']\n",
    "df_40_erro_masculino = df_40[(df_40['SEXO']=='M') & (df_40['TIPO_OCORRENCIA']=='ERRO')]['PORCENTAGEM_COBERTA']\n",
    "df_20_erro_feminino = df_20[(df_20['SEXO']=='F') & (df_20['TIPO_OCORRENCIA']=='ERRO')]['PORCENTAGEM_COBERTA']\n",
    "df_30_erro_feminino = df_30[(df_30['SEXO']=='F') & (df_30['TIPO_OCORRENCIA']=='ERRO')]['PORCENTAGEM_COBERTA']\n",
    "df_40_erro_feminino = df_40[(df_40['SEXO']=='F') & (df_40['TIPO_OCORRENCIA']=='ERRO')]['PORCENTAGEM_COBERTA']\n",
    "\n",
    "print(stats.kruskal(df_20_erro_masculino, df_20_erro_feminino))\n",
    "print(stats.kruskal(df_30_erro_masculino, df_30_erro_feminino))\n",
    "print(stats.kruskal(df_40_erro_masculino, df_30_erro_feminino))"
   ]
  },
  {
   "cell_type": "code",
   "execution_count": 476,
   "metadata": {},
   "outputs": [],
   "source": [
    "### R4"
   ]
  },
  {
   "cell_type": "code",
   "execution_count": 477,
   "metadata": {},
   "outputs": [
    {
     "name": "stdout",
     "output_type": "stream",
     "text": [
      "KruskalResult(statistic=13.442129430265789, pvalue=0.0002460361958385722)\n"
     ]
    }
   ],
   "source": [
    "print(stats.kruskal(df_40_erro_masculino, df_30_erro_feminino))"
   ]
  },
  {
   "cell_type": "code",
   "execution_count": null,
   "metadata": {},
   "outputs": [],
   "source": []
  },
  {
   "cell_type": "markdown",
   "metadata": {},
   "source": [
    "## A Priori"
   ]
  },
  {
   "cell_type": "markdown",
   "metadata": {},
   "source": [
    "EST_CIVIL - SEXO - FAIXA_ETARIA - TIPO_OCORRENCIA"
   ]
  },
  {
   "cell_type": "markdown",
   "metadata": {},
   "source": [
    "# === Run information ===\n",
    "\n",
    "Scheme:       weka.associations.Apriori -I -N 100 -T 0 -C 0.6 -D 0.05 -U 1.0 -M 0.1 -S -1.0 -c -1\n",
    "Relation:     export_dataframe-weka.filters.unsupervised.attribute.Remove-R1-12,15-18,20\n",
    "Instances:    417\n",
    "Attributes:   4\n",
    "              EST_CIVIL\n",
    "              SEXO\n",
    "              FAIXA_ETARIA\n",
    "              TIPO_OCORRENCIA\n",
    "=== Associator model (full training set) ===\n",
    "\n",
    "\n",
    "Apriori\n",
    "=======\n",
    "\n",
    "Minimum support: 0.1 (42 instances)\n",
    "Minimum metric <confidence>: 0.6\n",
    "Number of cycles performed: 18\n",
    "\n",
    "Generated sets of large itemsets:\n",
    "\n",
    "Size of set of large itemsets L(1): 6\n",
    "\n",
    "Large Itemsets L(1):\n",
    "EST_CIVIL=CASADO 97\n",
    "EST_CIVIL=SOLTEIRO 320\n",
    "SEXO=M 400\n",
    "FAIXA_ETARIA=acima 40 anos 83\n",
    "FAIXA_ETARIA=30 anos 324\n",
    "TIPO_OCORRENCIA=ERRO 417\n",
    "\n",
    "Size of set of large itemsets L(2): 12\n",
    "\n",
    "Large Itemsets L(2):\n",
    "EST_CIVIL=CASADO SEXO=M 97\n",
    "EST_CIVIL=CASADO FAIXA_ETARIA=30 anos 79\n",
    "EST_CIVIL=CASADO TIPO_OCORRENCIA=ERRO 97\n",
    "EST_CIVIL=SOLTEIRO SEXO=M 303\n",
    "EST_CIVIL=SOLTEIRO FAIXA_ETARIA=acima 40 anos 66\n",
    "EST_CIVIL=SOLTEIRO FAIXA_ETARIA=30 anos 245\n",
    "EST_CIVIL=SOLTEIRO TIPO_OCORRENCIA=ERRO 320\n",
    "SEXO=M FAIXA_ETARIA=acima 40 anos 83\n",
    "SEXO=M FAIXA_ETARIA=30 anos 307\n",
    "SEXO=M TIPO_OCORRENCIA=ERRO 400\n",
    "FAIXA_ETARIA=acima 40 anos TIPO_OCORRENCIA=ERRO 83\n",
    "FAIXA_ETARIA=30 anos TIPO_OCORRENCIA=ERRO 324\n",
    "\n",
    "Size of set of large itemsets L(3): 10\n",
    "\n",
    "Large Itemsets L(3):\n",
    "EST_CIVIL=CASADO SEXO=M FAIXA_ETARIA=30 anos 79\n",
    "EST_CIVIL=CASADO SEXO=M TIPO_OCORRENCIA=ERRO 97\n",
    "EST_CIVIL=CASADO FAIXA_ETARIA=30 anos TIPO_OCORRENCIA=ERRO 79\n",
    "EST_CIVIL=SOLTEIRO SEXO=M FAIXA_ETARIA=acima 40 anos 66\n",
    "EST_CIVIL=SOLTEIRO SEXO=M FAIXA_ETARIA=30 anos 228\n",
    "EST_CIVIL=SOLTEIRO SEXO=M TIPO_OCORRENCIA=ERRO 303\n",
    "EST_CIVIL=SOLTEIRO FAIXA_ETARIA=acima 40 anos TIPO_OCORRENCIA=ERRO 66\n",
    "EST_CIVIL=SOLTEIRO FAIXA_ETARIA=30 anos TIPO_OCORRENCIA=ERRO 245\n",
    "SEXO=M FAIXA_ETARIA=acima 40 anos TIPO_OCORRENCIA=ERRO 83\n",
    "SEXO=M FAIXA_ETARIA=30 anos TIPO_OCORRENCIA=ERRO 307\n",
    "\n",
    "Size of set of large itemsets L(4): 3\n",
    "\n",
    "Large Itemsets L(4):\n",
    "EST_CIVIL=CASADO SEXO=M FAIXA_ETARIA=30 anos TIPO_OCORRENCIA=ERRO 79\n",
    "EST_CIVIL=SOLTEIRO SEXO=M FAIXA_ETARIA=acima 40 anos TIPO_OCORRENCIA=ERRO 66\n",
    "EST_CIVIL=SOLTEIRO SEXO=M FAIXA_ETARIA=30 anos TIPO_OCORRENCIA=ERRO 228\n",
    "\n",
    "Best rules found:\n",
    "\n",
    "  1. SEXO=M 400 ==> TIPO_OCORRENCIA=ERRO 400    <conf:(1)> lift:(1) lev:(0) [0] conv:(0)\n",
    "  2. FAIXA_ETARIA=30 anos 324 ==> TIPO_OCORRENCIA=ERRO 324    <conf:(1)> lift:(1) lev:(0) [0] conv:(0)\n",
    "  3. EST_CIVIL=SOLTEIRO 320 ==> TIPO_OCORRENCIA=ERRO 320    <conf:(1)> lift:(1) lev:(0) [0] conv:(0)\n",
    "  4. SEXO=M FAIXA_ETARIA=30 anos 307 ==> TIPO_OCORRENCIA=ERRO 307    <conf:(1)> lift:(1) lev:(0) [0] conv:(0)\n",
    "  5. EST_CIVIL=SOLTEIRO SEXO=M 303 ==> TIPO_OCORRENCIA=ERRO 303    <conf:(1)> lift:(1) lev:(0) [0] conv:(0)\n",
    "  6. EST_CIVIL=SOLTEIRO FAIXA_ETARIA=30 anos 245 ==> TIPO_OCORRENCIA=ERRO 245    <conf:(1)> lift:(1) lev:(0) [0] conv:(0)\n",
    "  7. EST_CIVIL=SOLTEIRO SEXO=M FAIXA_ETARIA=30 anos 228 ==> TIPO_OCORRENCIA=ERRO 228    <conf:(1)> lift:(1) lev:(0) [0] conv:(0)\n",
    "  8. EST_CIVIL=CASADO 97 ==> SEXO=M 97    <conf:(1)> lift:(1.04) lev:(0.01) [3] conv:(3.95)\n",
    "  9. EST_CIVIL=CASADO 97 ==> TIPO_OCORRENCIA=ERRO 97    <conf:(1)> lift:(1) lev:(0) [0] conv:(0)\n",
    " 10. EST_CIVIL=CASADO TIPO_OCORRENCIA=ERRO 97 ==> SEXO=M 97    <conf:(1)> lift:(1.04) lev:(0.01) [3] conv:(3.95)\n",
    " 11. EST_CIVIL=CASADO SEXO=M 97 ==> TIPO_OCORRENCIA=ERRO 97    <conf:(1)> lift:(1) lev:(0) [0] conv:(0)\n",
    " 12. EST_CIVIL=CASADO 97 ==> SEXO=M TIPO_OCORRENCIA=ERRO 97    <conf:(1)> lift:(1.04) lev:(0.01) [3] conv:(3.95)\n",
    " 13. FAIXA_ETARIA=acima 40 anos 83 ==> SEXO=M 83    <conf:(1)> lift:(1.04) lev:(0.01) [3] conv:(3.38)\n",
    " 14. FAIXA_ETARIA=acima 40 anos 83 ==> TIPO_OCORRENCIA=ERRO 83    <conf:(1)> lift:(1) lev:(0) [0] conv:(0)\n",
    " 15. FAIXA_ETARIA=acima 40 anos TIPO_OCORRENCIA=ERRO 83 ==> SEXO=M 83    <conf:(1)> lift:(1.04) lev:(0.01) [3] conv:(3.38)\n",
    " 16. SEXO=M FAIXA_ETARIA=acima 40 anos 83 ==> TIPO_OCORRENCIA=ERRO 83    <conf:(1)> lift:(1) lev:(0) [0] conv:(0)\n",
    " 17. FAIXA_ETARIA=acima 40 anos 83 ==> SEXO=M TIPO_OCORRENCIA=ERRO 83    <conf:(1)> lift:(1.04) lev:(0.01) [3] conv:(3.38)\n",
    " 18. EST_CIVIL=CASADO FAIXA_ETARIA=30 anos 79 ==> SEXO=M 79    <conf:(1)> lift:(1.04) lev:(0.01) [3] conv:(3.22)\n",
    " 19. EST_CIVIL=CASADO FAIXA_ETARIA=30 anos 79 ==> TIPO_OCORRENCIA=ERRO 79    <conf:(1)> lift:(1) lev:(0) [0] conv:(0)\n",
    " 20. EST_CIVIL=CASADO FAIXA_ETARIA=30 anos TIPO_OCORRENCIA=ERRO 79 ==> SEXO=M 79    <conf:(1)> lift:(1.04) lev:(0.01) [3] conv:(3.22)\n",
    " 21. EST_CIVIL=CASADO SEXO=M FAIXA_ETARIA=30 anos 79 ==> TIPO_OCORRENCIA=ERRO 79    <conf:(1)> lift:(1) lev:(0) [0] conv:(0)\n",
    " 22. EST_CIVIL=CASADO FAIXA_ETARIA=30 anos 79 ==> SEXO=M TIPO_OCORRENCIA=ERRO 79    <conf:(1)> lift:(1.04) lev:(0.01) [3] conv:(3.22)\n",
    " 23. EST_CIVIL=SOLTEIRO FAIXA_ETARIA=acima 40 anos 66 ==> SEXO=M 66    <conf:(1)> lift:(1.04) lev:(0.01) [2] conv:(2.69)\n",
    " 24. EST_CIVIL=SOLTEIRO FAIXA_ETARIA=acima 40 anos 66 ==> TIPO_OCORRENCIA=ERRO 66    <conf:(1)> lift:(1) lev:(0) [0] conv:(0)\n",
    " 25. EST_CIVIL=SOLTEIRO FAIXA_ETARIA=acima 40 anos TIPO_OCORRENCIA=ERRO 66 ==> SEXO=M 66    <conf:(1)> lift:(1.04) lev:(0.01) [2] conv:(2.69)\n",
    " 26. EST_CIVIL=SOLTEIRO SEXO=M FAIXA_ETARIA=acima 40 anos 66 ==> TIPO_OCORRENCIA=ERRO 66    <conf:(1)> lift:(1) lev:(0) [0] conv:(0)\n",
    " 27. EST_CIVIL=SOLTEIRO FAIXA_ETARIA=acima 40 anos 66 ==> SEXO=M TIPO_OCORRENCIA=ERRO 66    <conf:(1)> lift:(1.04) lev:(0.01) [2] conv:(2.69)\n",
    " 28. TIPO_OCORRENCIA=ERRO 417 ==> SEXO=M 400    <conf:(0.96)> lift:(1) lev:(0) [0] conv:(0.94)\n",
    " 29. FAIXA_ETARIA=30 anos 324 ==> SEXO=M 307    <conf:(0.95)> lift:(0.99) lev:(-0.01) [-3] conv:(0.73)\n",
    " 30. FAIXA_ETARIA=30 anos TIPO_OCORRENCIA=ERRO 324 ==> SEXO=M 307    <conf:(0.95)> lift:(0.99) lev:(-0.01) [-3] conv:(0.73)\n",
    " 31. FAIXA_ETARIA=30 anos 324 ==> SEXO=M TIPO_OCORRENCIA=ERRO 307    <conf:(0.95)> lift:(0.99) lev:(-0.01) [-3] conv:(0.73)\n",
    " 32. EST_CIVIL=SOLTEIRO 320 ==> SEXO=M 303    <conf:(0.95)> lift:(0.99) lev:(-0.01) [-3] conv:(0.72)\n",
    " 33. EST_CIVIL=SOLTEIRO TIPO_OCORRENCIA=ERRO 320 ==> SEXO=M 303    <conf:(0.95)> lift:(0.99) lev:(-0.01) [-3] conv:(0.72)\n",
    " 34. EST_CIVIL=SOLTEIRO 320 ==> SEXO=M TIPO_OCORRENCIA=ERRO 303    <conf:(0.95)> lift:(0.99) lev:(-0.01) [-3] conv:(0.72)\n",
    " 35. EST_CIVIL=SOLTEIRO FAIXA_ETARIA=30 anos 245 ==> SEXO=M 228    <conf:(0.93)> lift:(0.97) lev:(-0.02) [-7] conv:(0.55)\n",
    " 36. EST_CIVIL=SOLTEIRO FAIXA_ETARIA=30 anos TIPO_OCORRENCIA=ERRO 245 ==> SEXO=M 228    <conf:(0.93)> lift:(0.97) lev:(-0.02) [-7] conv:(0.55)\n",
    " 37. EST_CIVIL=SOLTEIRO FAIXA_ETARIA=30 anos 245 ==> SEXO=M TIPO_OCORRENCIA=ERRO 228    <conf:(0.93)> lift:(0.97) lev:(-0.02) [-7] conv:(0.55)\n",
    " 38. EST_CIVIL=CASADO 97 ==> FAIXA_ETARIA=30 anos 79    <conf:(0.81)> lift:(1.05) lev:(0.01) [3] conv:(1.14)\n",
    " 39. EST_CIVIL=CASADO SEXO=M 97 ==> FAIXA_ETARIA=30 anos 79    <conf:(0.81)> lift:(1.05) lev:(0.01) [3] conv:(1.14)\n",
    " 40. EST_CIVIL=CASADO 97 ==> SEXO=M FAIXA_ETARIA=30 anos 79    <conf:(0.81)> lift:(1.11) lev:(0.02) [7] conv:(1.35)\n",
    " 41. EST_CIVIL=CASADO TIPO_OCORRENCIA=ERRO 97 ==> FAIXA_ETARIA=30 anos 79    <conf:(0.81)> lift:(1.05) lev:(0.01) [3] conv:(1.14)\n",
    " 42. EST_CIVIL=CASADO 97 ==> FAIXA_ETARIA=30 anos TIPO_OCORRENCIA=ERRO 79    <conf:(0.81)> lift:(1.05) lev:(0.01) [3] conv:(1.14)\n",
    " 43. EST_CIVIL=CASADO SEXO=M TIPO_OCORRENCIA=ERRO 97 ==> FAIXA_ETARIA=30 anos 79    <conf:(0.81)> lift:(1.05) lev:(0.01) [3] conv:(1.14)\n",
    " 44. EST_CIVIL=CASADO TIPO_OCORRENCIA=ERRO 97 ==> SEXO=M FAIXA_ETARIA=30 anos 79    <conf:(0.81)> lift:(1.11) lev:(0.02) [7] conv:(1.35)\n",
    " 45. EST_CIVIL=CASADO SEXO=M 97 ==> FAIXA_ETARIA=30 anos TIPO_OCORRENCIA=ERRO 79    <conf:(0.81)> lift:(1.05) lev:(0.01) [3] conv:(1.14)\n",
    " 46. EST_CIVIL=CASADO 97 ==> SEXO=M FAIXA_ETARIA=30 anos TIPO_OCORRENCIA=ERRO 79    <conf:(0.81)> lift:(1.11) lev:(0.02) [7] conv:(1.35)\n",
    " 47. FAIXA_ETARIA=acima 40 anos 83 ==> EST_CIVIL=SOLTEIRO 66    <conf:(0.8)> lift:(1.04) lev:(0.01) [2] conv:(1.07)\n",
    " 48. SEXO=M FAIXA_ETARIA=acima 40 anos 83 ==> EST_CIVIL=SOLTEIRO 66    <conf:(0.8)> lift:(1.04) lev:(0.01) [2] conv:(1.07)\n",
    " 49. FAIXA_ETARIA=acima 40 anos 83 ==> EST_CIVIL=SOLTEIRO SEXO=M 66    <conf:(0.8)> lift:(1.09) lev:(0.01) [5] conv:(1.26)\n",
    " 50. FAIXA_ETARIA=acima 40 anos TIPO_OCORRENCIA=ERRO 83 ==> EST_CIVIL=SOLTEIRO 66    <conf:(0.8)> lift:(1.04) lev:(0.01) [2] conv:(1.07)\n",
    " 51. FAIXA_ETARIA=acima 40 anos 83 ==> EST_CIVIL=SOLTEIRO TIPO_OCORRENCIA=ERRO 66    <conf:(0.8)> lift:(1.04) lev:(0.01) [2] conv:(1.07)\n",
    " 52. SEXO=M FAIXA_ETARIA=acima 40 anos TIPO_OCORRENCIA=ERRO 83 ==> EST_CIVIL=SOLTEIRO 66    <conf:(0.8)> lift:(1.04) lev:(0.01) [2] conv:(1.07)\n",
    " 53. FAIXA_ETARIA=acima 40 anos TIPO_OCORRENCIA=ERRO 83 ==> EST_CIVIL=SOLTEIRO SEXO=M 66    <conf:(0.8)> lift:(1.09) lev:(0.01) [5] conv:(1.26)\n",
    " 54. SEXO=M FAIXA_ETARIA=acima 40 anos 83 ==> EST_CIVIL=SOLTEIRO TIPO_OCORRENCIA=ERRO 66    <conf:(0.8)> lift:(1.04) lev:(0.01) [2] conv:(1.07)\n",
    " 55. FAIXA_ETARIA=acima 40 anos 83 ==> EST_CIVIL=SOLTEIRO SEXO=M TIPO_OCORRENCIA=ERRO 66    <conf:(0.8)> lift:(1.09) lev:(0.01) [5] conv:(1.26)\n",
    " 56. TIPO_OCORRENCIA=ERRO 417 ==> FAIXA_ETARIA=30 anos 324    <conf:(0.78)> lift:(1) lev:(0) [0] conv:(0.99)\n",
    " 57. SEXO=M 400 ==> FAIXA_ETARIA=30 anos 307    <conf:(0.77)> lift:(0.99) lev:(-0.01) [-3] conv:(0.95)\n",
    " 58. SEXO=M TIPO_OCORRENCIA=ERRO 400 ==> FAIXA_ETARIA=30 anos 307    <conf:(0.77)> lift:(0.99) lev:(-0.01) [-3] conv:(0.95)\n",
    " 59. SEXO=M 400 ==> FAIXA_ETARIA=30 anos TIPO_OCORRENCIA=ERRO 307    <conf:(0.77)> lift:(0.99) lev:(-0.01) [-3] conv:(0.95)\n",
    " 60. TIPO_OCORRENCIA=ERRO 417 ==> EST_CIVIL=SOLTEIRO 320    <conf:(0.77)> lift:(1) lev:(0) [0] conv:(0.99)\n",
    " 61. EST_CIVIL=SOLTEIRO 320 ==> FAIXA_ETARIA=30 anos 245    <conf:(0.77)> lift:(0.99) lev:(-0.01) [-3] conv:(0.94)\n",
    " 62. EST_CIVIL=SOLTEIRO TIPO_OCORRENCIA=ERRO 320 ==> FAIXA_ETARIA=30 anos 245    <conf:(0.77)> lift:(0.99) lev:(-0.01) [-3] conv:(0.94)\n",
    " 63. EST_CIVIL=SOLTEIRO 320 ==> FAIXA_ETARIA=30 anos TIPO_OCORRENCIA=ERRO 245    <conf:(0.77)> lift:(0.99) lev:(-0.01) [-3] conv:(0.94)\n",
    " 64. SEXO=M 400 ==> EST_CIVIL=SOLTEIRO 303    <conf:(0.76)> lift:(0.99) lev:(-0.01) [-3] conv:(0.95)\n",
    " 65. SEXO=M TIPO_OCORRENCIA=ERRO 400 ==> EST_CIVIL=SOLTEIRO 303    <conf:(0.76)> lift:(0.99) lev:(-0.01) [-3] conv:(0.95)\n",
    " 66. SEXO=M 400 ==> EST_CIVIL=SOLTEIRO TIPO_OCORRENCIA=ERRO 303    <conf:(0.76)> lift:(0.99) lev:(-0.01) [-3] conv:(0.95)\n",
    " 67. FAIXA_ETARIA=30 anos 324 ==> EST_CIVIL=SOLTEIRO 245    <conf:(0.76)> lift:(0.99) lev:(-0.01) [-3] conv:(0.94)\n",
    " 68. FAIXA_ETARIA=30 anos TIPO_OCORRENCIA=ERRO 324 ==> EST_CIVIL=SOLTEIRO 245    <conf:(0.76)> lift:(0.99) lev:(-0.01) [-3] conv:(0.94)\n",
    " 69. FAIXA_ETARIA=30 anos 324 ==> EST_CIVIL=SOLTEIRO TIPO_OCORRENCIA=ERRO 245    <conf:(0.76)> lift:(0.99) lev:(-0.01) [-3] conv:(0.94)\n",
    " 70. EST_CIVIL=SOLTEIRO SEXO=M 303 ==> FAIXA_ETARIA=30 anos 228    <conf:(0.75)> lift:(0.97) lev:(-0.02) [-7] conv:(0.89)\n",
    " 71. EST_CIVIL=SOLTEIRO SEXO=M TIPO_OCORRENCIA=ERRO 303 ==> FAIXA_ETARIA=30 anos 228    <conf:(0.75)> lift:(0.97) lev:(-0.02) [-7] conv:(0.89)\n",
    " 72. EST_CIVIL=SOLTEIRO SEXO=M 303 ==> FAIXA_ETARIA=30 anos TIPO_OCORRENCIA=ERRO 228    <conf:(0.75)> lift:(0.97) lev:(-0.02) [-7] conv:(0.89)\n",
    " 73. SEXO=M FAIXA_ETARIA=30 anos 307 ==> EST_CIVIL=SOLTEIRO 228    <conf:(0.74)> lift:(0.97) lev:(-0.02) [-7] conv:(0.89)\n",
    " 74. SEXO=M FAIXA_ETARIA=30 anos TIPO_OCORRENCIA=ERRO 307 ==> EST_CIVIL=SOLTEIRO 228    <conf:(0.74)> lift:(0.97) lev:(-0.02) [-7] conv:(0.89)\n",
    " 75. SEXO=M FAIXA_ETARIA=30 anos 307 ==> EST_CIVIL=SOLTEIRO TIPO_OCORRENCIA=ERRO 228    <conf:(0.74)> lift:(0.97) lev:(-0.02) [-7] conv:(0.89)\n",
    " 76. TIPO_OCORRENCIA=ERRO 417 ==> SEXO=M FAIXA_ETARIA=30 anos 307    <conf:(0.74)> lift:(1) lev:(0) [0] conv:(0.99)\n",
    " 77. TIPO_OCORRENCIA=ERRO 417 ==> EST_CIVIL=SOLTEIRO SEXO=M 303    <conf:(0.73)> lift:(1) lev:(0) [0] conv:(0.99)\n",
    " 78. EST_CIVIL=SOLTEIRO 320 ==> SEXO=M FAIXA_ETARIA=30 anos 228    <conf:(0.71)> lift:(0.97) lev:(-0.02) [-7] conv:(0.91)\n",
    " 79. EST_CIVIL=SOLTEIRO TIPO_OCORRENCIA=ERRO 320 ==> SEXO=M FAIXA_ETARIA=30 anos 228    <conf:(0.71)> lift:(0.97) lev:(-0.02) [-7] conv:(0.91)\n",
    " 80. EST_CIVIL=SOLTEIRO 320 ==> SEXO=M FAIXA_ETARIA=30 anos TIPO_OCORRENCIA=ERRO 228    <conf:(0.71)> lift:(0.97) lev:(-0.02) [-7] conv:(0.91)\n",
    " 81. FAIXA_ETARIA=30 anos 324 ==> EST_CIVIL=SOLTEIRO SEXO=M 228    <conf:(0.7)> lift:(0.97) lev:(-0.02) [-7] conv:(0.91)\n",
    " 82. FAIXA_ETARIA=30 anos TIPO_OCORRENCIA=ERRO 324 ==> EST_CIVIL=SOLTEIRO SEXO=M 228    <conf:(0.7)> lift:(0.97) lev:(-0.02) [-7] conv:(0.91)\n",
    " 83. FAIXA_ETARIA=30 anos 324 ==> EST_CIVIL=SOLTEIRO SEXO=M TIPO_OCORRENCIA=ERRO 228    <conf:(0.7)> lift:(0.97) lev:(-0.02) [-7] conv:(0.91)\n"
   ]
  },
  {
   "cell_type": "markdown",
   "metadata": {},
   "source": [
    "## A Priori-2"
   ]
  },
  {
   "cell_type": "raw",
   "metadata": {},
   "source": [
    "=== Run information ===\n",
    "\n",
    "Scheme:       weka.associations.Apriori -I -N 100 -T 0 -C 0.6 -D 0.05 -U 1.0 -M 0.1 -S -1.0 -c -1\n",
    "Relation:     export_dataframe-weka.filters.unsupervised.attribute.Remove-R1-12,15-17,19\n",
    "Instances:    417\n",
    "Attributes:   5\n",
    "              EST_CIVIL\n",
    "              SEXO\n",
    "              BIN_PORCENTAGEM_COBERTA\n",
    "              BIN_IDADE\n",
    "              TIPO_OCORRENCIA\n",
    "=== Associator model (full training set) ===\n",
    "\n",
    "\n",
    "Apriori\n",
    "=======\n",
    "\n",
    "Minimum support: 0.1 (42 instances)\n",
    "Minimum metric <confidence>: 0.6\n",
    "Number of cycles performed: 18\n",
    "\n",
    "Generated sets of large itemsets:\n",
    "\n",
    "Size of set of large itemsets L(1): 13\n",
    "\n",
    "Large Itemsets L(1):\n",
    "EST_CIVIL=CASADO 97\n",
    "EST_CIVIL=SOLTEIRO 320\n",
    "SEXO=M 400\n",
    "BIN_PORCENTAGEM_COBERTA=(57.64705882352941,62.35294117647059) 68\n",
    "BIN_PORCENTAGEM_COBERTA=(62.35294117647059,67.05882352941177) 76\n",
    "BIN_PORCENTAGEM_COBERTA=(52.94117647058824,57.64705882352941) 72\n",
    "BIN_PORCENTAGEM_COBERTA=(67.05882352941177,71.76470588235294) 47\n",
    "BIN_IDADE=(46.58823529411765,48.82352941176471) 61\n",
    "BIN_IDADE=(37.64705882352941,39.88235294117647) 75\n",
    "BIN_IDADE=(35.411764705882355,37.64705882352941) 76\n",
    "BIN_IDADE=(33.17647058823529,35.411764705882355) 98\n",
    "BIN_IDADE=(30.941176470588236,33.17647058823529) 59\n",
    "TIPO_OCORRENCIA=ERRO 417\n",
    "\n",
    "Size of set of large itemsets L(2): 31\n",
    "\n",
    "Large Itemsets L(2):\n",
    "EST_CIVIL=CASADO SEXO=M 97\n",
    "EST_CIVIL=CASADO BIN_IDADE=(37.64705882352941,39.88235294117647) 47\n",
    "EST_CIVIL=CASADO TIPO_OCORRENCIA=ERRO 97\n",
    "EST_CIVIL=SOLTEIRO SEXO=M 303\n",
    "EST_CIVIL=SOLTEIRO BIN_PORCENTAGEM_COBERTA=(57.64705882352941,62.35294117647059) 44\n",
    "EST_CIVIL=SOLTEIRO BIN_PORCENTAGEM_COBERTA=(62.35294117647059,67.05882352941177) 55\n",
    "EST_CIVIL=SOLTEIRO BIN_PORCENTAGEM_COBERTA=(52.94117647058824,57.64705882352941) 62\n",
    "EST_CIVIL=SOLTEIRO BIN_IDADE=(46.58823529411765,48.82352941176471) 61\n",
    "EST_CIVIL=SOLTEIRO BIN_IDADE=(35.411764705882355,37.64705882352941) 53\n",
    "EST_CIVIL=SOLTEIRO BIN_IDADE=(33.17647058823529,35.411764705882355) 95\n",
    "EST_CIVIL=SOLTEIRO BIN_IDADE=(30.941176470588236,33.17647058823529) 53\n",
    "EST_CIVIL=SOLTEIRO TIPO_OCORRENCIA=ERRO 320\n",
    "SEXO=M BIN_PORCENTAGEM_COBERTA=(57.64705882352941,62.35294117647059) 65\n",
    "SEXO=M BIN_PORCENTAGEM_COBERTA=(62.35294117647059,67.05882352941177) 71\n",
    "SEXO=M BIN_PORCENTAGEM_COBERTA=(52.94117647058824,57.64705882352941) 70\n",
    "SEXO=M BIN_PORCENTAGEM_COBERTA=(67.05882352941177,71.76470588235294) 42\n",
    "SEXO=M BIN_IDADE=(46.58823529411765,48.82352941176471) 61\n",
    "SEXO=M BIN_IDADE=(37.64705882352941,39.88235294117647) 75\n",
    "SEXO=M BIN_IDADE=(35.411764705882355,37.64705882352941) 64\n",
    "SEXO=M BIN_IDADE=(33.17647058823529,35.411764705882355) 95\n",
    "SEXO=M BIN_IDADE=(30.941176470588236,33.17647058823529) 58\n",
    "SEXO=M TIPO_OCORRENCIA=ERRO 400\n",
    "BIN_PORCENTAGEM_COBERTA=(57.64705882352941,62.35294117647059) TIPO_OCORRENCIA=ERRO 68\n",
    "BIN_PORCENTAGEM_COBERTA=(62.35294117647059,67.05882352941177) TIPO_OCORRENCIA=ERRO 76\n",
    "BIN_PORCENTAGEM_COBERTA=(52.94117647058824,57.64705882352941) TIPO_OCORRENCIA=ERRO 72\n",
    "BIN_PORCENTAGEM_COBERTA=(67.05882352941177,71.76470588235294) TIPO_OCORRENCIA=ERRO 47\n",
    "BIN_IDADE=(46.58823529411765,48.82352941176471) TIPO_OCORRENCIA=ERRO 61\n",
    "BIN_IDADE=(37.64705882352941,39.88235294117647) TIPO_OCORRENCIA=ERRO 75\n",
    "BIN_IDADE=(35.411764705882355,37.64705882352941) TIPO_OCORRENCIA=ERRO 76\n",
    "BIN_IDADE=(33.17647058823529,35.411764705882355) TIPO_OCORRENCIA=ERRO 98\n",
    "BIN_IDADE=(30.941176470588236,33.17647058823529) TIPO_OCORRENCIA=ERRO 59\n",
    "\n",
    "Size of set of large itemsets L(3): 25\n",
    "\n",
    "Large Itemsets L(3):\n",
    "EST_CIVIL=CASADO SEXO=M BIN_IDADE=(37.64705882352941,39.88235294117647) 47\n",
    "EST_CIVIL=CASADO SEXO=M TIPO_OCORRENCIA=ERRO 97\n",
    "EST_CIVIL=CASADO BIN_IDADE=(37.64705882352941,39.88235294117647) TIPO_OCORRENCIA=ERRO 47\n",
    "EST_CIVIL=SOLTEIRO SEXO=M BIN_PORCENTAGEM_COBERTA=(62.35294117647059,67.05882352941177) 50\n",
    "EST_CIVIL=SOLTEIRO SEXO=M BIN_PORCENTAGEM_COBERTA=(52.94117647058824,57.64705882352941) 60\n",
    "EST_CIVIL=SOLTEIRO SEXO=M BIN_IDADE=(46.58823529411765,48.82352941176471) 61\n",
    "EST_CIVIL=SOLTEIRO SEXO=M BIN_IDADE=(33.17647058823529,35.411764705882355) 92\n",
    "EST_CIVIL=SOLTEIRO SEXO=M BIN_IDADE=(30.941176470588236,33.17647058823529) 52\n",
    "EST_CIVIL=SOLTEIRO SEXO=M TIPO_OCORRENCIA=ERRO 303\n",
    "EST_CIVIL=SOLTEIRO BIN_PORCENTAGEM_COBERTA=(57.64705882352941,62.35294117647059) TIPO_OCORRENCIA=ERRO 44\n",
    "EST_CIVIL=SOLTEIRO BIN_PORCENTAGEM_COBERTA=(62.35294117647059,67.05882352941177) TIPO_OCORRENCIA=ERRO 55\n",
    "EST_CIVIL=SOLTEIRO BIN_PORCENTAGEM_COBERTA=(52.94117647058824,57.64705882352941) TIPO_OCORRENCIA=ERRO 62\n",
    "EST_CIVIL=SOLTEIRO BIN_IDADE=(46.58823529411765,48.82352941176471) TIPO_OCORRENCIA=ERRO 61\n",
    "EST_CIVIL=SOLTEIRO BIN_IDADE=(35.411764705882355,37.64705882352941) TIPO_OCORRENCIA=ERRO 53\n",
    "EST_CIVIL=SOLTEIRO BIN_IDADE=(33.17647058823529,35.411764705882355) TIPO_OCORRENCIA=ERRO 95\n",
    "EST_CIVIL=SOLTEIRO BIN_IDADE=(30.941176470588236,33.17647058823529) TIPO_OCORRENCIA=ERRO 53\n",
    "SEXO=M BIN_PORCENTAGEM_COBERTA=(57.64705882352941,62.35294117647059) TIPO_OCORRENCIA=ERRO 65\n",
    "SEXO=M BIN_PORCENTAGEM_COBERTA=(62.35294117647059,67.05882352941177) TIPO_OCORRENCIA=ERRO 71\n",
    "SEXO=M BIN_PORCENTAGEM_COBERTA=(52.94117647058824,57.64705882352941) TIPO_OCORRENCIA=ERRO 70\n",
    "SEXO=M BIN_PORCENTAGEM_COBERTA=(67.05882352941177,71.76470588235294) TIPO_OCORRENCIA=ERRO 42\n",
    "SEXO=M BIN_IDADE=(46.58823529411765,48.82352941176471) TIPO_OCORRENCIA=ERRO 61\n",
    "SEXO=M BIN_IDADE=(37.64705882352941,39.88235294117647) TIPO_OCORRENCIA=ERRO 75\n",
    "SEXO=M BIN_IDADE=(35.411764705882355,37.64705882352941) TIPO_OCORRENCIA=ERRO 64\n",
    "SEXO=M BIN_IDADE=(33.17647058823529,35.411764705882355) TIPO_OCORRENCIA=ERRO 95\n",
    "SEXO=M BIN_IDADE=(30.941176470588236,33.17647058823529) TIPO_OCORRENCIA=ERRO 58\n",
    "\n",
    "Size of set of large itemsets L(4): 6\n",
    "\n",
    "Large Itemsets L(4):\n",
    "EST_CIVIL=CASADO SEXO=M BIN_IDADE=(37.64705882352941,39.88235294117647) TIPO_OCORRENCIA=ERRO 47\n",
    "EST_CIVIL=SOLTEIRO SEXO=M BIN_PORCENTAGEM_COBERTA=(62.35294117647059,67.05882352941177) TIPO_OCORRENCIA=ERRO 50\n",
    "EST_CIVIL=SOLTEIRO SEXO=M BIN_PORCENTAGEM_COBERTA=(52.94117647058824,57.64705882352941) TIPO_OCORRENCIA=ERRO 60\n",
    "EST_CIVIL=SOLTEIRO SEXO=M BIN_IDADE=(46.58823529411765,48.82352941176471) TIPO_OCORRENCIA=ERRO 61\n",
    "EST_CIVIL=SOLTEIRO SEXO=M BIN_IDADE=(33.17647058823529,35.411764705882355) TIPO_OCORRENCIA=ERRO 92\n",
    "EST_CIVIL=SOLTEIRO SEXO=M BIN_IDADE=(30.941176470588236,33.17647058823529) TIPO_OCORRENCIA=ERRO 52\n",
    "\n",
    "Best rules found:\n",
    "\n",
    "  1. SEXO=M 400 ==> TIPO_OCORRENCIA=ERRO 400    <conf:(1)> lift:(1) lev:(0) [0] conv:(0)\n",
    "  2. EST_CIVIL=SOLTEIRO 320 ==> TIPO_OCORRENCIA=ERRO 320    <conf:(1)> lift:(1) lev:(0) [0] conv:(0)\n",
    "  3. EST_CIVIL=SOLTEIRO SEXO=M 303 ==> TIPO_OCORRENCIA=ERRO 303    <conf:(1)> lift:(1) lev:(0) [0] conv:(0)\n",
    "  4. BIN_IDADE=(33.17647058823529,35.411764705882355) 98 ==> TIPO_OCORRENCIA=ERRO 98    <conf:(1)> lift:(1) lev:(0) [0] conv:(0)\n",
    "  5. EST_CIVIL=CASADO 97 ==> SEXO=M 97    <conf:(1)> lift:(1.04) lev:(0.01) [3] conv:(3.95)\n",
    "  6. EST_CIVIL=CASADO 97 ==> TIPO_OCORRENCIA=ERRO 97    <conf:(1)> lift:(1) lev:(0) [0] conv:(0)\n",
    "  7. EST_CIVIL=CASADO TIPO_OCORRENCIA=ERRO 97 ==> SEXO=M 97    <conf:(1)> lift:(1.04) lev:(0.01) [3] conv:(3.95)\n",
    "  8. EST_CIVIL=CASADO SEXO=M 97 ==> TIPO_OCORRENCIA=ERRO 97    <conf:(1)> lift:(1) lev:(0) [0] conv:(0)\n",
    "  9. EST_CIVIL=CASADO 97 ==> SEXO=M TIPO_OCORRENCIA=ERRO 97    <conf:(1)> lift:(1.04) lev:(0.01) [3] conv:(3.95)\n",
    " 10. EST_CIVIL=SOLTEIRO BIN_IDADE=(33.17647058823529,35.411764705882355) 95 ==> TIPO_OCORRENCIA=ERRO 95    <conf:(1)> lift:(1) lev:(0) [0] conv:(0)\n",
    " 11. SEXO=M BIN_IDADE=(33.17647058823529,35.411764705882355) 95 ==> TIPO_OCORRENCIA=ERRO 95    <conf:(1)> lift:(1) lev:(0) [0] conv:(0)\n",
    " 12. EST_CIVIL=SOLTEIRO SEXO=M BIN_IDADE=(33.17647058823529,35.411764705882355) 92 ==> TIPO_OCORRENCIA=ERRO 92    <conf:(1)> lift:(1) lev:(0) [0] conv:(0)\n",
    " 13. BIN_PORCENTAGEM_COBERTA=(62.35294117647059,67.05882352941177) 76 ==> TIPO_OCORRENCIA=ERRO 76    <conf:(1)> lift:(1) lev:(0) [0] conv:(0)\n",
    " 14. BIN_IDADE=(35.411764705882355,37.64705882352941) 76 ==> TIPO_OCORRENCIA=ERRO 76    <conf:(1)> lift:(1) lev:(0) [0] conv:(0)\n",
    " 15. BIN_IDADE=(37.64705882352941,39.88235294117647) 75 ==> SEXO=M 75    <conf:(1)> lift:(1.04) lev:(0.01) [3] conv:(3.06)\n",
    " 16. BIN_IDADE=(37.64705882352941,39.88235294117647) 75 ==> TIPO_OCORRENCIA=ERRO 75    <conf:(1)> lift:(1) lev:(0) [0] conv:(0)\n",
    " 17. BIN_IDADE=(37.64705882352941,39.88235294117647) TIPO_OCORRENCIA=ERRO 75 ==> SEXO=M 75    <conf:(1)> lift:(1.04) lev:(0.01) [3] conv:(3.06)\n",
    " 18. SEXO=M BIN_IDADE=(37.64705882352941,39.88235294117647) 75 ==> TIPO_OCORRENCIA=ERRO 75    <conf:(1)> lift:(1) lev:(0) [0] conv:(0)\n",
    " 19. BIN_IDADE=(37.64705882352941,39.88235294117647) 75 ==> SEXO=M TIPO_OCORRENCIA=ERRO 75    <conf:(1)> lift:(1.04) lev:(0.01) [3] conv:(3.06)\n",
    " 20. BIN_PORCENTAGEM_COBERTA=(52.94117647058824,57.64705882352941) 72 ==> TIPO_OCORRENCIA=ERRO 72    <conf:(1)> lift:(1) lev:(0) [0] conv:(0)\n",
    " 21. SEXO=M BIN_PORCENTAGEM_COBERTA=(62.35294117647059,67.05882352941177) 71 ==> TIPO_OCORRENCIA=ERRO 71    <conf:(1)> lift:(1) lev:(0) [0] conv:(0)\n",
    " 22. SEXO=M BIN_PORCENTAGEM_COBERTA=(52.94117647058824,57.64705882352941) 70 ==> TIPO_OCORRENCIA=ERRO 70    <conf:(1)> lift:(1) lev:(0) [0] conv:(0)\n",
    " 23. BIN_PORCENTAGEM_COBERTA=(57.64705882352941,62.35294117647059) 68 ==> TIPO_OCORRENCIA=ERRO 68    <conf:(1)> lift:(1) lev:(0) [0] conv:(0)\n",
    " 24. SEXO=M BIN_PORCENTAGEM_COBERTA=(57.64705882352941,62.35294117647059) 65 ==> TIPO_OCORRENCIA=ERRO 65    <conf:(1)> lift:(1) lev:(0) [0] conv:(0)\n",
    " 25. SEXO=M BIN_IDADE=(35.411764705882355,37.64705882352941) 64 ==> TIPO_OCORRENCIA=ERRO 64    <conf:(1)> lift:(1) lev:(0) [0] conv:(0)\n",
    " 26. EST_CIVIL=SOLTEIRO BIN_PORCENTAGEM_COBERTA=(52.94117647058824,57.64705882352941) 62 ==> TIPO_OCORRENCIA=ERRO 62    <conf:(1)> lift:(1) lev:(0) [0] conv:(0)\n",
    " 27. BIN_IDADE=(46.58823529411765,48.82352941176471) 61 ==> EST_CIVIL=SOLTEIRO 61    <conf:(1)> lift:(1.3) lev:(0.03) [14] conv:(14.19)\n",
    " 28. BIN_IDADE=(46.58823529411765,48.82352941176471) 61 ==> SEXO=M 61    <conf:(1)> lift:(1.04) lev:(0.01) [2] conv:(2.49)\n",
    " 29. BIN_IDADE=(46.58823529411765,48.82352941176471) 61 ==> TIPO_OCORRENCIA=ERRO 61    <conf:(1)> lift:(1) lev:(0) [0] conv:(0)\n",
    " 30. SEXO=M BIN_IDADE=(46.58823529411765,48.82352941176471) 61 ==> EST_CIVIL=SOLTEIRO 61    <conf:(1)> lift:(1.3) lev:(0.03) [14] conv:(14.19)\n",
    " 31. EST_CIVIL=SOLTEIRO BIN_IDADE=(46.58823529411765,48.82352941176471) 61 ==> SEXO=M 61    <conf:(1)> lift:(1.04) lev:(0.01) [2] conv:(2.49)\n",
    " 32. BIN_IDADE=(46.58823529411765,48.82352941176471) 61 ==> EST_CIVIL=SOLTEIRO SEXO=M 61    <conf:(1)> lift:(1.38) lev:(0.04) [16] conv:(16.68)\n",
    " 33. BIN_IDADE=(46.58823529411765,48.82352941176471) TIPO_OCORRENCIA=ERRO 61 ==> EST_CIVIL=SOLTEIRO 61    <conf:(1)> lift:(1.3) lev:(0.03) [14] conv:(14.19)\n",
    " 34. EST_CIVIL=SOLTEIRO BIN_IDADE=(46.58823529411765,48.82352941176471) 61 ==> TIPO_OCORRENCIA=ERRO 61    <conf:(1)> lift:(1) lev:(0) [0] conv:(0)\n",
    " 35. BIN_IDADE=(46.58823529411765,48.82352941176471) 61 ==> EST_CIVIL=SOLTEIRO TIPO_OCORRENCIA=ERRO 61    <conf:(1)> lift:(1.3) lev:(0.03) [14] conv:(14.19)\n",
    " 36. BIN_IDADE=(46.58823529411765,48.82352941176471) TIPO_OCORRENCIA=ERRO 61 ==> SEXO=M 61    <conf:(1)> lift:(1.04) lev:(0.01) [2] conv:(2.49)\n",
    " 37. SEXO=M BIN_IDADE=(46.58823529411765,48.82352941176471) 61 ==> TIPO_OCORRENCIA=ERRO 61    <conf:(1)> lift:(1) lev:(0) [0] conv:(0)\n",
    " 38. BIN_IDADE=(46.58823529411765,48.82352941176471) 61 ==> SEXO=M TIPO_OCORRENCIA=ERRO 61    <conf:(1)> lift:(1.04) lev:(0.01) [2] conv:(2.49)\n",
    " 39. SEXO=M BIN_IDADE=(46.58823529411765,48.82352941176471) TIPO_OCORRENCIA=ERRO 61 ==> EST_CIVIL=SOLTEIRO 61    <conf:(1)> lift:(1.3) lev:(0.03) [14] conv:(14.19)\n",
    " 40. EST_CIVIL=SOLTEIRO BIN_IDADE=(46.58823529411765,48.82352941176471) TIPO_OCORRENCIA=ERRO 61 ==> SEXO=M 61    <conf:(1)> lift:(1.04) lev:(0.01) [2] conv:(2.49)\n",
    " 41. EST_CIVIL=SOLTEIRO SEXO=M BIN_IDADE=(46.58823529411765,48.82352941176471) 61 ==> TIPO_OCORRENCIA=ERRO 61    <conf:(1)> lift:(1) lev:(0) [0] conv:(0)\n",
    " 42. BIN_IDADE=(46.58823529411765,48.82352941176471) TIPO_OCORRENCIA=ERRO 61 ==> EST_CIVIL=SOLTEIRO SEXO=M 61    <conf:(1)> lift:(1.38) lev:(0.04) [16] conv:(16.68)\n",
    " 43. SEXO=M BIN_IDADE=(46.58823529411765,48.82352941176471) 61 ==> EST_CIVIL=SOLTEIRO TIPO_OCORRENCIA=ERRO 61    <conf:(1)> lift:(1.3) lev:(0.03) [14] conv:(14.19)\n",
    " 44. EST_CIVIL=SOLTEIRO BIN_IDADE=(46.58823529411765,48.82352941176471) 61 ==> SEXO=M TIPO_OCORRENCIA=ERRO 61    <conf:(1)> lift:(1.04) lev:(0.01) [2] conv:(2.49)\n",
    " 45. BIN_IDADE=(46.58823529411765,48.82352941176471) 61 ==> EST_CIVIL=SOLTEIRO SEXO=M TIPO_OCORRENCIA=ERRO 61    <conf:(1)> lift:(1.38) lev:(0.04) [16] conv:(16.68)\n",
    " 46. EST_CIVIL=SOLTEIRO SEXO=M BIN_PORCENTAGEM_COBERTA=(52.94117647058824,57.64705882352941) 60 ==> TIPO_OCORRENCIA=ERRO 60    <conf:(1)> lift:(1) lev:(0) [0] conv:(0)\n",
    " 47. BIN_IDADE=(30.941176470588236,33.17647058823529) 59 ==> TIPO_OCORRENCIA=ERRO 59    <conf:(1)> lift:(1) lev:(0) [0] conv:(0)\n",
    " 48. SEXO=M BIN_IDADE=(30.941176470588236,33.17647058823529) 58 ==> TIPO_OCORRENCIA=ERRO 58    <conf:(1)> lift:(1) lev:(0) [0] conv:(0)\n",
    " 49. EST_CIVIL=SOLTEIRO BIN_PORCENTAGEM_COBERTA=(62.35294117647059,67.05882352941177) 55 ==> TIPO_OCORRENCIA=ERRO 55    <conf:(1)> lift:(1) lev:(0) [0] conv:(0)\n",
    " 50. EST_CIVIL=SOLTEIRO BIN_IDADE=(35.411764705882355,37.64705882352941) 53 ==> TIPO_OCORRENCIA=ERRO 53    <conf:(1)> lift:(1) lev:(0) [0] conv:(0)\n",
    " 51. EST_CIVIL=SOLTEIRO BIN_IDADE=(30.941176470588236,33.17647058823529) 53 ==> TIPO_OCORRENCIA=ERRO 53    <conf:(1)> lift:(1) lev:(0) [0] conv:(0)\n",
    " 52. EST_CIVIL=SOLTEIRO SEXO=M BIN_IDADE=(30.941176470588236,33.17647058823529) 52 ==> TIPO_OCORRENCIA=ERRO 52    <conf:(1)> lift:(1) lev:(0) [0] conv:(0)\n",
    " 53. EST_CIVIL=SOLTEIRO SEXO=M BIN_PORCENTAGEM_COBERTA=(62.35294117647059,67.05882352941177) 50 ==> TIPO_OCORRENCIA=ERRO 50    <conf:(1)> lift:(1) lev:(0) [0] conv:(0)\n",
    " 54. BIN_PORCENTAGEM_COBERTA=(67.05882352941177,71.76470588235294) 47 ==> TIPO_OCORRENCIA=ERRO 47    <conf:(1)> lift:(1) lev:(0) [0] conv:(0)\n",
    " 55. EST_CIVIL=CASADO BIN_IDADE=(37.64705882352941,39.88235294117647) 47 ==> SEXO=M 47    <conf:(1)> lift:(1.04) lev:(0) [1] conv:(1.92)\n",
    " 56. EST_CIVIL=CASADO BIN_IDADE=(37.64705882352941,39.88235294117647) 47 ==> TIPO_OCORRENCIA=ERRO 47    <conf:(1)> lift:(1) lev:(0) [0] conv:(0)\n",
    " 57. EST_CIVIL=CASADO BIN_IDADE=(37.64705882352941,39.88235294117647) TIPO_OCORRENCIA=ERRO 47 ==> SEXO=M 47    <conf:(1)> lift:(1.04) lev:(0) [1] conv:(1.92)\n",
    " 58. EST_CIVIL=CASADO SEXO=M BIN_IDADE=(37.64705882352941,39.88235294117647) 47 ==> TIPO_OCORRENCIA=ERRO 47    <conf:(1)> lift:(1) lev:(0) [0] conv:(0)\n",
    " 59. EST_CIVIL=CASADO BIN_IDADE=(37.64705882352941,39.88235294117647) 47 ==> SEXO=M TIPO_OCORRENCIA=ERRO 47    <conf:(1)> lift:(1.04) lev:(0) [1] conv:(1.92)\n",
    " 60. EST_CIVIL=SOLTEIRO BIN_PORCENTAGEM_COBERTA=(57.64705882352941,62.35294117647059) 44 ==> TIPO_OCORRENCIA=ERRO 44    <conf:(1)> lift:(1) lev:(0) [0] conv:(0)\n",
    " 61. SEXO=M BIN_PORCENTAGEM_COBERTA=(67.05882352941177,71.76470588235294) 42 ==> TIPO_OCORRENCIA=ERRO 42    <conf:(1)> lift:(1) lev:(0) [0] conv:(0)\n",
    " 62. BIN_IDADE=(30.941176470588236,33.17647058823529) 59 ==> SEXO=M 58    <conf:(0.98)> lift:(1.02) lev:(0) [1] conv:(1.2)\n",
    " 63. BIN_IDADE=(30.941176470588236,33.17647058823529) TIPO_OCORRENCIA=ERRO 59 ==> SEXO=M 58    <conf:(0.98)> lift:(1.02) lev:(0) [1] conv:(1.2)\n",
    " 64. BIN_IDADE=(30.941176470588236,33.17647058823529) 59 ==> SEXO=M TIPO_OCORRENCIA=ERRO 58    <conf:(0.98)> lift:(1.02) lev:(0) [1] conv:(1.2)\n",
    " 65. EST_CIVIL=SOLTEIRO BIN_IDADE=(30.941176470588236,33.17647058823529) 53 ==> SEXO=M 52    <conf:(0.98)> lift:(1.02) lev:(0) [1] conv:(1.08)\n",
    " 66. EST_CIVIL=SOLTEIRO BIN_IDADE=(30.941176470588236,33.17647058823529) TIPO_OCORRENCIA=ERRO 53 ==> SEXO=M 52    <conf:(0.98)> lift:(1.02) lev:(0) [1] conv:(1.08)\n",
    " 67. EST_CIVIL=SOLTEIRO BIN_IDADE=(30.941176470588236,33.17647058823529) 53 ==> SEXO=M TIPO_OCORRENCIA=ERRO 52    <conf:(0.98)> lift:(1.02) lev:(0) [1] conv:(1.08)\n",
    " 68. BIN_PORCENTAGEM_COBERTA=(52.94117647058824,57.64705882352941) 72 ==> SEXO=M 70    <conf:(0.97)> lift:(1.01) lev:(0) [0] conv:(0.98)\n",
    " 69. BIN_PORCENTAGEM_COBERTA=(52.94117647058824,57.64705882352941) TIPO_OCORRENCIA=ERRO 72 ==> SEXO=M 70    <conf:(0.97)> lift:(1.01) lev:(0) [0] conv:(0.98)\n",
    " 70. BIN_PORCENTAGEM_COBERTA=(52.94117647058824,57.64705882352941) 72 ==> SEXO=M TIPO_OCORRENCIA=ERRO 70    <conf:(0.97)> lift:(1.01) lev:(0) [0] conv:(0.98)\n",
    " 71. BIN_IDADE=(33.17647058823529,35.411764705882355) 98 ==> EST_CIVIL=SOLTEIRO 95    <conf:(0.97)> lift:(1.26) lev:(0.05) [19] conv:(5.7)\n",
    " 72. BIN_IDADE=(33.17647058823529,35.411764705882355) 98 ==> SEXO=M 95    <conf:(0.97)> lift:(1.01) lev:(0) [0] conv:(1)\n",
    " 73. BIN_IDADE=(33.17647058823529,35.411764705882355) TIPO_OCORRENCIA=ERRO 98 ==> EST_CIVIL=SOLTEIRO 95    <conf:(0.97)> lift:(1.26) lev:(0.05) [19] conv:(5.7)\n",
    " 74. BIN_IDADE=(33.17647058823529,35.411764705882355) 98 ==> EST_CIVIL=SOLTEIRO TIPO_OCORRENCIA=ERRO 95    <conf:(0.97)> lift:(1.26) lev:(0.05) [19] conv:(5.7)\n",
    " 75. BIN_IDADE=(33.17647058823529,35.411764705882355) TIPO_OCORRENCIA=ERRO 98 ==> SEXO=M 95    <conf:(0.97)> lift:(1.01) lev:(0) [0] conv:(1)\n",
    " 76. BIN_IDADE=(33.17647058823529,35.411764705882355) 98 ==> SEXO=M TIPO_OCORRENCIA=ERRO 95    <conf:(0.97)> lift:(1.01) lev:(0) [0] conv:(1)\n",
    " 77. SEXO=M BIN_IDADE=(33.17647058823529,35.411764705882355) 95 ==> EST_CIVIL=SOLTEIRO 92    <conf:(0.97)> lift:(1.26) lev:(0.05) [19] conv:(5.52)\n",
    " 78. EST_CIVIL=SOLTEIRO BIN_IDADE=(33.17647058823529,35.411764705882355) 95 ==> SEXO=M 92    <conf:(0.97)> lift:(1.01) lev:(0) [0] conv:(0.97)\n",
    " 79. SEXO=M BIN_IDADE=(33.17647058823529,35.411764705882355) TIPO_OCORRENCIA=ERRO 95 ==> EST_CIVIL=SOLTEIRO 92    <conf:(0.97)> lift:(1.26) lev:(0.05) [19] conv:(5.52)\n",
    " 80. EST_CIVIL=SOLTEIRO BIN_IDADE=(33.17647058823529,35.411764705882355) TIPO_OCORRENCIA=ERRO 95 ==> SEXO=M 92    <conf:(0.97)> lift:(1.01) lev:(0) [0] conv:(0.97)\n",
    " 81. SEXO=M BIN_IDADE=(33.17647058823529,35.411764705882355) 95 ==> EST_CIVIL=SOLTEIRO TIPO_OCORRENCIA=ERRO 92    <conf:(0.97)> lift:(1.26) lev:(0.05) [19] conv:(5.52)\n",
    " 82. EST_CIVIL=SOLTEIRO BIN_IDADE=(33.17647058823529,35.411764705882355) 95 ==> SEXO=M TIPO_OCORRENCIA=ERRO 92    <conf:(0.97)> lift:(1.01) lev:(0) [0] conv:(0.97)\n",
    " 83. EST_CIVIL=SOLTEIRO BIN_PORCENTAGEM_COBERTA=(52.94117647058824,57.64705882352941) 62 ==> SEXO=M 60    <conf:(0.97)> lift:(1.01) lev:(0) [0] conv:(0.84)\n",
    " 84. EST_CIVIL=SOLTEIRO BIN_PORCENTAGEM_COBERTA=(52.94117647058824,57.64705882352941) TIPO_OCORRENCIA=ERRO 62 ==> SEXO=M 60    <conf:(0.97)> lift:(1.01) lev:(0) [0] conv:(0.84)\n",
    " 85. EST_CIVIL=SOLTEIRO BIN_PORCENTAGEM_COBERTA=(52.94117647058824,57.64705882352941) 62 ==> SEXO=M TIPO_OCORRENCIA=ERRO 60    <conf:(0.97)> lift:(1.01) lev:(0) [0] conv:(0.84)\n",
    " 86. TIPO_OCORRENCIA=ERRO 417 ==> SEXO=M 400    <conf:(0.96)> lift:(1) lev:(0) [0] conv:(0.94)\n",
    " 87. BIN_PORCENTAGEM_COBERTA=(57.64705882352941,62.35294117647059) 68 ==> SEXO=M 65    <conf:(0.96)> lift:(1) lev:(-0) [0] conv:(0.69)\n",
    " 88. BIN_PORCENTAGEM_COBERTA=(57.64705882352941,62.35294117647059) TIPO_OCORRENCIA=ERRO 68 ==> SEXO=M 65    <conf:(0.96)> lift:(1) lev:(-0) [0] conv:(0.69)\n",
    " 89. BIN_PORCENTAGEM_COBERTA=(57.64705882352941,62.35294117647059) 68 ==> SEXO=M TIPO_OCORRENCIA=ERRO 65    <conf:(0.96)> lift:(1) lev:(-0) [0] conv:(0.69)\n",
    " 90. EST_CIVIL=SOLTEIRO 320 ==> SEXO=M 303    <conf:(0.95)> lift:(0.99) lev:(-0.01) [-3] conv:(0.72)\n",
    " 91. EST_CIVIL=SOLTEIRO TIPO_OCORRENCIA=ERRO 320 ==> SEXO=M 303    <conf:(0.95)> lift:(0.99) lev:(-0.01) [-3] conv:(0.72)\n",
    " 92. EST_CIVIL=SOLTEIRO 320 ==> SEXO=M TIPO_OCORRENCIA=ERRO 303    <conf:(0.95)> lift:(0.99) lev:(-0.01) [-3] conv:(0.72)\n",
    " 93. BIN_IDADE=(33.17647058823529,35.411764705882355) 98 ==> EST_CIVIL=SOLTEIRO SEXO=M 92    <conf:(0.94)> lift:(1.29) lev:(0.05) [20] conv:(3.83)\n",
    " 94. BIN_IDADE=(33.17647058823529,35.411764705882355) TIPO_OCORRENCIA=ERRO 98 ==> EST_CIVIL=SOLTEIRO SEXO=M 92    <conf:(0.94)> lift:(1.29) lev:(0.05) [20] conv:(3.83)\n",
    " 95. BIN_IDADE=(33.17647058823529,35.411764705882355) 98 ==> EST_CIVIL=SOLTEIRO SEXO=M TIPO_OCORRENCIA=ERRO 92    <conf:(0.94)> lift:(1.29) lev:(0.05) [20] conv:(3.83)\n",
    " 96. BIN_PORCENTAGEM_COBERTA=(62.35294117647059,67.05882352941177) 76 ==> SEXO=M 71    <conf:(0.93)> lift:(0.97) lev:(-0) [-1] conv:(0.52)\n",
    " 97. BIN_PORCENTAGEM_COBERTA=(62.35294117647059,67.05882352941177) TIPO_OCORRENCIA=ERRO 76 ==> SEXO=M 71    <conf:(0.93)> lift:(0.97) lev:(-0) [-1] conv:(0.52)\n",
    " 98. BIN_PORCENTAGEM_COBERTA=(62.35294117647059,67.05882352941177) 76 ==> SEXO=M TIPO_OCORRENCIA=ERRO 71    <conf:(0.93)> lift:(0.97) lev:(-0) [-1] conv:(0.52)\n",
    " 99. EST_CIVIL=SOLTEIRO BIN_PORCENTAGEM_COBERTA=(62.35294117647059,67.05882352941177) 55 ==> SEXO=M 50    <conf:(0.91)> lift:(0.95) lev:(-0.01) [-2] conv:(0.37)\n",
    "100. EST_CIVIL=SOLTEIRO BIN_PORCENTAGEM_COBERTA=(62.35294117647059,67.05882352941177) TIPO_OCORRENCIA=ERRO 55 ==> SEXO=M 50    <conf:(0.91)> lift:(0.95) lev:(-0.01) [-2] conv:(0.37)\n",
    "\n"
   ]
  },
  {
   "cell_type": "markdown",
   "metadata": {},
   "source": [
    "## Verificações Qui-quadrado"
   ]
  },
  {
   "cell_type": "markdown",
   "metadata": {},
   "source": [
    "### Q1- Faixa etária - Sexo - Estado civil = Ocorrencia Erro | Alerta"
   ]
  },
  {
   "cell_type": "code",
   "execution_count": 303,
   "metadata": {},
   "outputs": [],
   "source": [
    "def unstack_group(df, y, group):\n",
    "    group.append(y)\n",
    "    groupsizes = df.groupby(group).size()\n",
    "    ctsum = groupsizes.unstack(y)\n",
    "    return ctsum.fillna(0)"
   ]
  },
  {
   "cell_type": "code",
   "execution_count": 379,
   "metadata": {},
   "outputs": [
    {
     "data": {
      "text/html": [
       "<div>\n",
       "<style scoped>\n",
       "    .dataframe tbody tr th:only-of-type {\n",
       "        vertical-align: middle;\n",
       "    }\n",
       "\n",
       "    .dataframe tbody tr th {\n",
       "        vertical-align: top;\n",
       "    }\n",
       "\n",
       "    .dataframe thead th {\n",
       "        text-align: right;\n",
       "    }\n",
       "</style>\n",
       "<table border=\"1\" class=\"dataframe\">\n",
       "  <thead>\n",
       "    <tr style=\"text-align: right;\">\n",
       "      <th></th>\n",
       "      <th></th>\n",
       "      <th>TIPO_OCORRENCIA</th>\n",
       "      <th>ALERTA</th>\n",
       "      <th>ERRO</th>\n",
       "    </tr>\n",
       "    <tr>\n",
       "      <th>FAIXA_ETARIA</th>\n",
       "      <th>SEXO</th>\n",
       "      <th>EST_CIVIL</th>\n",
       "      <th></th>\n",
       "      <th></th>\n",
       "    </tr>\n",
       "  </thead>\n",
       "  <tbody>\n",
       "    <tr>\n",
       "      <th rowspan=\"3\" valign=\"top\">20 anos</th>\n",
       "      <th>F</th>\n",
       "      <th>SOLTEIRO</th>\n",
       "      <td>1.0</td>\n",
       "      <td>0.0</td>\n",
       "    </tr>\n",
       "    <tr>\n",
       "      <th rowspan=\"2\" valign=\"top\">M</th>\n",
       "      <th>CASADO</th>\n",
       "      <td>9.0</td>\n",
       "      <td>1.0</td>\n",
       "    </tr>\n",
       "    <tr>\n",
       "      <th>SOLTEIRO</th>\n",
       "      <td>13.0</td>\n",
       "      <td>9.0</td>\n",
       "    </tr>\n",
       "    <tr>\n",
       "      <th rowspan=\"3\" valign=\"top\">30 anos</th>\n",
       "      <th>F</th>\n",
       "      <th>SOLTEIRO</th>\n",
       "      <td>19.0</td>\n",
       "      <td>17.0</td>\n",
       "    </tr>\n",
       "    <tr>\n",
       "      <th rowspan=\"2\" valign=\"top\">M</th>\n",
       "      <th>CASADO</th>\n",
       "      <td>71.0</td>\n",
       "      <td>79.0</td>\n",
       "    </tr>\n",
       "    <tr>\n",
       "      <th>SOLTEIRO</th>\n",
       "      <td>235.0</td>\n",
       "      <td>228.0</td>\n",
       "    </tr>\n",
       "    <tr>\n",
       "      <th rowspan=\"3\" valign=\"top\">acima 40 anos</th>\n",
       "      <th>F</th>\n",
       "      <th>SOLTEIRO</th>\n",
       "      <td>6.0</td>\n",
       "      <td>0.0</td>\n",
       "    </tr>\n",
       "    <tr>\n",
       "      <th rowspan=\"2\" valign=\"top\">M</th>\n",
       "      <th>CASADO</th>\n",
       "      <td>12.0</td>\n",
       "      <td>17.0</td>\n",
       "    </tr>\n",
       "    <tr>\n",
       "      <th>SOLTEIRO</th>\n",
       "      <td>22.0</td>\n",
       "      <td>66.0</td>\n",
       "    </tr>\n",
       "  </tbody>\n",
       "</table>\n",
       "</div>"
      ],
      "text/plain": [
       "TIPO_OCORRENCIA               ALERTA   ERRO\n",
       "FAIXA_ETARIA  SEXO EST_CIVIL               \n",
       "20 anos       F    SOLTEIRO      1.0    0.0\n",
       "              M    CASADO        9.0    1.0\n",
       "                   SOLTEIRO     13.0    9.0\n",
       "30 anos       F    SOLTEIRO     19.0   17.0\n",
       "              M    CASADO       71.0   79.0\n",
       "                   SOLTEIRO    235.0  228.0\n",
       "acima 40 anos F    SOLTEIRO      6.0    0.0\n",
       "              M    CASADO       12.0   17.0\n",
       "                   SOLTEIRO     22.0   66.0"
      ]
     },
     "execution_count": 379,
     "metadata": {},
     "output_type": "execute_result"
    }
   ],
   "source": [
    "df1 = unstack_group(df_filtrada, 'TIPO_OCORRENCIA', ['FAIXA_ETARIA', 'SEXO', 'EST_CIVIL'])\n",
    "#df1 = df1.loc[['ERRO', 'ALERTA']]\n",
    "df1[['ALERTA', 'ERRO']]"
   ]
  },
  {
   "cell_type": "code",
   "execution_count": 380,
   "metadata": {},
   "outputs": [
    {
     "data": {
      "text/plain": [
       "(36.635776030304065,\n",
       " 1.3426624389807962e-05,\n",
       " 8,\n",
       " array([[  0.48198758,   0.51801242],\n",
       "        [  4.81987578,   5.18012422],\n",
       "        [ 10.60372671,  11.39627329],\n",
       "        [ 17.3515528 ,  18.6484472 ],\n",
       "        [ 72.29813665,  77.70186335],\n",
       "        [223.16024845, 239.83975155],\n",
       "        [  2.89192547,   3.10807453],\n",
       "        [ 13.97763975,  15.02236025],\n",
       "        [ 42.41490683,  45.58509317]]))"
      ]
     },
     "execution_count": 380,
     "metadata": {},
     "output_type": "execute_result"
    }
   ],
   "source": [
    "chi2_contingency(df1[['ALERTA', 'ERRO']])"
   ]
  },
  {
   "cell_type": "markdown",
   "metadata": {},
   "source": [
    "#### R1: Há indícios de das variáveis serem dependentes."
   ]
  },
  {
   "cell_type": "markdown",
   "metadata": {},
   "source": [
    "### Q2- Faixa etária - Sexo - Estado civil = Ocorrencia Erro | Alerta"
   ]
  },
  {
   "cell_type": "code",
   "execution_count": 377,
   "metadata": {},
   "outputs": [
    {
     "data": {
      "text/html": [
       "<div>\n",
       "<style scoped>\n",
       "    .dataframe tbody tr th:only-of-type {\n",
       "        vertical-align: middle;\n",
       "    }\n",
       "\n",
       "    .dataframe tbody tr th {\n",
       "        vertical-align: top;\n",
       "    }\n",
       "\n",
       "    .dataframe thead th {\n",
       "        text-align: right;\n",
       "    }\n",
       "</style>\n",
       "<table border=\"1\" class=\"dataframe\">\n",
       "  <thead>\n",
       "    <tr style=\"text-align: right;\">\n",
       "      <th></th>\n",
       "      <th></th>\n",
       "      <th>FAIXA_ETARIA</th>\n",
       "      <th>20 anos</th>\n",
       "      <th>30 anos</th>\n",
       "      <th>acima 40 anos</th>\n",
       "    </tr>\n",
       "    <tr>\n",
       "      <th>TIPO_OCORRENCIA</th>\n",
       "      <th>SEXO</th>\n",
       "      <th>EST_CIVIL</th>\n",
       "      <th></th>\n",
       "      <th></th>\n",
       "      <th></th>\n",
       "    </tr>\n",
       "  </thead>\n",
       "  <tbody>\n",
       "    <tr>\n",
       "      <th rowspan=\"3\" valign=\"top\">ALERTA</th>\n",
       "      <th>F</th>\n",
       "      <th>SOLTEIRO</th>\n",
       "      <td>1.0</td>\n",
       "      <td>19.0</td>\n",
       "      <td>6.0</td>\n",
       "    </tr>\n",
       "    <tr>\n",
       "      <th rowspan=\"2\" valign=\"top\">M</th>\n",
       "      <th>CASADO</th>\n",
       "      <td>9.0</td>\n",
       "      <td>71.0</td>\n",
       "      <td>12.0</td>\n",
       "    </tr>\n",
       "    <tr>\n",
       "      <th>SOLTEIRO</th>\n",
       "      <td>13.0</td>\n",
       "      <td>235.0</td>\n",
       "      <td>22.0</td>\n",
       "    </tr>\n",
       "    <tr>\n",
       "      <th rowspan=\"3\" valign=\"top\">ERRO</th>\n",
       "      <th>F</th>\n",
       "      <th>SOLTEIRO</th>\n",
       "      <td>0.0</td>\n",
       "      <td>17.0</td>\n",
       "      <td>0.0</td>\n",
       "    </tr>\n",
       "    <tr>\n",
       "      <th rowspan=\"2\" valign=\"top\">M</th>\n",
       "      <th>CASADO</th>\n",
       "      <td>1.0</td>\n",
       "      <td>79.0</td>\n",
       "      <td>17.0</td>\n",
       "    </tr>\n",
       "    <tr>\n",
       "      <th>SOLTEIRO</th>\n",
       "      <td>9.0</td>\n",
       "      <td>228.0</td>\n",
       "      <td>66.0</td>\n",
       "    </tr>\n",
       "  </tbody>\n",
       "</table>\n",
       "</div>"
      ],
      "text/plain": [
       "FAIXA_ETARIA                    20 anos  30 anos  acima 40 anos\n",
       "TIPO_OCORRENCIA SEXO EST_CIVIL                                 \n",
       "ALERTA          F    SOLTEIRO       1.0     19.0            6.0\n",
       "                M    CASADO         9.0     71.0           12.0\n",
       "                     SOLTEIRO      13.0    235.0           22.0\n",
       "ERRO            F    SOLTEIRO       0.0     17.0            0.0\n",
       "                M    CASADO         1.0     79.0           17.0\n",
       "                     SOLTEIRO       9.0    228.0           66.0"
      ]
     },
     "execution_count": 377,
     "metadata": {},
     "output_type": "execute_result"
    }
   ],
   "source": [
    "df1 = unstack_group(df_filtrada, 'FAIXA_ETARIA', ['TIPO_OCORRENCIA', 'SEXO', 'EST_CIVIL'])\n",
    "df1 = df1.loc[['ERRO', 'ALERTA']]\n",
    "df1"
   ]
  },
  {
   "cell_type": "code",
   "execution_count": 357,
   "metadata": {},
   "outputs": [
    {
     "data": {
      "text/plain": [
       "(7.2712636125120405,\n",
       " 0.12222895600068359,\n",
       " 4,\n",
       " array([[  0.40767386,  13.20863309,   3.38369305],\n",
       "        [  2.32613909,  75.36690647,  19.30695444],\n",
       "        [  7.26618705, 235.42446043,  60.30935252]]))"
      ]
     },
     "execution_count": 357,
     "metadata": {},
     "output_type": "execute_result"
    }
   ],
   "source": [
    "chi2_contingency(df2)"
   ]
  },
  {
   "cell_type": "code",
   "execution_count": null,
   "metadata": {},
   "outputs": [],
   "source": []
  },
  {
   "cell_type": "code",
   "execution_count": 373,
   "metadata": {},
   "outputs": [],
   "source": [
    "df3 = unstack_group(df_filtrada, 'SEXO', ['TIPO_OCORRENCIA'])\n",
    "\n",
    "a = df3[['M', 'F']]"
   ]
  },
  {
   "cell_type": "code",
   "execution_count": 374,
   "metadata": {},
   "outputs": [
    {
     "data": {
      "text/plain": [
       "(6.4490649629096986,\n",
       " 0.03977437248684426,\n",
       " 2,\n",
       " array([[1228.60197833,   89.39802167],\n",
       "        [ 361.68252473,   26.31747527],\n",
       "        [ 388.71549694,   28.28450306]]))"
      ]
     },
     "execution_count": 374,
     "metadata": {},
     "output_type": "execute_result"
    }
   ],
   "source": [
    "chi2_contingency(a)"
   ]
  },
  {
   "cell_type": "code",
   "execution_count": 301,
   "metadata": {},
   "outputs": [
    {
     "data": {
      "text/html": [
       "<div>\n",
       "<style scoped>\n",
       "    .dataframe tbody tr th:only-of-type {\n",
       "        vertical-align: middle;\n",
       "    }\n",
       "\n",
       "    .dataframe tbody tr th {\n",
       "        vertical-align: top;\n",
       "    }\n",
       "\n",
       "    .dataframe thead th {\n",
       "        text-align: right;\n",
       "    }\n",
       "</style>\n",
       "<table border=\"1\" class=\"dataframe\">\n",
       "  <thead>\n",
       "    <tr style=\"text-align: right;\">\n",
       "      <th>SEXO</th>\n",
       "      <th>F</th>\n",
       "      <th>M</th>\n",
       "    </tr>\n",
       "    <tr>\n",
       "      <th>TIPO_OCORRENCIA</th>\n",
       "      <th></th>\n",
       "      <th></th>\n",
       "    </tr>\n",
       "  </thead>\n",
       "  <tbody>\n",
       "    <tr>\n",
       "      <th>OK</th>\n",
       "      <td>101</td>\n",
       "      <td>1217</td>\n",
       "    </tr>\n",
       "    <tr>\n",
       "      <th>ALERTA</th>\n",
       "      <td>26</td>\n",
       "      <td>362</td>\n",
       "    </tr>\n",
       "    <tr>\n",
       "      <th>ERRO</th>\n",
       "      <td>17</td>\n",
       "      <td>400</td>\n",
       "    </tr>\n",
       "  </tbody>\n",
       "</table>\n",
       "</div>"
      ],
      "text/plain": [
       "SEXO               F     M\n",
       "TIPO_OCORRENCIA           \n",
       "OK               101  1217\n",
       "ALERTA            26   362\n",
       "ERRO              17   400"
      ]
     },
     "execution_count": 301,
     "metadata": {},
     "output_type": "execute_result"
    }
   ],
   "source": [
    "df2 = unstack_group(df_filtrada, 'SEXO', ['TIPO_OCORRENCIA'])\n",
    "df2"
   ]
  },
  {
   "cell_type": "code",
   "execution_count": 302,
   "metadata": {},
   "outputs": [
    {
     "data": {
      "text/plain": [
       "(6.449064962909699,\n",
       " 0.039774372486844255,\n",
       " 2,\n",
       " array([[  89.39802167, 1228.60197833],\n",
       "        [  26.31747527,  361.68252473],\n",
       "        [  28.28450306,  388.71549694]]))"
      ]
     },
     "execution_count": 302,
     "metadata": {},
     "output_type": "execute_result"
    }
   ],
   "source": [
    "chi2_contingency(df2)"
   ]
  },
  {
   "cell_type": "code",
   "execution_count": null,
   "metadata": {},
   "outputs": [],
   "source": []
  },
  {
   "cell_type": "code",
   "execution_count": null,
   "metadata": {},
   "outputs": [],
   "source": []
  }
 ],
 "metadata": {
  "kernelspec": {
   "display_name": "Python 3",
   "language": "python",
   "name": "python3"
  },
  "language_info": {
   "codemirror_mode": {
    "name": "ipython",
    "version": 3
   },
   "file_extension": ".py",
   "mimetype": "text/x-python",
   "name": "python",
   "nbconvert_exporter": "python",
   "pygments_lexer": "ipython3",
   "version": "3.6.7"
  }
 },
 "nbformat": 4,
 "nbformat_minor": 2
}
