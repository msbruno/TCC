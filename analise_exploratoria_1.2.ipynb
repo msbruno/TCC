{
 "cells": [
  {
   "cell_type": "code",
   "execution_count": 1,
   "metadata": {},
   "outputs": [],
   "source": [
    "import pandas as  pd\n",
    "import numpy  as  np\n",
    "import matplotlib.pyplot  as plt\n",
    "import seaborn as sns\n",
    "import statsmodels.api as sm\n",
    "from statsmodels.formula.api import ols\n",
    "from scipy import stats\n",
    "import statsmodels.api as sm_api\n",
    "from sklearn import preprocessing\n",
    "from scipy.stats import chi2_contingency\n",
    "from scipy.stats.stats import pearsonr   \n",
    "import scikit_posthocs as sp"
   ]
  },
  {
   "cell_type": "code",
   "execution_count": 2,
   "metadata": {},
   "outputs": [],
   "source": [
    "df  = pd.read_csv(r'/home/silva/Downloads/lista_empregados2.csv')"
   ]
  },
  {
   "cell_type": "code",
   "execution_count": 3,
   "metadata": {},
   "outputs": [
    {
     "name": "stderr",
     "output_type": "stream",
     "text": [
      "/home/silva/.local/lib/python3.6/site-packages/ipykernel_launcher.py:11: SettingWithCopyWarning: \n",
      "A value is trying to be set on a copy of a slice from a DataFrame.\n",
      "Try using .loc[row_indexer,col_indexer] = value instead\n",
      "\n",
      "See the caveats in the documentation: http://pandas.pydata.org/pandas-docs/stable/indexing.html#indexing-view-versus-copy\n",
      "  # This is added back by InteractiveShellApp.init_path()\n",
      "/home/silva/.local/lib/python3.6/site-packages/ipykernel_launcher.py:12: SettingWithCopyWarning: \n",
      "A value is trying to be set on a copy of a slice from a DataFrame.\n",
      "Try using .loc[row_indexer,col_indexer] = value instead\n",
      "\n",
      "See the caveats in the documentation: http://pandas.pydata.org/pandas-docs/stable/indexing.html#indexing-view-versus-copy\n",
      "  if sys.path[0] == '':\n",
      "/home/silva/.local/lib/python3.6/site-packages/ipykernel_launcher.py:16: SettingWithCopyWarning: \n",
      "A value is trying to be set on a copy of a slice from a DataFrame.\n",
      "Try using .loc[row_indexer,col_indexer] = value instead\n",
      "\n",
      "See the caveats in the documentation: http://pandas.pydata.org/pandas-docs/stable/indexing.html#indexing-view-versus-copy\n",
      "  app.launch_new_instance()\n",
      "/home/silva/.local/lib/python3.6/site-packages/ipykernel_launcher.py:17: SettingWithCopyWarning: \n",
      "A value is trying to be set on a copy of a slice from a DataFrame.\n",
      "Try using .loc[row_indexer,col_indexer] = value instead\n",
      "\n",
      "See the caveats in the documentation: http://pandas.pydata.org/pandas-docs/stable/indexing.html#indexing-view-versus-copy\n",
      "/home/silva/.local/lib/python3.6/site-packages/ipykernel_launcher.py:18: SettingWithCopyWarning: \n",
      "A value is trying to be set on a copy of a slice from a DataFrame.\n",
      "Try using .loc[row_indexer,col_indexer] = value instead\n",
      "\n",
      "See the caveats in the documentation: http://pandas.pydata.org/pandas-docs/stable/indexing.html#indexing-view-versus-copy\n"
     ]
    }
   ],
   "source": [
    "df_perfil = df\n",
    "\n",
    "#Ajusta código empregado\n",
    "df_perfil['COD_EMPREGADO'] = df_perfil['COD_EMPREGADO'].apply(str)\n",
    "df_perfil['COD_EMPREGADO'] = 'B' + df_perfil['COD_EMPREGADO']\n",
    "\n",
    "#Filtra colunas\n",
    "df_perfil = df_perfil[['COD_EMPREGADO', 'DATA_ADMISSAO', 'DATA_NASCIMENTO', 'NIVEL_FUNCAO', 'EST_CIVIL', 'SEXO', 'DEP_CRECHE_BABA']]\n",
    "\n",
    "#modifica tipo coluna\n",
    "df_perfil['DATA_NASCIMENTO'] = df_perfil['DATA_NASCIMENTO'].apply(pd.to_datetime)\n",
    "df_perfil['DATA_ADMISSAO'] = df_perfil['DATA_ADMISSAO'].apply(pd.to_datetime)\n",
    "\n",
    "#Calcular tempo/idade\n",
    "ano_hoje = pd.datetime.today().year\n",
    "df_perfil['TEMPO_EMPRESA'] = ano_hoje -  df_perfil['DATA_ADMISSAO'].dt.year \n",
    "df_perfil['IDADE'] = ano_hoje - df_perfil['DATA_NASCIMENTO'].dt.year\n",
    "df_perfil['COD_USUARIO'] = df_perfil['COD_EMPREGADO']"
   ]
  },
  {
   "cell_type": "markdown",
   "metadata": {},
   "source": [
    "## Leitura Dataset cobertura"
   ]
  },
  {
   "cell_type": "code",
   "execution_count": 4,
   "metadata": {},
   "outputs": [],
   "source": [
    "df_cobertura = pd.read_csv(r'/home/silva/Downloads/tcc/cobertura_individual.csv')\n",
    "df_cobertura['CSS'] = df_cobertura['CSS'].str.upper()\n",
    "df_cobertura['NOME_CLASSE'] = df_cobertura['NOME_CLASSE'].str.upper()\n",
    "df_cobertura['DATA'] = df_cobertura['ULT_ATUALIZACAO'].apply(pd.to_datetime)\n",
    "\n",
    "#Remover sistemas não interessantes para o estudo\n",
    "df_cobertura = df_cobertura[~df_cobertura['CSS'].str.startswith('PXC')]"
   ]
  },
  {
   "cell_type": "markdown",
   "metadata": {},
   "source": [
    "## Agrupamento Dataset"
   ]
  },
  {
   "cell_type": "code",
   "execution_count": 5,
   "metadata": {},
   "outputs": [],
   "source": [
    "#Seleciona ultima cobertura da classe\n",
    "df_cobertura_ajustada = df_cobertura.sort_values('DATA').groupby(['NOME_CLASSE', 'COD_USUARIO']).tail(1)\n",
    "#cria percentual coberto\n",
    "df_cobertura_ajustada['PORCENTAGEM_COBERTA'] = 100 * df_cobertura_ajustada['LINHAS_COBERTAS'] / (df_cobertura_ajustada['LINHAS_NAO_COBERTAS'] + df_cobertura_ajustada['LINHAS_COBERTAS'])\n",
    "df_final = pd.merge(df_cobertura_ajustada, df_perfil, on='COD_USUARIO', how='inner')"
   ]
  },
  {
   "cell_type": "markdown",
   "metadata": {},
   "source": [
    "----"
   ]
  },
  {
   "cell_type": "markdown",
   "metadata": {},
   "source": [
    "## Funções"
   ]
  },
  {
   "cell_type": "code",
   "execution_count": 6,
   "metadata": {},
   "outputs": [],
   "source": [
    "#Cria classe\n",
    "def cria_classe(valor, media, classe_abaixo, classe_acima):\n",
    "    if valor > media:\n",
    "        return classe_acima\n",
    "    return classe_abaixo\n",
    "\n",
    "#Boxplot\n",
    "def plot_boxplot(df_class, df_features_standardized, w, h, classe):\n",
    "    df_standardized = pd.concat([df_class,df_features_standardized],axis=1)\n",
    "    df_melted = pd.melt(df_standardized,\n",
    "                    id_vars=classe,\n",
    "                    var_name=\"features\",\n",
    "                    value_name='value')\n",
    "    plt.figure(figsize=(w,h))\n",
    "    sns.boxplot(x=\"features\", y=\"value\", hue=classe, data=df_melted)\n",
    "    \n",
    "def binning(col, method='doane'):\n",
    "    hist, bin_edges = np.histogram(col, method)\n",
    "    bined_values = np.digitize(col, bin_edges)\n",
    "    bin_interval = list()\n",
    "    for x in range(0, len(bin_edges)):\n",
    "        if x == 0:\n",
    "            bin_interval.append('(-Inf,{0})'.format(bin_edges[x]))\n",
    "        elif x == (len(bin_edges) - 1):\n",
    "            # bin_interval.append('({0},Inf)'.format(bin_edges[x]))\n",
    "            continue\n",
    "        else:\n",
    "            bin_interval.append('({0},{1})'.format(bin_edges[x], bin_edges[x+1]))\n",
    "\n",
    "    # Binning using cut function of pandas\n",
    "    colBin = pd.cut(col, bins=bin_edges, labels=bin_interval, include_lowest=True)\n",
    "\n",
    "    return colBin\n",
    "\n",
    "def unstack_group(df, y, group):\n",
    "    group.append(y)\n",
    "    groupsizes = df.groupby(group).size()\n",
    "    ctsum = groupsizes.unstack(y)\n",
    "    return ctsum.fillna(0)"
   ]
  },
  {
   "cell_type": "markdown",
   "metadata": {},
   "source": [
    "----"
   ]
  },
  {
   "cell_type": "markdown",
   "metadata": {},
   "source": [
    "## Filtragens"
   ]
  },
  {
   "cell_type": "code",
   "execution_count": 7,
   "metadata": {},
   "outputs": [
    {
     "name": "stdout",
     "output_type": "stream",
     "text": [
      "mediana: 85.18518518518519\n",
      "count    2534.000000\n",
      "mean       69.797164\n",
      "std        32.804781\n",
      "min         0.000000\n",
      "25%        58.887561\n",
      "50%        81.496476\n",
      "75%        94.444444\n",
      "max       100.000000\n",
      "Name: PORCENTAGEM_COBERTA, dtype: float64\n"
     ]
    },
    {
     "name": "stderr",
     "output_type": "stream",
     "text": [
      "/home/silva/.local/lib/python3.6/site-packages/ipykernel_launcher.py:3: UserWarning: Boolean Series key will be reindexed to match DataFrame index.\n",
      "  This is separate from the ipykernel package so we can avoid doing imports until\n"
     ]
    },
    {
     "data": {
      "text/plain": [
       "Text(0.5, 0.98, 'Porcentagem de teste')"
      ]
     },
     "execution_count": 7,
     "metadata": {},
     "output_type": "execute_result"
    },
    {
     "data": {
      "image/png": "[encoded data removed]",
      "text/plain": [
       "<Figure size 432x288 with 1 Axes>"
      ]
     },
     "metadata": {
      "needs_background": "light"
     },
     "output_type": "display_data"
    }
   ],
   "source": [
    "# Remove coberturas abaixo de 20%, pois de modo geral são classes apenas o construtor foi executado.\n",
    "df_filtrada = df_final[df_final['PORCENTAGEM_COBERTA'] >= 20]\n",
    "df_filtrada = df_filtrada[df_final['EST_CIVIL'] != 6]\n",
    "\n",
    "#verifica\n",
    "print(\"mediana: \" + str(df_filtrada['PORCENTAGEM_COBERTA'].median()))\n",
    "print(df_final['PORCENTAGEM_COBERTA'].describe())\n",
    "df_filtrada['PORCENTAGEM_COBERTA'].hist()\n",
    "plt.suptitle(\"Porcentagem de teste\")"
   ]
  },
  {
   "cell_type": "markdown",
   "metadata": {},
   "source": [
    "----"
   ]
  },
  {
   "cell_type": "markdown",
   "metadata": {},
   "source": [
    "# Categorização"
   ]
  },
  {
   "cell_type": "markdown",
   "metadata": {},
   "source": [
    "## Estado civil"
   ]
  },
  {
   "cell_type": "code",
   "execution_count": 9,
   "metadata": {},
   "outputs": [
    {
     "name": "stderr",
     "output_type": "stream",
     "text": [
      "/home/silva/.local/lib/python3.6/site-packages/ipykernel_launcher.py:12: SettingWithCopyWarning: \n",
      "A value is trying to be set on a copy of a slice from a DataFrame.\n",
      "Try using .loc[row_indexer,col_indexer] = value instead\n",
      "\n",
      "See the caveats in the documentation: http://pandas.pydata.org/pandas-docs/stable/indexing.html#indexing-view-versus-copy\n",
      "  if sys.path[0] == '':\n",
      "/home/silva/.local/lib/python3.6/site-packages/ipykernel_launcher.py:13: SettingWithCopyWarning: \n",
      "A value is trying to be set on a copy of a slice from a DataFrame.\n",
      "Try using .loc[row_indexer,col_indexer] = value instead\n",
      "\n",
      "See the caveats in the documentation: http://pandas.pydata.org/pandas-docs/stable/indexing.html#indexing-view-versus-copy\n",
      "  del sys.path[0]\n"
     ]
    }
   ],
   "source": [
    "def estado_civil(x):\n",
    "    if x == 1:\n",
    "        return \"SOLTEIRO\"\n",
    "    elif x == 2:\n",
    "        return \"CASADO\"\n",
    "    else: return \"DIVORCIADO\"\n",
    "\n",
    "df_filtrada['EST_CIVIL'] = df_filtrada['EST_CIVIL'].apply(lambda x : estado_civil(x))\n",
    "df_filtrada['EST_CIVIL'] = df_filtrada['EST_CIVIL'].astype('category')\n",
    "\n",
    "usuarios = df_filtrada.groupby('COD_USUARIO').tail(1)\n",
    "usuarios['EST_CIVIL'] = usuarios['EST_CIVIL'].apply(lambda x : estado_civil(x))\n",
    "usuarios['EST_CIVIL'] = usuarios['EST_CIVIL'].astype('category')\n"
   ]
  },
  {
   "cell_type": "markdown",
   "metadata": {},
   "source": [
    "## Idade"
   ]
  },
  {
   "cell_type": "code",
   "execution_count": 10,
   "metadata": {},
   "outputs": [
    {
     "name": "stderr",
     "output_type": "stream",
     "text": [
      "/home/silva/.local/lib/python3.6/site-packages/ipykernel_launcher.py:13: SettingWithCopyWarning: \n",
      "A value is trying to be set on a copy of a slice from a DataFrame.\n",
      "Try using .loc[row_indexer,col_indexer] = value instead\n",
      "\n",
      "See the caveats in the documentation: http://pandas.pydata.org/pandas-docs/stable/indexing.html#indexing-view-versus-copy\n",
      "  del sys.path[0]\n",
      "/home/silva/.local/lib/python3.6/site-packages/ipykernel_launcher.py:14: SettingWithCopyWarning: \n",
      "A value is trying to be set on a copy of a slice from a DataFrame.\n",
      "Try using .loc[row_indexer,col_indexer] = value instead\n",
      "\n",
      "See the caveats in the documentation: http://pandas.pydata.org/pandas-docs/stable/indexing.html#indexing-view-versus-copy\n",
      "  \n"
     ]
    }
   ],
   "source": [
    "def cria_classe_idade(x):\n",
    "    if x < 30:\n",
    "        return '20 anos'\n",
    "    elif x >= 30 and x <= 40:\n",
    "        return '30 anos'\n",
    "    elif x > 40:\n",
    "        return 'acima 40 anos'\n",
    "    \n",
    "\n",
    "df_filtrada['FAIXA_ETARIA'] = df_filtrada.apply(lambda x: cria_classe_idade(x['IDADE']), axis=1)\n",
    "df_filtrada['FAIXA_ETARIA'] = df_filtrada['FAIXA_ETARIA'].astype('category')\n",
    "\n",
    "usuarios['FAIXA_ETARIA'] = usuarios.apply(lambda x: cria_classe_idade(x['IDADE']), axis=1)\n",
    "usuarios['FAIXA_ETARIA'] = usuarios['FAIXA_ETARIA'].astype('category')\n",
    "df_filtrada['BIN_IDADE'] = binning(df_filtrada['IDADE'])"
   ]
  },
  {
   "cell_type": "markdown",
   "metadata": {},
   "source": [
    "### Categorização ERRO - ALERTA - OK\n",
    "<br>A empresa considera: <br>-OK: acima de 80%<br>-ALERTA: entre 79% e 70%<br>-ERRO: abaixo de 70%"
   ]
  },
  {
   "cell_type": "code",
   "execution_count": 11,
   "metadata": {},
   "outputs": [],
   "source": [
    "def ocorrencia(x):\n",
    "    if x >= 80:\n",
    "        return 'OK'\n",
    "    elif x<80 and x>=70:\n",
    "        return 'ALERTA'\n",
    "    else: \n",
    "        return 'ERRO'"
   ]
  },
  {
   "cell_type": "code",
   "execution_count": 12,
   "metadata": {},
   "outputs": [
    {
     "name": "stdout",
     "output_type": "stream",
     "text": [
      "OK        1318\n",
      "ERRO       417\n",
      "ALERTA     388\n",
      "Name: TIPO_OCORRENCIA, dtype: int64\n"
     ]
    },
    {
     "data": {
      "text/plain": [
       "Text(0.5, 0.98, 'Tipo de ocorrência')"
      ]
     },
     "execution_count": 12,
     "metadata": {},
     "output_type": "execute_result"
    },
    {
     "data": {
      "image/png": "[encoded data removed]",
      "text/plain": [
       "<Figure size 432x288 with 1 Axes>"
      ]
     },
     "metadata": {
      "needs_background": "light"
     },
     "output_type": "display_data"
    }
   ],
   "source": [
    "df_filtrada['TIPO_OCORRENCIA'] = df_filtrada.apply(lambda x: ocorrencia(x['PORCENTAGEM_COBERTA']), axis=1)\n",
    "df_filtrada['TIPO_OCORRENCIA'] = df_filtrada['TIPO_OCORRENCIA'].astype('category')\n",
    "df_filtrada['TIPO_OCORRENCIA'] = df_filtrada['TIPO_OCORRENCIA'].cat.reorder_categories(['OK', 'ALERTA', 'ERRO'])\n",
    "\n",
    "print(df_filtrada['TIPO_OCORRENCIA'].value_counts())\n",
    "sns.countplot(df_filtrada['TIPO_OCORRENCIA'],label=\"Count\",  palette=[\"C2\", \"C8\",\"C3\"])\n",
    "plt.suptitle(\"Tipo de ocorrência\")"
   ]
  },
  {
   "cell_type": "code",
   "execution_count": null,
   "metadata": {},
   "outputs": [],
   "source": []
  },
  {
   "cell_type": "markdown",
   "metadata": {},
   "source": [
    "------"
   ]
  },
  {
   "cell_type": "markdown",
   "metadata": {},
   "source": [
    "## 1) Verificações do objeto de estudo"
   ]
  },
  {
   "cell_type": "markdown",
   "metadata": {},
   "source": [
    "### 1.1)Verifica usuários (únicos)"
   ]
  },
  {
   "cell_type": "code",
   "execution_count": 13,
   "metadata": {},
   "outputs": [
    {
     "name": "stdout",
     "output_type": "stream",
     "text": [
      "total de usuários únicos:155\n"
     ]
    },
    {
     "data": {
      "text/plain": [
       "<matplotlib.axes._subplots.AxesSubplot at 0x7f56bd8e16a0>"
      ]
     },
     "execution_count": 13,
     "metadata": {},
     "output_type": "execute_result"
    },
    {
     "data": {
      "image/png": "[encoded data removed]",
      "text/plain": [
       "<Figure size 432x288 with 1 Axes>"
      ]
     },
     "metadata": {
      "needs_background": "light"
     },
     "output_type": "display_data"
    }
   ],
   "source": [
    "print(\"total de usuários únicos:\" + str(len((df_filtrada['COD_USUARIO'].unique()))))\n",
    "df_filtrada['COD_USUARIO'].value_counts().hist()"
   ]
  },
  {
   "cell_type": "markdown",
   "metadata": {},
   "source": [
    "#### 1.1)A amostra é composta de um total de 155 desenvolvedores de software que produziram pelo menos uma evidência de cobertura de código em testes. "
   ]
  },
  {
   "cell_type": "markdown",
   "metadata": {},
   "source": [
    "### 1.2)Verificações de idade de usuários"
   ]
  },
  {
   "cell_type": "code",
   "execution_count": 14,
   "metadata": {},
   "outputs": [
    {
     "data": {
      "text/plain": [
       "Text(0.5, 0.98, 'Idade dos Desenvolvedores')"
      ]
     },
     "execution_count": 14,
     "metadata": {},
     "output_type": "execute_result"
    },
    {
     "data": {
      "image/png": "[encoded data removed]",
      "text/plain": [
       "<Figure size 432x288 with 1 Axes>"
      ]
     },
     "metadata": {
      "needs_background": "light"
     },
     "output_type": "display_data"
    }
   ],
   "source": [
    "usuarios = df_filtrada.groupby('COD_USUARIO').tail(1)\n",
    "#Verifica idade\n",
    "usuarios['IDADE'].hist()\n",
    "plt.suptitle(\"Idade dos Desenvolvedores\")"
   ]
  },
  {
   "cell_type": "code",
   "execution_count": 15,
   "metadata": {},
   "outputs": [
    {
     "name": "stdout",
     "output_type": "stream",
     "text": [
      "count    155.000000\n",
      "mean      36.258065\n",
      "std        6.012799\n",
      "min       22.000000\n",
      "25%       33.000000\n",
      "50%       35.000000\n",
      "75%       39.000000\n",
      "max       60.000000\n",
      "Name: IDADE, dtype: float64\n",
      "35.0\n"
     ]
    }
   ],
   "source": [
    "print(usuarios['IDADE'].describe())\n",
    "print(usuarios['IDADE'].median())"
   ]
  },
  {
   "cell_type": "code",
   "execution_count": 16,
   "metadata": {},
   "outputs": [
    {
     "name": "stdout",
     "output_type": "stream",
     "text": [
      "30 anos          1718\n",
      "acima 40 anos     240\n",
      "20 anos           165\n",
      "Name: FAIXA_ETARIA, dtype: int64\n"
     ]
    },
    {
     "data": {
      "text/plain": [
       "Text(0.5, 0.98, 'Faixa etária desenvolvedor que gerou ocorrência')"
      ]
     },
     "execution_count": 16,
     "metadata": {},
     "output_type": "execute_result"
    },
    {
     "data": {
      "image/png": "[encoded data removed]",
      "text/plain": [
       "<Figure size 432x288 with 1 Axes>"
      ]
     },
     "metadata": {
      "needs_background": "light"
     },
     "output_type": "display_data"
    }
   ],
   "source": [
    "print(df_filtrada['FAIXA_ETARIA'].value_counts())\n",
    "sns.countplot(df_filtrada['FAIXA_ETARIA'],label=\"Count\")\n",
    "plt.suptitle(\"Faixa etária desenvolvedor que gerou ocorrência\")"
   ]
  },
  {
   "cell_type": "markdown",
   "metadata": {},
   "source": [
    "#### 1.2) Maioria dos desenvolvedores, 75%, possuem entre 22 e 39 anos.  A faixa etária com mais representantes é a faixa de 30 anos de idade, sendo formada por 1718 indivíduos."
   ]
  },
  {
   "cell_type": "markdown",
   "metadata": {},
   "source": [
    "### 1.3)Sexo"
   ]
  },
  {
   "cell_type": "code",
   "execution_count": 17,
   "metadata": {},
   "outputs": [
    {
     "data": {
      "text/plain": [
       "M    143\n",
       "F     12\n",
       "Name: SEXO, dtype: int64"
      ]
     },
     "execution_count": 17,
     "metadata": {},
     "output_type": "execute_result"
    }
   ],
   "source": [
    "usuarios['SEXO'].value_counts()"
   ]
  },
  {
   "cell_type": "markdown",
   "metadata": {},
   "source": [
    "#### 1.3)Maioria dos desenvolvedores são do sexo masculino, sendo apenas 12 do sexo feminino."
   ]
  },
  {
   "cell_type": "markdown",
   "metadata": {},
   "source": [
    "-----------"
   ]
  },
  {
   "cell_type": "markdown",
   "metadata": {},
   "source": [
    "## 2) Correlacionando perfis com porcentagem"
   ]
  },
  {
   "cell_type": "markdown",
   "metadata": {},
   "source": [
    "### 2.1) Variável SEXO"
   ]
  },
  {
   "cell_type": "code",
   "execution_count": 18,
   "metadata": {},
   "outputs": [
    {
     "name": "stderr",
     "output_type": "stream",
     "text": [
      "/usr/local/lib/python3.6/dist-packages/scipy/stats/stats.py:1713: FutureWarning: Using a non-tuple sequence for multidimensional indexing is deprecated; use `arr[tuple(seq)]` instead of `arr[seq]`. In the future this will be interpreted as an array index, `arr[np.array(seq)]`, which will result either in an error or a different result.\n",
      "  return np.add.reduce(sorted[indexer] * weights, axis=axis) / sumval\n"
     ]
    },
    {
     "data": {
      "text/plain": [
       "<matplotlib.axes._subplots.AxesSubplot at 0x7f56bd83d668>"
      ]
     },
     "execution_count": 18,
     "metadata": {},
     "output_type": "execute_result"
    },
    {
     "data": {
      "image/png": "[encoded data removed]",
      "text/plain": [
       "<Figure size 432x288 with 1 Axes>"
      ]
     },
     "metadata": {
      "needs_background": "light"
     },
     "output_type": "display_data"
    }
   ],
   "source": [
    "df_homens = df_filtrada[df_filtrada['SEXO'] == 'M']\n",
    "df_mulheres = df_filtrada[df_filtrada['SEXO'] == 'F']\n",
    "\n",
    "sns.distplot(df_homens['PORCENTAGEM_COBERTA'], hist = False, kde = True, kde_kws = {'shade': True, 'linewidth': 3},  label = '20 anos')\n",
    "sns.distplot(df_mulheres['PORCENTAGEM_COBERTA'], hist = False, kde = True, kde_kws = {'shade': True, 'linewidth': 3},  label = '30 anos')"
   ]
  },
  {
   "cell_type": "code",
   "execution_count": 19,
   "metadata": {},
   "outputs": [
    {
     "data": {
      "image/png": "[encoded data removed]",
      "text/plain": [
       "<Figure size 360x360 with 1 Axes>"
      ]
     },
     "metadata": {
      "needs_background": "light"
     },
     "output_type": "display_data"
    }
   ],
   "source": [
    "plot_boxplot(df_filtrada['SEXO'], df_filtrada['PORCENTAGEM_COBERTA'], 5, 5, 'SEXO')"
   ]
  },
  {
   "cell_type": "markdown",
   "metadata": {},
   "source": [
    "### -> Verificando distribuições"
   ]
  },
  {
   "cell_type": "code",
   "execution_count": 20,
   "metadata": {},
   "outputs": [
    {
     "name": "stdout",
     "output_type": "stream",
     "text": [
      "MannwhitneyuResult(statistic=123071.5, pvalue=0.002998664214452954)\n"
     ]
    }
   ],
   "source": [
    "print(stats.mannwhitneyu(df_homens['PORCENTAGEM_COBERTA'], df_mulheres['PORCENTAGEM_COBERTA']))"
   ]
  },
  {
   "cell_type": "code",
   "execution_count": 21,
   "metadata": {},
   "outputs": [
    {
     "data": {
      "text/html": [
       "<div>\n",
       "<style scoped>\n",
       "    .dataframe tbody tr th:only-of-type {\n",
       "        vertical-align: middle;\n",
       "    }\n",
       "\n",
       "    .dataframe tbody tr th {\n",
       "        vertical-align: top;\n",
       "    }\n",
       "\n",
       "    .dataframe thead th {\n",
       "        text-align: right;\n",
       "    }\n",
       "</style>\n",
       "<table border=\"1\" class=\"dataframe\">\n",
       "  <thead>\n",
       "    <tr style=\"text-align: right;\">\n",
       "      <th>SEXO</th>\n",
       "      <th>F</th>\n",
       "      <th>M</th>\n",
       "    </tr>\n",
       "    <tr>\n",
       "      <th>TIPO_OCORRENCIA</th>\n",
       "      <th></th>\n",
       "      <th></th>\n",
       "    </tr>\n",
       "  </thead>\n",
       "  <tbody>\n",
       "    <tr>\n",
       "      <th>OK</th>\n",
       "      <td>101</td>\n",
       "      <td>1217</td>\n",
       "    </tr>\n",
       "    <tr>\n",
       "      <th>ALERTA</th>\n",
       "      <td>26</td>\n",
       "      <td>362</td>\n",
       "    </tr>\n",
       "    <tr>\n",
       "      <th>ERRO</th>\n",
       "      <td>17</td>\n",
       "      <td>400</td>\n",
       "    </tr>\n",
       "  </tbody>\n",
       "</table>\n",
       "</div>"
      ],
      "text/plain": [
       "SEXO               F     M\n",
       "TIPO_OCORRENCIA           \n",
       "OK               101  1217\n",
       "ALERTA            26   362\n",
       "ERRO              17   400"
      ]
     },
     "execution_count": 21,
     "metadata": {},
     "output_type": "execute_result"
    }
   ],
   "source": [
    "df_sexo = unstack_group(df_filtrada, 'SEXO', ['TIPO_OCORRENCIA'])\n",
    "df_sexo"
   ]
  },
  {
   "cell_type": "code",
   "execution_count": 22,
   "metadata": {},
   "outputs": [
    {
     "data": {
      "text/plain": [
       "(6.449064962909699,\n",
       " 0.039774372486844255,\n",
       " 2,\n",
       " array([[  89.39802167, 1228.60197833],\n",
       "        [  26.31747527,  361.68252473],\n",
       "        [  28.28450306,  388.71549694]]))"
      ]
     },
     "execution_count": 22,
     "metadata": {},
     "output_type": "execute_result"
    }
   ],
   "source": [
    "chi2_contingency(df_sexo)"
   ]
  },
  {
   "cell_type": "markdown",
   "metadata": {},
   "source": [
    "### -> Verificação apenas das ocorrências em não conformidade com o ideal"
   ]
  },
  {
   "cell_type": "code",
   "execution_count": 23,
   "metadata": {},
   "outputs": [],
   "source": [
    "df_homem_implantavel = df_homens[df_homens['TIPO_OCORRENCIA']!='OK']['PORCENTAGEM_COBERTA']\n",
    "df_mulher_implantavel = df_mulheres[df_mulheres['TIPO_OCORRENCIA']!='OK']['PORCENTAGEM_COBERTA']"
   ]
  },
  {
   "cell_type": "code",
   "execution_count": 24,
   "metadata": {},
   "outputs": [
    {
     "data": {
      "text/plain": [
       "<matplotlib.axes._subplots.AxesSubplot at 0x7f56bd673080>"
      ]
     },
     "execution_count": 24,
     "metadata": {},
     "output_type": "execute_result"
    },
    {
     "data": {
      "image/png": "[encoded data removed]",
      "text/plain": [
       "<Figure size 432x288 with 1 Axes>"
      ]
     },
     "metadata": {
      "needs_background": "light"
     },
     "output_type": "display_data"
    }
   ],
   "source": [
    "sns.distplot(df_homem_implantavel, hist = False, kde = True, kde_kws = {'shade': True, 'linewidth': 3},  label = 'homem')\n",
    "sns.distplot(df_mulher_implantavel, hist = False, kde = True, kde_kws = {'shade': True, 'linewidth': 3},  label = 'mulher')"
   ]
  },
  {
   "cell_type": "code",
   "execution_count": 25,
   "metadata": {},
   "outputs": [
    {
     "name": "stdout",
     "output_type": "stream",
     "text": [
      "MannwhitneyuResult(statistic=12397.0, pvalue=0.003608320033174088)\n"
     ]
    }
   ],
   "source": [
    "print(stats.mannwhitneyu(df_homem_implantavel, df_mulher_implantavel))"
   ]
  },
  {
   "cell_type": "code",
   "execution_count": 26,
   "metadata": {},
   "outputs": [
    {
     "name": "stderr",
     "output_type": "stream",
     "text": [
      "/home/silva/.local/lib/python3.6/site-packages/ipykernel_launcher.py:7: SettingWithCopyWarning: \n",
      "A value is trying to be set on a copy of a slice from a DataFrame.\n",
      "Try using .loc[row_indexer,col_indexer] = value instead\n",
      "\n",
      "See the caveats in the documentation: http://pandas.pydata.org/pandas-docs/stable/indexing.html#indexing-view-versus-copy\n",
      "  import sys\n"
     ]
    },
    {
     "data": {
      "text/html": [
       "<div>\n",
       "<style scoped>\n",
       "    .dataframe tbody tr th:only-of-type {\n",
       "        vertical-align: middle;\n",
       "    }\n",
       "\n",
       "    .dataframe tbody tr th {\n",
       "        vertical-align: top;\n",
       "    }\n",
       "\n",
       "    .dataframe thead th {\n",
       "        text-align: right;\n",
       "    }\n",
       "</style>\n",
       "<table border=\"1\" class=\"dataframe\">\n",
       "  <thead>\n",
       "    <tr style=\"text-align: right;\">\n",
       "      <th>SEXO</th>\n",
       "      <th>F</th>\n",
       "      <th>M</th>\n",
       "    </tr>\n",
       "    <tr>\n",
       "      <th>TIPO_OCORRENCIA_BINARIA</th>\n",
       "      <th></th>\n",
       "      <th></th>\n",
       "    </tr>\n",
       "  </thead>\n",
       "  <tbody>\n",
       "    <tr>\n",
       "      <th>NOK</th>\n",
       "      <td>43</td>\n",
       "      <td>762</td>\n",
       "    </tr>\n",
       "    <tr>\n",
       "      <th>OK</th>\n",
       "      <td>101</td>\n",
       "      <td>1217</td>\n",
       "    </tr>\n",
       "  </tbody>\n",
       "</table>\n",
       "</div>"
      ],
      "text/plain": [
       "SEXO                       F     M\n",
       "TIPO_OCORRENCIA_BINARIA           \n",
       "NOK                       43   762\n",
       "OK                       101  1217"
      ]
     },
     "execution_count": 26,
     "metadata": {},
     "output_type": "execute_result"
    }
   ],
   "source": [
    "def bin_ocorrencia(x):\n",
    "    if x == 'OK':\n",
    "        return 'OK'\n",
    "    return 'NOK'\n",
    "\n",
    "df_sexo = df_filtrada[['SEXO', 'TIPO_OCORRENCIA']]\n",
    "df_sexo['TIPO_OCORRENCIA_BINARIA'] = df_sexo['TIPO_OCORRENCIA'].apply(lambda x: bin_ocorrencia(x))\n",
    "df_sexo = unstack_group(df_sexo, 'SEXO', ['TIPO_OCORRENCIA_BINARIA'])\n",
    "\n",
    "df_sexo"
   ]
  },
  {
   "cell_type": "code",
   "execution_count": 27,
   "metadata": {},
   "outputs": [
    {
     "data": {
      "text/plain": [
       "(3.900597664258716,\n",
       " 0.048268933367307476,\n",
       " 1,\n",
       " array([[  54.60197833,  750.39802167],\n",
       "        [  89.39802167, 1228.60197833]]))"
      ]
     },
     "execution_count": 27,
     "metadata": {},
     "output_type": "execute_result"
    }
   ],
   "source": [
    "chi2_contingency(df_sexo)"
   ]
  },
  {
   "cell_type": "markdown",
   "metadata": {},
   "source": [
    "#### temos indícios que a média de distribuição de porcentagem de código coberto, entre os sexos, é diferente. Pelo teste de Mann-whitney, ao nível de significância de 5%, verificamos que devemos rejeitar a hipótese de que a distribuição possui a mesma média. Pelo gráfico e pela tabela de contingência, reparamos que a o sexo feminino possui uma concentração maior em ocorrências do Tipo Ok, ou seja, com porcentagem de código acima de 80%. Quanto ao grupo masculino, há uma maior disperção dos dados, quando comparado ao grupo de amostras do sexo feminino."
   ]
  },
  {
   "cell_type": "markdown",
   "metadata": {},
   "source": [
    "#### Corroborando o algorimto apriori, que demonstra 15,7% (400) do total de amostras sejam relacionadas a homens que cometeram \"erros\" de cobertura de código (pela definição da empresa), existem evidências de diferença entre as médias entre homens e mulheres nessa faixa de cobertura (erro), o que leva a crer que o sexo masculino tem uma tendência maior a produzir coberturas com porcentagens menores. "
   ]
  },
  {
   "cell_type": "markdown",
   "metadata": {},
   "source": [
    "-----"
   ]
  },
  {
   "cell_type": "markdown",
   "metadata": {},
   "source": [
    "### 2.2) Variável IDADE"
   ]
  },
  {
   "cell_type": "code",
   "execution_count": 28,
   "metadata": {},
   "outputs": [],
   "source": [
    "df_20 = df_filtrada[df_filtrada['FAIXA_ETARIA'] == '20 anos']\n",
    "df_30 = df_filtrada[df_filtrada['FAIXA_ETARIA'] == '30 anos']\n",
    "df_40 = df_filtrada[df_filtrada['FAIXA_ETARIA'] == 'acima 40 anos']"
   ]
  },
  {
   "cell_type": "code",
   "execution_count": 29,
   "metadata": {},
   "outputs": [
    {
     "data": {
      "image/png": "[encoded data removed]",
      "text/plain": [
       "<Figure size 360x360 with 1 Axes>"
      ]
     },
     "metadata": {
      "needs_background": "light"
     },
     "output_type": "display_data"
    }
   ],
   "source": [
    "plot_boxplot(df_filtrada['FAIXA_ETARIA'], df_filtrada['PORCENTAGEM_COBERTA'], 5, 5, 'FAIXA_ETARIA')"
   ]
  },
  {
   "cell_type": "code",
   "execution_count": 30,
   "metadata": {},
   "outputs": [
    {
     "data": {
      "text/plain": [
       "<matplotlib.axes._subplots.AxesSubplot at 0x7f56bd8a5208>"
      ]
     },
     "execution_count": 30,
     "metadata": {},
     "output_type": "execute_result"
    },
    {
     "data": {
      "image/png": "[encoded data removed]",
      "text/plain": [
       "<Figure size 432x288 with 1 Axes>"
      ]
     },
     "metadata": {
      "needs_background": "light"
     },
     "output_type": "display_data"
    }
   ],
   "source": [
    "sns.distplot(df_20['PORCENTAGEM_COBERTA'], hist = False, kde = True, kde_kws = {'shade': True, 'linewidth': 3},  label = '20 anos')\n",
    "sns.distplot(df_30['PORCENTAGEM_COBERTA'], hist = False, kde = True, kde_kws = {'shade': True, 'linewidth': 3},  label = '30 anos')\n",
    "sns.distplot(df_40['PORCENTAGEM_COBERTA'], hist = False, kde = True, kde_kws = {'shade': True, 'linewidth': 3},  label = '40 anos')"
   ]
  },
  {
   "cell_type": "code",
   "execution_count": 31,
   "metadata": {},
   "outputs": [
    {
     "name": "stdout",
     "output_type": "stream",
     "text": [
      "KruskalResult(statistic=88.29236422112848, pvalue=6.722900942903351e-20)\n"
     ]
    }
   ],
   "source": [
    "print(stats.kruskal(df_20['PORCENTAGEM_COBERTA'], df_30['PORCENTAGEM_COBERTA'], df_40['PORCENTAGEM_COBERTA']))"
   ]
  },
  {
   "cell_type": "code",
   "execution_count": 32,
   "metadata": {},
   "outputs": [
    {
     "data": {
      "text/html": [
       "<div>\n",
       "<style scoped>\n",
       "    .dataframe tbody tr th:only-of-type {\n",
       "        vertical-align: middle;\n",
       "    }\n",
       "\n",
       "    .dataframe tbody tr th {\n",
       "        vertical-align: top;\n",
       "    }\n",
       "\n",
       "    .dataframe thead th {\n",
       "        text-align: right;\n",
       "    }\n",
       "</style>\n",
       "<table border=\"1\" class=\"dataframe\">\n",
       "  <thead>\n",
       "    <tr style=\"text-align: right;\">\n",
       "      <th></th>\n",
       "      <th>20 anos</th>\n",
       "      <th>30 anos</th>\n",
       "      <th>acima 40 anos</th>\n",
       "    </tr>\n",
       "  </thead>\n",
       "  <tbody>\n",
       "    <tr>\n",
       "      <th>20 anos</th>\n",
       "      <td>-1.000000e+00</td>\n",
       "      <td>1.376883e-08</td>\n",
       "      <td>6.811854e-20</td>\n",
       "    </tr>\n",
       "    <tr>\n",
       "      <th>30 anos</th>\n",
       "      <td>1.376883e-08</td>\n",
       "      <td>-1.000000e+00</td>\n",
       "      <td>1.381302e-11</td>\n",
       "    </tr>\n",
       "    <tr>\n",
       "      <th>acima 40 anos</th>\n",
       "      <td>6.811854e-20</td>\n",
       "      <td>1.381302e-11</td>\n",
       "      <td>-1.000000e+00</td>\n",
       "    </tr>\n",
       "  </tbody>\n",
       "</table>\n",
       "</div>"
      ],
      "text/plain": [
       "                    20 anos       30 anos  acima 40 anos\n",
       "20 anos       -1.000000e+00  1.376883e-08   6.811854e-20\n",
       "30 anos        1.376883e-08 -1.000000e+00   1.381302e-11\n",
       "acima 40 anos  6.811854e-20  1.381302e-11  -1.000000e+00"
      ]
     },
     "execution_count": 32,
     "metadata": {},
     "output_type": "execute_result"
    }
   ],
   "source": [
    "sp.posthoc_dunn(df_filtrada, val_col='PORCENTAGEM_COBERTA', group_col='FAIXA_ETARIA', p_adjust = 'holm')"
   ]
  },
  {
   "cell_type": "markdown",
   "metadata": {},
   "source": [
    "#### -> Verificando os desenvolvedores do sexo masculino"
   ]
  },
  {
   "cell_type": "code",
   "execution_count": 73,
   "metadata": {},
   "outputs": [
    {
     "data": {
      "text/html": [
       "<div>\n",
       "<style scoped>\n",
       "    .dataframe tbody tr th:only-of-type {\n",
       "        vertical-align: middle;\n",
       "    }\n",
       "\n",
       "    .dataframe tbody tr th {\n",
       "        vertical-align: top;\n",
       "    }\n",
       "\n",
       "    .dataframe thead th {\n",
       "        text-align: right;\n",
       "    }\n",
       "</style>\n",
       "<table border=\"1\" class=\"dataframe\">\n",
       "  <thead>\n",
       "    <tr style=\"text-align: right;\">\n",
       "      <th></th>\n",
       "      <th>20 anos</th>\n",
       "      <th>30 anos</th>\n",
       "      <th>acima 40 anos</th>\n",
       "    </tr>\n",
       "  </thead>\n",
       "  <tbody>\n",
       "    <tr>\n",
       "      <th>20 anos</th>\n",
       "      <td>-1.000000e+00</td>\n",
       "      <td>7.112333e-09</td>\n",
       "      <td>1.981251e-19</td>\n",
       "    </tr>\n",
       "    <tr>\n",
       "      <th>30 anos</th>\n",
       "      <td>7.112333e-09</td>\n",
       "      <td>-1.000000e+00</td>\n",
       "      <td>1.322839e-10</td>\n",
       "    </tr>\n",
       "    <tr>\n",
       "      <th>acima 40 anos</th>\n",
       "      <td>1.981251e-19</td>\n",
       "      <td>1.322839e-10</td>\n",
       "      <td>-1.000000e+00</td>\n",
       "    </tr>\n",
       "  </tbody>\n",
       "</table>\n",
       "</div>"
      ],
      "text/plain": [
       "                    20 anos       30 anos  acima 40 anos\n",
       "20 anos       -1.000000e+00  7.112333e-09   1.981251e-19\n",
       "30 anos        7.112333e-09 -1.000000e+00   1.322839e-10\n",
       "acima 40 anos  1.981251e-19  1.322839e-10  -1.000000e+00"
      ]
     },
     "execution_count": 73,
     "metadata": {},
     "output_type": "execute_result"
    }
   ],
   "source": [
    "ph_sexo_m = sp.posthoc_dunn(df_filtrada[df_filtrada['SEXO']=='M'], val_col='PORCENTAGEM_COBERTA', group_col='FAIXA_ETARIA', p_adjust = 'holm')\n",
    "ph_sexo_m"
   ]
  },
  {
   "cell_type": "code",
   "execution_count": 74,
   "metadata": {},
   "outputs": [
    {
     "data": {
      "text/plain": [
       "(<matplotlib.axes._subplots.AxesSubplot at 0x7f56bd1c3240>,\n",
       " <matplotlib.colorbar.ColorbarBase at 0x7f56bd11ecf8>)"
      ]
     },
     "execution_count": 74,
     "metadata": {},
     "output_type": "execute_result"
    },
    {
     "data": {
      "image/png": "[encoded data removed]",
      "text/plain": [
       "<Figure size 432x288 with 2 Axes>"
      ]
     },
     "metadata": {
      "needs_background": "light"
     },
     "output_type": "display_data"
    }
   ],
   "source": [
    "heatmap_args = {'linewidths': 0.25, 'linecolor': '0.5', 'clip_on': False, 'square': True, 'cbar_ax_bbox': [0.80, 0.35, 0.04, 0.3]}\n",
    "sp.sign_plot(ph_sexo_m, **heatmap_args)"
   ]
  },
  {
   "cell_type": "markdown",
   "metadata": {},
   "source": [
    "#### -> Verificando os desenvolvedores do sexo feminino"
   ]
  },
  {
   "cell_type": "code",
   "execution_count": 77,
   "metadata": {},
   "outputs": [
    {
     "data": {
      "text/html": [
       "<div>\n",
       "<style scoped>\n",
       "    .dataframe tbody tr th:only-of-type {\n",
       "        vertical-align: middle;\n",
       "    }\n",
       "\n",
       "    .dataframe tbody tr th {\n",
       "        vertical-align: top;\n",
       "    }\n",
       "\n",
       "    .dataframe thead th {\n",
       "        text-align: right;\n",
       "    }\n",
       "</style>\n",
       "<table border=\"1\" class=\"dataframe\">\n",
       "  <thead>\n",
       "    <tr style=\"text-align: right;\">\n",
       "      <th></th>\n",
       "      <th>20 anos</th>\n",
       "      <th>30 anos</th>\n",
       "      <th>acima 40 anos</th>\n",
       "    </tr>\n",
       "  </thead>\n",
       "  <tbody>\n",
       "    <tr>\n",
       "      <th>20 anos</th>\n",
       "      <td>-1.000000</td>\n",
       "      <td>0.704307</td>\n",
       "      <td>0.372877</td>\n",
       "    </tr>\n",
       "    <tr>\n",
       "      <th>30 anos</th>\n",
       "      <td>0.704307</td>\n",
       "      <td>-1.000000</td>\n",
       "      <td>0.356289</td>\n",
       "    </tr>\n",
       "    <tr>\n",
       "      <th>acima 40 anos</th>\n",
       "      <td>0.372877</td>\n",
       "      <td>0.356289</td>\n",
       "      <td>-1.000000</td>\n",
       "    </tr>\n",
       "  </tbody>\n",
       "</table>\n",
       "</div>"
      ],
      "text/plain": [
       "                20 anos   30 anos  acima 40 anos\n",
       "20 anos       -1.000000  0.704307       0.372877\n",
       "30 anos        0.704307 -1.000000       0.356289\n",
       "acima 40 anos  0.372877  0.356289      -1.000000"
      ]
     },
     "execution_count": 77,
     "metadata": {},
     "output_type": "execute_result"
    }
   ],
   "source": [
    "ph_sexo_f = sp.posthoc_dunn(df_filtrada[df_filtrada['SEXO']=='F'], val_col='PORCENTAGEM_COBERTA', group_col='FAIXA_ETARIA', p_adjust = 'holm')\n",
    "ph_sexo_f"
   ]
  },
  {
   "cell_type": "code",
   "execution_count": 78,
   "metadata": {},
   "outputs": [
    {
     "data": {
      "text/plain": [
       "(<matplotlib.axes._subplots.AxesSubplot at 0x7f56bd140550>,\n",
       " <matplotlib.colorbar.ColorbarBase at 0x7f56bd11bc50>)"
      ]
     },
     "execution_count": 78,
     "metadata": {},
     "output_type": "execute_result"
    },
    {
     "data": {
      "image/png": "[encoded data removed]",
      "text/plain": [
       "<Figure size 432x288 with 2 Axes>"
      ]
     },
     "metadata": {
      "needs_background": "light"
     },
     "output_type": "display_data"
    }
   ],
   "source": [
    "heatmap_args = {'linewidths': 0.25, 'linecolor': '0.5', 'clip_on': False, 'square': True, 'cbar_ax_bbox': [0.80, 0.35, 0.04, 0.3]}\n",
    "sp.sign_plot(ph_sexo_f, **heatmap_args)"
   ]
  },
  {
   "cell_type": "markdown",
   "metadata": {},
   "source": [
    "#### Pelo teste de Kruskal wallis, rejeita-se a hipótese nula, pois há indícies que a média das distribuições são diferentes, quando se leva em conta a faixa etaria. Há indícios de diferença significativa. Utilizando um teste pos-hoc de Dunn para comparações entre pares mostram que podemos rejeitar a hipótese nula (p <0,05) para cada par de faixas etárias e concluir que todos os grupos (faixas etárias) diferem em suas porcentagens cobertas. Porém, quando filtramos os grupos por sexo, verificamos que os grupos masculinos diferem entre si, fato que não ocorre entre os grupos feminos."
   ]
  },
  {
   "cell_type": "code",
   "execution_count": null,
   "metadata": {},
   "outputs": [],
   "source": []
  },
  {
   "cell_type": "code",
   "execution_count": null,
   "metadata": {},
   "outputs": [],
   "source": []
  },
  {
   "cell_type": "markdown",
   "metadata": {},
   "source": [
    "## 2.3) Variável FUNÇÃO"
   ]
  },
  {
   "cell_type": "code",
   "execution_count": 38,
   "metadata": {},
   "outputs": [],
   "source": [
    "df_filtrada['NIVEL_FUNCAO'] = df_filtrada.NIVEL_FUNCAO.astype('category')\n",
    "df_filtrada['NIVEL_FUNCAO'] = df_filtrada['NIVEL_FUNCAO'].cat.reorder_categories(['0', 'H0', 'G0', 'F0', 'E0', 'D0'])\n",
    "df_filtrada['NIVEL_FUNCAO_COD'] =  df_filtrada['NIVEL_FUNCAO'].cat.codes + 1"
   ]
  },
  {
   "cell_type": "code",
   "execution_count": 39,
   "metadata": {},
   "outputs": [
    {
     "data": {
      "text/plain": [
       "NIVEL_FUNCAO_COD       1.000000\n",
       "PORCENTAGEM_COBERTA   -0.181711\n",
       "Name: NIVEL_FUNCAO_COD, dtype: float64"
      ]
     },
     "execution_count": 39,
     "metadata": {},
     "output_type": "execute_result"
    }
   ],
   "source": [
    "df_filtrada[['NIVEL_FUNCAO_COD', 'PORCENTAGEM_COBERTA']].corr().iloc[0] "
   ]
  },
  {
   "cell_type": "code",
   "execution_count": 55,
   "metadata": {},
   "outputs": [
    {
     "data": {
      "text/plain": [
       "2    1147\n",
       "4     516\n",
       "1     292\n",
       "5     133\n",
       "6      20\n",
       "3      15\n",
       "Name: NIVEL_FUNCAO_COD, dtype: int64"
      ]
     },
     "execution_count": 55,
     "metadata": {},
     "output_type": "execute_result"
    },
    {
     "data": {
      "image/png": "[encoded data removed]",
      "text/plain": [
       "<Figure size 432x288 with 1 Axes>"
      ]
     },
     "metadata": {
      "needs_background": "light"
     },
     "output_type": "display_data"
    }
   ],
   "source": [
    "df_filtrada['NIVEL_FUNCAO_COD'].value_counts().plot.bar()\n",
    "df_filtrada['NIVEL_FUNCAO_COD'].value_counts()\n",
    "#print(stats.kruskal(df_20['PORCENTAGEM_COBERTA'], df_30['PORCENTAGEM_COBERTA'], df_40['PORCENTAGEM_COBERTA']))"
   ]
  },
  {
   "cell_type": "code",
   "execution_count": 56,
   "metadata": {},
   "outputs": [],
   "source": [
    "df1 = df_filtrada[df_filtrada['NIVEL_FUNCAO_COD']==1]['PORCENTAGEM_COBERTA']\n",
    "df2 = df_filtrada[df_filtrada['NIVEL_FUNCAO_COD']==2]['PORCENTAGEM_COBERTA']\n",
    "df3 = df_filtrada[df_filtrada['NIVEL_FUNCAO_COD']==3]['PORCENTAGEM_COBERTA']\n",
    "df4 = df_filtrada[df_filtrada['NIVEL_FUNCAO_COD']==4]['PORCENTAGEM_COBERTA']\n",
    "df5 = df_filtrada[df_filtrada['NIVEL_FUNCAO_COD']==5]['PORCENTAGEM_COBERTA']\n",
    "df6 = df_filtrada[df_filtrada['NIVEL_FUNCAO_COD']==6]['PORCENTAGEM_COBERTA']"
   ]
  },
  {
   "cell_type": "code",
   "execution_count": 79,
   "metadata": {},
   "outputs": [
    {
     "name": "stderr",
     "output_type": "stream",
     "text": [
      "/usr/local/lib/python3.6/dist-packages/scipy/stats/stats.py:1713: FutureWarning: Using a non-tuple sequence for multidimensional indexing is deprecated; use `arr[tuple(seq)]` instead of `arr[seq]`. In the future this will be interpreted as an array index, `arr[np.array(seq)]`, which will result either in an error or a different result.\n",
      "  return np.add.reduce(sorted[indexer] * weights, axis=axis) / sumval\n"
     ]
    },
    {
     "data": {
      "text/plain": [
       "<matplotlib.axes._subplots.AxesSubplot at 0x7f56bd0c3c18>"
      ]
     },
     "execution_count": 79,
     "metadata": {},
     "output_type": "execute_result"
    },
    {
     "data": {
      "image/png": "[encoded data removed]",
      "text/plain": [
       "<Figure size 432x288 with 1 Axes>"
      ]
     },
     "metadata": {
      "needs_background": "light"
     },
     "output_type": "display_data"
    }
   ],
   "source": [
    "sns.distplot(df1, hist = False, kde = True, kde_kws = {'shade': True, 'linewidth': 3},  label = '1')\n",
    "sns.distplot(df2, hist = False, kde = True, kde_kws = {'shade': True, 'linewidth': 3},  label = '2')\n",
    "sns.distplot(df3, hist = False, kde = True, kde_kws = {'shade': True, 'linewidth': 3},  label = '3')\n",
    "sns.distplot(df4, hist = False, kde = True, kde_kws = {'shade': True, 'linewidth': 3},  label = '4')\n",
    "sns.distplot(df5, hist = False, kde = True, kde_kws = {'shade': True, 'linewidth': 3},  label = '5')\n",
    "sns.distplot(df6, hist = False, kde = True, kde_kws = {'shade': True, 'linewidth': 3},  label = '6')"
   ]
  },
  {
   "cell_type": "code",
   "execution_count": 81,
   "metadata": {},
   "outputs": [
    {
     "data": {
      "image/png": "[encoded data removed]",
      "text/plain": [
       "<Figure size 360x360 with 1 Axes>"
      ]
     },
     "metadata": {
      "needs_background": "light"
     },
     "output_type": "display_data"
    }
   ],
   "source": [
    "plot_boxplot(df_filtrada['NIVEL_FUNCAO_COD'], df_filtrada['PORCENTAGEM_COBERTA'], 5, 5, 'NIVEL_FUNCAO_COD')"
   ]
  },
  {
   "cell_type": "code",
   "execution_count": 58,
   "metadata": {},
   "outputs": [
    {
     "name": "stdout",
     "output_type": "stream",
     "text": [
      "KruskalResult(statistic=165.91393574334603, pvalue=7.875957490815196e-35)\n"
     ]
    }
   ],
   "source": [
    "print(stats.kruskal(df1,df2,df3,df4,df5))"
   ]
  },
  {
   "cell_type": "code",
   "execution_count": 70,
   "metadata": {},
   "outputs": [
    {
     "data": {
      "text/html": [
       "<div>\n",
       "<style scoped>\n",
       "    .dataframe tbody tr th:only-of-type {\n",
       "        vertical-align: middle;\n",
       "    }\n",
       "\n",
       "    .dataframe tbody tr th {\n",
       "        vertical-align: top;\n",
       "    }\n",
       "\n",
       "    .dataframe thead th {\n",
       "        text-align: right;\n",
       "    }\n",
       "</style>\n",
       "<table border=\"1\" class=\"dataframe\">\n",
       "  <thead>\n",
       "    <tr style=\"text-align: right;\">\n",
       "      <th></th>\n",
       "      <th>1</th>\n",
       "      <th>2</th>\n",
       "      <th>3</th>\n",
       "      <th>4</th>\n",
       "      <th>5</th>\n",
       "      <th>6</th>\n",
       "    </tr>\n",
       "  </thead>\n",
       "  <tbody>\n",
       "    <tr>\n",
       "      <th>1</th>\n",
       "      <td>-1.000000e+00</td>\n",
       "      <td>4.108756e-19</td>\n",
       "      <td>1.000000</td>\n",
       "      <td>2.529043e-34</td>\n",
       "      <td>2.224520e-15</td>\n",
       "      <td>0.436773</td>\n",
       "    </tr>\n",
       "    <tr>\n",
       "      <th>2</th>\n",
       "      <td>4.108756e-19</td>\n",
       "      <td>-1.000000e+00</td>\n",
       "      <td>0.451414</td>\n",
       "      <td>9.167261e-08</td>\n",
       "      <td>4.913748e-02</td>\n",
       "      <td>1.000000</td>\n",
       "    </tr>\n",
       "    <tr>\n",
       "      <th>3</th>\n",
       "      <td>1.000000e+00</td>\n",
       "      <td>4.514135e-01</td>\n",
       "      <td>-1.000000</td>\n",
       "      <td>4.814034e-02</td>\n",
       "      <td>9.362248e-02</td>\n",
       "      <td>1.000000</td>\n",
       "    </tr>\n",
       "    <tr>\n",
       "      <th>4</th>\n",
       "      <td>2.529043e-34</td>\n",
       "      <td>9.167261e-08</td>\n",
       "      <td>0.048140</td>\n",
       "      <td>-1.000000e+00</td>\n",
       "      <td>1.000000e+00</td>\n",
       "      <td>0.281797</td>\n",
       "    </tr>\n",
       "    <tr>\n",
       "      <th>5</th>\n",
       "      <td>2.224520e-15</td>\n",
       "      <td>4.913748e-02</td>\n",
       "      <td>0.093622</td>\n",
       "      <td>1.000000e+00</td>\n",
       "      <td>-1.000000e+00</td>\n",
       "      <td>0.436773</td>\n",
       "    </tr>\n",
       "    <tr>\n",
       "      <th>6</th>\n",
       "      <td>4.367728e-01</td>\n",
       "      <td>1.000000e+00</td>\n",
       "      <td>1.000000</td>\n",
       "      <td>2.817970e-01</td>\n",
       "      <td>4.367728e-01</td>\n",
       "      <td>-1.000000</td>\n",
       "    </tr>\n",
       "  </tbody>\n",
       "</table>\n",
       "</div>"
      ],
      "text/plain": [
       "              1             2         3             4             5         6\n",
       "1 -1.000000e+00  4.108756e-19  1.000000  2.529043e-34  2.224520e-15  0.436773\n",
       "2  4.108756e-19 -1.000000e+00  0.451414  9.167261e-08  4.913748e-02  1.000000\n",
       "3  1.000000e+00  4.514135e-01 -1.000000  4.814034e-02  9.362248e-02  1.000000\n",
       "4  2.529043e-34  9.167261e-08  0.048140 -1.000000e+00  1.000000e+00  0.281797\n",
       "5  2.224520e-15  4.913748e-02  0.093622  1.000000e+00 -1.000000e+00  0.436773\n",
       "6  4.367728e-01  1.000000e+00  1.000000  2.817970e-01  4.367728e-01 -1.000000"
      ]
     },
     "execution_count": 70,
     "metadata": {},
     "output_type": "execute_result"
    }
   ],
   "source": [
    "ph = sp.posthoc_dunn(df_filtrada, val_col='PORCENTAGEM_COBERTA', group_col='NIVEL_FUNCAO_COD', p_adjust = 'holm')\n",
    "ph"
   ]
  },
  {
   "cell_type": "code",
   "execution_count": 71,
   "metadata": {},
   "outputs": [
    {
     "data": {
      "text/plain": [
       "(<matplotlib.axes._subplots.AxesSubplot at 0x7f56bd271908>,\n",
       " <matplotlib.colorbar.ColorbarBase at 0x7f56bd19d940>)"
      ]
     },
     "execution_count": 71,
     "metadata": {},
     "output_type": "execute_result"
    },
    {
     "data": {
      "image/png": "[encoded data removed]",
      "text/plain": [
       "<Figure size 432x288 with 2 Axes>"
      ]
     },
     "metadata": {
      "needs_background": "light"
     },
     "output_type": "display_data"
    }
   ],
   "source": [
    "heatmap_args = {'linewidths': 0.25, 'linecolor': '0.5', 'clip_on': False, 'square': True, 'cbar_ax_bbox': [0.80, 0.35, 0.04, 0.3]}\n",
    "sp.sign_plot(ph, **heatmap_args)"
   ]
  },
  {
   "cell_type": "code",
   "execution_count": 64,
   "metadata": {},
   "outputs": [
    {
     "data": {
      "text/html": [
       "<div>\n",
       "<style scoped>\n",
       "    .dataframe tbody tr th:only-of-type {\n",
       "        vertical-align: middle;\n",
       "    }\n",
       "\n",
       "    .dataframe tbody tr th {\n",
       "        vertical-align: top;\n",
       "    }\n",
       "\n",
       "    .dataframe thead th {\n",
       "        text-align: right;\n",
       "    }\n",
       "</style>\n",
       "<table border=\"1\" class=\"dataframe\">\n",
       "  <thead>\n",
       "    <tr style=\"text-align: right;\">\n",
       "      <th>NIVEL_FUNCAO_COD</th>\n",
       "      <th>1</th>\n",
       "      <th>2</th>\n",
       "      <th>3</th>\n",
       "      <th>4</th>\n",
       "      <th>5</th>\n",
       "      <th>6</th>\n",
       "    </tr>\n",
       "    <tr>\n",
       "      <th>TIPO_OCORRENCIA</th>\n",
       "      <th></th>\n",
       "      <th></th>\n",
       "      <th></th>\n",
       "      <th></th>\n",
       "      <th></th>\n",
       "      <th></th>\n",
       "    </tr>\n",
       "  </thead>\n",
       "  <tbody>\n",
       "    <tr>\n",
       "      <th>OK</th>\n",
       "      <td>238</td>\n",
       "      <td>717</td>\n",
       "      <td>13</td>\n",
       "      <td>269</td>\n",
       "      <td>66</td>\n",
       "      <td>15</td>\n",
       "    </tr>\n",
       "    <tr>\n",
       "      <th>ALERTA</th>\n",
       "      <td>28</td>\n",
       "      <td>220</td>\n",
       "      <td>1</td>\n",
       "      <td>97</td>\n",
       "      <td>38</td>\n",
       "      <td>4</td>\n",
       "    </tr>\n",
       "    <tr>\n",
       "      <th>ERRO</th>\n",
       "      <td>26</td>\n",
       "      <td>210</td>\n",
       "      <td>1</td>\n",
       "      <td>150</td>\n",
       "      <td>29</td>\n",
       "      <td>1</td>\n",
       "    </tr>\n",
       "  </tbody>\n",
       "</table>\n",
       "</div>"
      ],
      "text/plain": [
       "NIVEL_FUNCAO_COD    1    2   3    4   5   6\n",
       "TIPO_OCORRENCIA                            \n",
       "OK                238  717  13  269  66  15\n",
       "ALERTA             28  220   1   97  38   4\n",
       "ERRO               26  210   1  150  29   1"
      ]
     },
     "execution_count": 64,
     "metadata": {},
     "output_type": "execute_result"
    }
   ],
   "source": [
    "df_funcao = df_filtrada[['NIVEL_FUNCAO_COD', 'TIPO_OCORRENCIA']]\n",
    "df_funcao = unstack_group(df_funcao, 'NIVEL_FUNCAO_COD', ['TIPO_OCORRENCIA'])\n",
    "df_funcao"
   ]
  },
  {
   "cell_type": "code",
   "execution_count": 82,
   "metadata": {},
   "outputs": [
    {
     "data": {
      "text/plain": [
       "(98.14708136302691,\n",
       " 1.2791464497450827e-16,\n",
       " 10,\n",
       " array([[181.27932171, 712.08007537,   9.31229392, 320.34291098,\n",
       "          82.56900612,  12.4163919 ],\n",
       "        [ 53.36599152, 209.62600094,   2.74140367,  94.30428639,\n",
       "          24.30711258,   3.6552049 ],\n",
       "        [ 57.35468676, 225.29392369,   2.9463024 , 101.35280264,\n",
       "          26.1238813 ,   3.9284032 ]]))"
      ]
     },
     "execution_count": 82,
     "metadata": {},
     "output_type": "execute_result"
    }
   ],
   "source": [
    "chi2_contingency(df_funcao)"
   ]
  },
  {
   "cell_type": "code",
   "execution_count": 84,
   "metadata": {},
   "outputs": [
    {
     "name": "stdout",
     "output_type": "stream",
     "text": [
      "99.48979591836735\n",
      "85.46637744034707\n",
      "92.3076923076923\n",
      "80.718954248366\n",
      "79.60526315789474\n",
      "86.87505660719137\n"
     ]
    }
   ],
   "source": [
    "print(df1.median())\n",
    "print(df2.median())\n",
    "print(df3.median())\n",
    "print(df4.median())\n",
    "print(df5.median())\n",
    "print(df6.median())\n"
   ]
  },
  {
   "cell_type": "markdown",
   "metadata": {},
   "source": [
    "### Verificando o dataset, foi percebido que há diferença entre as diferentes funções dentro da empresa. É importante notar que dentro da empresa, as funções mais altas tendem a receber o código já com cobertura alta, pois de modo geral não há envolvimento no processo de codificação, o que se traduz em baixas amostragens e altos níveis de porcentagem de cobertura."
   ]
  },
  {
   "cell_type": "code",
   "execution_count": null,
   "metadata": {},
   "outputs": [],
   "source": []
  },
  {
   "cell_type": "markdown",
   "metadata": {},
   "source": [
    "## 2.4) Variável TEMPO EMPRESA"
   ]
  },
  {
   "cell_type": "code",
   "execution_count": 86,
   "metadata": {},
   "outputs": [
    {
     "name": "stderr",
     "output_type": "stream",
     "text": [
      "/home/silva/.local/lib/python3.6/site-packages/ipykernel_launcher.py:2: SettingWithCopyWarning: \n",
      "A value is trying to be set on a copy of a slice from a DataFrame.\n",
      "Try using .loc[row_indexer,col_indexer] = value instead\n",
      "\n",
      "See the caveats in the documentation: http://pandas.pydata.org/pandas-docs/stable/indexing.html#indexing-view-versus-copy\n",
      "  \n"
     ]
    },
    {
     "data": {
      "text/plain": [
       "<matplotlib.axes._subplots.AxesSubplot at 0x7f56bcd83828>"
      ]
     },
     "execution_count": 86,
     "metadata": {},
     "output_type": "execute_result"
    },
    {
     "data": {
      "image/png": "[encoded data removed]",
      "text/plain": [
       "<Figure size 432x288 with 1 Axes>"
      ]
     },
     "metadata": {
      "needs_background": "light"
     },
     "output_type": "display_data"
    }
   ],
   "source": [
    "df_filtrada['BIN_TEMPO_EMPRESA'] = binning(df_filtrada['TEMPO_EMPRESA'])\n",
    "usuarios['BIN_TEMPO_EMPRESA'] = binning(usuarios['TEMPO_EMPRESA'])\n",
    "usuarios['BIN_TEMPO_EMPRESA'].value_counts().plot.bar()"
   ]
  },
  {
   "cell_type": "code",
   "execution_count": 92,
   "metadata": {},
   "outputs": [],
   "source": [
    "labels_tempoempresa = usuarios['BIN_TEMPO_EMPRESA'].unique()"
   ]
  },
  {
   "cell_type": "code",
   "execution_count": 93,
   "metadata": {},
   "outputs": [],
   "source": [
    "dfs = {}\n",
    "for tempo_empresa in labels_tempoempresa:\n",
    "    dfs[tempo_empresa] = df_filtrada[df_filtrada['BIN_TEMPO_EMPRESA']==tempo_empresa]['PORCENTAGEM_COBERTA']"
   ]
  },
  {
   "cell_type": "code",
   "execution_count": 95,
   "metadata": {},
   "outputs": [
    {
     "data": {
      "text/html": [
       "<div>\n",
       "<style scoped>\n",
       "    .dataframe tbody tr th:only-of-type {\n",
       "        vertical-align: middle;\n",
       "    }\n",
       "\n",
       "    .dataframe tbody tr th {\n",
       "        vertical-align: top;\n",
       "    }\n",
       "\n",
       "    .dataframe thead th {\n",
       "        text-align: right;\n",
       "    }\n",
       "</style>\n",
       "<table border=\"1\" class=\"dataframe\">\n",
       "  <thead>\n",
       "    <tr style=\"text-align: right;\">\n",
       "      <th>BIN_TEMPO_EMPRESA</th>\n",
       "      <th>(-Inf,1.0)</th>\n",
       "      <th>(2.764705882352941,4.529411764705882)</th>\n",
       "      <th>(4.529411764705882,6.294117647058823)</th>\n",
       "      <th>(6.294117647058823,8.058823529411764)</th>\n",
       "      <th>(8.058823529411764,9.823529411764707)</th>\n",
       "      <th>(9.823529411764707,11.588235294117647)</th>\n",
       "      <th>(13.352941176470587,15.117647058823529)</th>\n",
       "      <th>(15.117647058823529,16.88235294117647)</th>\n",
       "      <th>(16.88235294117647,18.647058823529413)</th>\n",
       "      <th>(29.235294117647058,31.0)</th>\n",
       "      <th>(11.588235294117647,13.352941176470587)</th>\n",
       "    </tr>\n",
       "    <tr>\n",
       "      <th>TIPO_OCORRENCIA</th>\n",
       "      <th></th>\n",
       "      <th></th>\n",
       "      <th></th>\n",
       "      <th></th>\n",
       "      <th></th>\n",
       "      <th></th>\n",
       "      <th></th>\n",
       "      <th></th>\n",
       "      <th></th>\n",
       "      <th></th>\n",
       "      <th></th>\n",
       "    </tr>\n",
       "  </thead>\n",
       "  <tbody>\n",
       "    <tr>\n",
       "      <th>OK</th>\n",
       "      <td>204.0</td>\n",
       "      <td>108.0</td>\n",
       "      <td>358.0</td>\n",
       "      <td>135.0</td>\n",
       "      <td>155.0</td>\n",
       "      <td>312.0</td>\n",
       "      <td>2.0</td>\n",
       "      <td>22.0</td>\n",
       "      <td>10.0</td>\n",
       "      <td>12.0</td>\n",
       "      <td>0.0</td>\n",
       "    </tr>\n",
       "    <tr>\n",
       "      <th>ALERTA</th>\n",
       "      <td>17.0</td>\n",
       "      <td>46.0</td>\n",
       "      <td>116.0</td>\n",
       "      <td>42.0</td>\n",
       "      <td>49.0</td>\n",
       "      <td>100.0</td>\n",
       "      <td>1.0</td>\n",
       "      <td>13.0</td>\n",
       "      <td>3.0</td>\n",
       "      <td>1.0</td>\n",
       "      <td>0.0</td>\n",
       "    </tr>\n",
       "    <tr>\n",
       "      <th>ERRO</th>\n",
       "      <td>13.0</td>\n",
       "      <td>68.0</td>\n",
       "      <td>90.0</td>\n",
       "      <td>70.0</td>\n",
       "      <td>59.0</td>\n",
       "      <td>99.0</td>\n",
       "      <td>0.0</td>\n",
       "      <td>11.0</td>\n",
       "      <td>4.0</td>\n",
       "      <td>1.0</td>\n",
       "      <td>2.0</td>\n",
       "    </tr>\n",
       "  </tbody>\n",
       "</table>\n",
       "</div>"
      ],
      "text/plain": [
       "BIN_TEMPO_EMPRESA  (-Inf,1.0)  (2.764705882352941,4.529411764705882)  \\\n",
       "TIPO_OCORRENCIA                                                        \n",
       "OK                      204.0                                  108.0   \n",
       "ALERTA                   17.0                                   46.0   \n",
       "ERRO                     13.0                                   68.0   \n",
       "\n",
       "BIN_TEMPO_EMPRESA  (4.529411764705882,6.294117647058823)  \\\n",
       "TIPO_OCORRENCIA                                            \n",
       "OK                                                 358.0   \n",
       "ALERTA                                             116.0   \n",
       "ERRO                                                90.0   \n",
       "\n",
       "BIN_TEMPO_EMPRESA  (6.294117647058823,8.058823529411764)  \\\n",
       "TIPO_OCORRENCIA                                            \n",
       "OK                                                 135.0   \n",
       "ALERTA                                              42.0   \n",
       "ERRO                                                70.0   \n",
       "\n",
       "BIN_TEMPO_EMPRESA  (8.058823529411764,9.823529411764707)  \\\n",
       "TIPO_OCORRENCIA                                            \n",
       "OK                                                 155.0   \n",
       "ALERTA                                              49.0   \n",
       "ERRO                                                59.0   \n",
       "\n",
       "BIN_TEMPO_EMPRESA  (9.823529411764707,11.588235294117647)  \\\n",
       "TIPO_OCORRENCIA                                             \n",
       "OK                                                  312.0   \n",
       "ALERTA                                              100.0   \n",
       "ERRO                                                 99.0   \n",
       "\n",
       "BIN_TEMPO_EMPRESA  (13.352941176470587,15.117647058823529)  \\\n",
       "TIPO_OCORRENCIA                                              \n",
       "OK                                                     2.0   \n",
       "ALERTA                                                 1.0   \n",
       "ERRO                                                   0.0   \n",
       "\n",
       "BIN_TEMPO_EMPRESA  (15.117647058823529,16.88235294117647)  \\\n",
       "TIPO_OCORRENCIA                                             \n",
       "OK                                                   22.0   \n",
       "ALERTA                                               13.0   \n",
       "ERRO                                                 11.0   \n",
       "\n",
       "BIN_TEMPO_EMPRESA  (16.88235294117647,18.647058823529413)  \\\n",
       "TIPO_OCORRENCIA                                             \n",
       "OK                                                   10.0   \n",
       "ALERTA                                                3.0   \n",
       "ERRO                                                  4.0   \n",
       "\n",
       "BIN_TEMPO_EMPRESA  (29.235294117647058,31.0)  \\\n",
       "TIPO_OCORRENCIA                                \n",
       "OK                                      12.0   \n",
       "ALERTA                                   1.0   \n",
       "ERRO                                     1.0   \n",
       "\n",
       "BIN_TEMPO_EMPRESA  (11.588235294117647,13.352941176470587)  \n",
       "TIPO_OCORRENCIA                                             \n",
       "OK                                                     0.0  \n",
       "ALERTA                                                 0.0  \n",
       "ERRO                                                   2.0  "
      ]
     },
     "execution_count": 95,
     "metadata": {},
     "output_type": "execute_result"
    }
   ],
   "source": [
    "df_temp_empresa = df_filtrada[['BIN_TEMPO_EMPRESA', 'TIPO_OCORRENCIA']]\n",
    "df_temp_empresa = unstack_group(df_temp_empresa, 'BIN_TEMPO_EMPRESA', ['TIPO_OCORRENCIA'])\n",
    "df_temp_empresa"
   ]
  },
  {
   "cell_type": "code",
   "execution_count": 96,
   "metadata": {},
   "outputs": [
    {
     "data": {
      "text/plain": [
       "(120.48848236172441,\n",
       " 2.3151719845951274e-16,\n",
       " 20,\n",
       " array([[145.27178521, 137.82195007, 350.14225153, 153.34243994,\n",
       "         163.27555346, 317.238813  ,   1.86245878,  28.55770137,\n",
       "          10.55393311,   8.69147433,   1.24163919],\n",
       "        [ 42.76589732,  40.57277438, 103.07677814,  45.1417805 ,\n",
       "          48.06594442,  93.39048516,   0.54828073,   8.40697127,\n",
       "           3.10692416,   2.55864343,   0.36552049],\n",
       "        [ 45.96231748,  43.60527555, 110.78097033,  48.51577956,\n",
       "          51.65850212, 100.37070184,   0.58926048,   9.03532737,\n",
       "           3.33914272,   2.74988224,   0.39284032]]))"
      ]
     },
     "execution_count": 96,
     "metadata": {},
     "output_type": "execute_result"
    }
   ],
   "source": [
    "chi2_contingency(df_temp_empresa)"
   ]
  },
  {
   "cell_type": "code",
   "execution_count": 98,
   "metadata": {},
   "outputs": [
    {
     "data": {
      "image/png": "[encoded data removed]",
      "text/plain": [
       "<Figure size 360x360 with 1 Axes>"
      ]
     },
     "metadata": {
      "needs_background": "light"
     },
     "output_type": "display_data"
    }
   ],
   "source": [
    "\n",
    "plot_boxplot(df_filtrada['BIN_TEMPO_EMPRESA'], df_filtrada['PORCENTAGEM_COBERTA'], 5, 5, 'BIN_TEMPO_EMPRESA')"
   ]
  },
  {
   "cell_type": "code",
   "execution_count": 128,
   "metadata": {},
   "outputs": [
    {
     "data": {
      "text/plain": [
       "<matplotlib.axes._subplots.AxesSubplot at 0x7f56bc27ff60>"
      ]
     },
     "execution_count": 128,
     "metadata": {},
     "output_type": "execute_result"
    },
    {
     "data": {
      "image/png": "[encoded data removed]",
      "text/plain": [
       "<Figure size 432x288 with 1 Axes>"
      ]
     },
     "metadata": {
      "needs_background": "light"
     },
     "output_type": "display_data"
    }
   ],
   "source": [
    "counts = df_filtrada['BIN_TEMPO_EMPRESA'].value_counts()\n",
    "filtro_tempo = counts[counts> 200]\n",
    "df_tempo_filtrado = df_filtrada[df_filtrada['BIN_TEMPO_EMPRESA'].isin(filtro_tempo.index)]\n",
    "df_tempo_filtrado['BIN_TEMPO_EMPRESA'].value_counts().plot.bar()"
   ]
  },
  {
   "cell_type": "code",
   "execution_count": 134,
   "metadata": {},
   "outputs": [],
   "source": [
    "tempos = df_tempo_filtrado['BIN_TEMPO_EMPRESA'].unique().sort_values()\n",
    "df1 = df_tempo_filtrado[]"
   ]
  },
  {
   "cell_type": "code",
   "execution_count": null,
   "metadata": {},
   "outputs": [],
   "source": []
  }
 ],
 "metadata": {
  "kernelspec": {
   "display_name": "Python 3",
   "language": "python",
   "name": "python3"
  },
  "language_info": {
   "codemirror_mode": {
    "name": "ipython",
    "version": 3
   },
   "file_extension": ".py",
   "mimetype": "text/x-python",
   "name": "python",
   "nbconvert_exporter": "python",
   "pygments_lexer": "ipython3",
   "version": "3.6.7"
  }
 },
 "nbformat": 4,
 "nbformat_minor": 2
}
